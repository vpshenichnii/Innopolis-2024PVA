{
 "cells": [
  {
   "cell_type": "code",
   "execution_count": 14,
   "id": "af66e22a",
   "metadata": {},
   "outputs": [],
   "source": [
    "import pandas as pd\n",
    "import statsmodels.api as sm\n",
    "import numpy as np\n",
    "from scipy import stats"
   ]
  },
  {
   "cell_type": "markdown",
   "id": "7267d662",
   "metadata": {},
   "source": [
    "### Загружаем данные"
   ]
  },
  {
   "cell_type": "code",
   "execution_count": 26,
   "id": "6b59ffa7",
   "metadata": {},
   "outputs": [
    {
     "data": {
      "text/html": [
       "<div>\n",
       "<style scoped>\n",
       "    .dataframe tbody tr th:only-of-type {\n",
       "        vertical-align: middle;\n",
       "    }\n",
       "\n",
       "    .dataframe tbody tr th {\n",
       "        vertical-align: top;\n",
       "    }\n",
       "\n",
       "    .dataframe thead th {\n",
       "        text-align: right;\n",
       "    }\n",
       "</style>\n",
       "<table border=\"1\" class=\"dataframe\">\n",
       "  <thead>\n",
       "    <tr style=\"text-align: right;\">\n",
       "      <th></th>\n",
       "      <th>ofp</th>\n",
       "      <th>ofnp</th>\n",
       "      <th>opp</th>\n",
       "      <th>opnp</th>\n",
       "      <th>emr</th>\n",
       "      <th>hosp</th>\n",
       "      <th>numchron</th>\n",
       "      <th>adldiff</th>\n",
       "      <th>age</th>\n",
       "      <th>black</th>\n",
       "      <th>sex</th>\n",
       "      <th>maried</th>\n",
       "      <th>school</th>\n",
       "      <th>faminc</th>\n",
       "      <th>employed</th>\n",
       "      <th>privins</th>\n",
       "      <th>medicaid</th>\n",
       "      <th>region</th>\n",
       "      <th>hlth</th>\n",
       "    </tr>\n",
       "  </thead>\n",
       "  <tbody>\n",
       "    <tr>\n",
       "      <th>0</th>\n",
       "      <td>5</td>\n",
       "      <td>0</td>\n",
       "      <td>0</td>\n",
       "      <td>0</td>\n",
       "      <td>0</td>\n",
       "      <td>1</td>\n",
       "      <td>2</td>\n",
       "      <td>0</td>\n",
       "      <td>6.9</td>\n",
       "      <td>yes</td>\n",
       "      <td>male</td>\n",
       "      <td>yes</td>\n",
       "      <td>6</td>\n",
       "      <td>2.881000</td>\n",
       "      <td>yes</td>\n",
       "      <td>yes</td>\n",
       "      <td>no</td>\n",
       "      <td>other</td>\n",
       "      <td>other</td>\n",
       "    </tr>\n",
       "    <tr>\n",
       "      <th>1</th>\n",
       "      <td>1</td>\n",
       "      <td>0</td>\n",
       "      <td>2</td>\n",
       "      <td>0</td>\n",
       "      <td>2</td>\n",
       "      <td>0</td>\n",
       "      <td>2</td>\n",
       "      <td>0</td>\n",
       "      <td>7.4</td>\n",
       "      <td>no</td>\n",
       "      <td>female</td>\n",
       "      <td>yes</td>\n",
       "      <td>10</td>\n",
       "      <td>2.747800</td>\n",
       "      <td>no</td>\n",
       "      <td>yes</td>\n",
       "      <td>no</td>\n",
       "      <td>other</td>\n",
       "      <td>other</td>\n",
       "    </tr>\n",
       "    <tr>\n",
       "      <th>2</th>\n",
       "      <td>13</td>\n",
       "      <td>0</td>\n",
       "      <td>0</td>\n",
       "      <td>0</td>\n",
       "      <td>3</td>\n",
       "      <td>3</td>\n",
       "      <td>4</td>\n",
       "      <td>1</td>\n",
       "      <td>6.6</td>\n",
       "      <td>yes</td>\n",
       "      <td>female</td>\n",
       "      <td>no</td>\n",
       "      <td>10</td>\n",
       "      <td>0.653200</td>\n",
       "      <td>no</td>\n",
       "      <td>no</td>\n",
       "      <td>yes</td>\n",
       "      <td>other</td>\n",
       "      <td>poor</td>\n",
       "    </tr>\n",
       "    <tr>\n",
       "      <th>3</th>\n",
       "      <td>16</td>\n",
       "      <td>0</td>\n",
       "      <td>5</td>\n",
       "      <td>0</td>\n",
       "      <td>1</td>\n",
       "      <td>1</td>\n",
       "      <td>2</td>\n",
       "      <td>1</td>\n",
       "      <td>7.6</td>\n",
       "      <td>no</td>\n",
       "      <td>male</td>\n",
       "      <td>yes</td>\n",
       "      <td>3</td>\n",
       "      <td>0.658800</td>\n",
       "      <td>no</td>\n",
       "      <td>yes</td>\n",
       "      <td>no</td>\n",
       "      <td>other</td>\n",
       "      <td>poor</td>\n",
       "    </tr>\n",
       "    <tr>\n",
       "      <th>4</th>\n",
       "      <td>3</td>\n",
       "      <td>0</td>\n",
       "      <td>0</td>\n",
       "      <td>0</td>\n",
       "      <td>0</td>\n",
       "      <td>0</td>\n",
       "      <td>2</td>\n",
       "      <td>1</td>\n",
       "      <td>7.9</td>\n",
       "      <td>no</td>\n",
       "      <td>female</td>\n",
       "      <td>yes</td>\n",
       "      <td>6</td>\n",
       "      <td>0.658800</td>\n",
       "      <td>no</td>\n",
       "      <td>yes</td>\n",
       "      <td>no</td>\n",
       "      <td>other</td>\n",
       "      <td>other</td>\n",
       "    </tr>\n",
       "    <tr>\n",
       "      <th>5</th>\n",
       "      <td>17</td>\n",
       "      <td>0</td>\n",
       "      <td>0</td>\n",
       "      <td>0</td>\n",
       "      <td>0</td>\n",
       "      <td>0</td>\n",
       "      <td>5</td>\n",
       "      <td>1</td>\n",
       "      <td>6.6</td>\n",
       "      <td>no</td>\n",
       "      <td>female</td>\n",
       "      <td>no</td>\n",
       "      <td>7</td>\n",
       "      <td>0.330100</td>\n",
       "      <td>no</td>\n",
       "      <td>no</td>\n",
       "      <td>yes</td>\n",
       "      <td>other</td>\n",
       "      <td>poor</td>\n",
       "    </tr>\n",
       "    <tr>\n",
       "      <th>6</th>\n",
       "      <td>9</td>\n",
       "      <td>0</td>\n",
       "      <td>0</td>\n",
       "      <td>0</td>\n",
       "      <td>0</td>\n",
       "      <td>0</td>\n",
       "      <td>0</td>\n",
       "      <td>0</td>\n",
       "      <td>7.5</td>\n",
       "      <td>no</td>\n",
       "      <td>female</td>\n",
       "      <td>no</td>\n",
       "      <td>8</td>\n",
       "      <td>0.828000</td>\n",
       "      <td>no</td>\n",
       "      <td>yes</td>\n",
       "      <td>no</td>\n",
       "      <td>midwest</td>\n",
       "      <td>other</td>\n",
       "    </tr>\n",
       "    <tr>\n",
       "      <th>7</th>\n",
       "      <td>3</td>\n",
       "      <td>0</td>\n",
       "      <td>0</td>\n",
       "      <td>0</td>\n",
       "      <td>0</td>\n",
       "      <td>0</td>\n",
       "      <td>0</td>\n",
       "      <td>0</td>\n",
       "      <td>8.7</td>\n",
       "      <td>no</td>\n",
       "      <td>female</td>\n",
       "      <td>no</td>\n",
       "      <td>8</td>\n",
       "      <td>3.045600</td>\n",
       "      <td>no</td>\n",
       "      <td>yes</td>\n",
       "      <td>no</td>\n",
       "      <td>midwest</td>\n",
       "      <td>other</td>\n",
       "    </tr>\n",
       "    <tr>\n",
       "      <th>8</th>\n",
       "      <td>1</td>\n",
       "      <td>0</td>\n",
       "      <td>0</td>\n",
       "      <td>0</td>\n",
       "      <td>0</td>\n",
       "      <td>0</td>\n",
       "      <td>0</td>\n",
       "      <td>0</td>\n",
       "      <td>7.3</td>\n",
       "      <td>no</td>\n",
       "      <td>female</td>\n",
       "      <td>no</td>\n",
       "      <td>8</td>\n",
       "      <td>3.045600</td>\n",
       "      <td>no</td>\n",
       "      <td>yes</td>\n",
       "      <td>no</td>\n",
       "      <td>midwest</td>\n",
       "      <td>other</td>\n",
       "    </tr>\n",
       "    <tr>\n",
       "      <th>9</th>\n",
       "      <td>0</td>\n",
       "      <td>0</td>\n",
       "      <td>0</td>\n",
       "      <td>0</td>\n",
       "      <td>0</td>\n",
       "      <td>0</td>\n",
       "      <td>0</td>\n",
       "      <td>0</td>\n",
       "      <td>7.8</td>\n",
       "      <td>no</td>\n",
       "      <td>female</td>\n",
       "      <td>no</td>\n",
       "      <td>8</td>\n",
       "      <td>3.045600</td>\n",
       "      <td>no</td>\n",
       "      <td>yes</td>\n",
       "      <td>no</td>\n",
       "      <td>midwest</td>\n",
       "      <td>other</td>\n",
       "    </tr>\n",
       "    <tr>\n",
       "      <th>10</th>\n",
       "      <td>0</td>\n",
       "      <td>0</td>\n",
       "      <td>0</td>\n",
       "      <td>0</td>\n",
       "      <td>0</td>\n",
       "      <td>0</td>\n",
       "      <td>1</td>\n",
       "      <td>0</td>\n",
       "      <td>6.6</td>\n",
       "      <td>no</td>\n",
       "      <td>male</td>\n",
       "      <td>yes</td>\n",
       "      <td>8</td>\n",
       "      <td>2.949800</td>\n",
       "      <td>yes</td>\n",
       "      <td>yes</td>\n",
       "      <td>no</td>\n",
       "      <td>midwest</td>\n",
       "      <td>other</td>\n",
       "    </tr>\n",
       "    <tr>\n",
       "      <th>11</th>\n",
       "      <td>44</td>\n",
       "      <td>5</td>\n",
       "      <td>2</td>\n",
       "      <td>0</td>\n",
       "      <td>0</td>\n",
       "      <td>1</td>\n",
       "      <td>5</td>\n",
       "      <td>1</td>\n",
       "      <td>6.9</td>\n",
       "      <td>no</td>\n",
       "      <td>female</td>\n",
       "      <td>yes</td>\n",
       "      <td>15</td>\n",
       "      <td>2.949800</td>\n",
       "      <td>no</td>\n",
       "      <td>yes</td>\n",
       "      <td>no</td>\n",
       "      <td>midwest</td>\n",
       "      <td>other</td>\n",
       "    </tr>\n",
       "    <tr>\n",
       "      <th>12</th>\n",
       "      <td>2</td>\n",
       "      <td>0</td>\n",
       "      <td>0</td>\n",
       "      <td>0</td>\n",
       "      <td>0</td>\n",
       "      <td>0</td>\n",
       "      <td>1</td>\n",
       "      <td>1</td>\n",
       "      <td>8.4</td>\n",
       "      <td>no</td>\n",
       "      <td>female</td>\n",
       "      <td>no</td>\n",
       "      <td>8</td>\n",
       "      <td>0.898800</td>\n",
       "      <td>no</td>\n",
       "      <td>no</td>\n",
       "      <td>no</td>\n",
       "      <td>midwest</td>\n",
       "      <td>other</td>\n",
       "    </tr>\n",
       "    <tr>\n",
       "      <th>13</th>\n",
       "      <td>1</td>\n",
       "      <td>0</td>\n",
       "      <td>0</td>\n",
       "      <td>0</td>\n",
       "      <td>0</td>\n",
       "      <td>0</td>\n",
       "      <td>1</td>\n",
       "      <td>1</td>\n",
       "      <td>8.1</td>\n",
       "      <td>no</td>\n",
       "      <td>female</td>\n",
       "      <td>no</td>\n",
       "      <td>8</td>\n",
       "      <td>0.898800</td>\n",
       "      <td>no</td>\n",
       "      <td>no</td>\n",
       "      <td>yes</td>\n",
       "      <td>midwest</td>\n",
       "      <td>poor</td>\n",
       "    </tr>\n",
       "    <tr>\n",
       "      <th>14</th>\n",
       "      <td>19</td>\n",
       "      <td>0</td>\n",
       "      <td>1</td>\n",
       "      <td>2</td>\n",
       "      <td>0</td>\n",
       "      <td>1</td>\n",
       "      <td>1</td>\n",
       "      <td>0</td>\n",
       "      <td>7.8</td>\n",
       "      <td>no</td>\n",
       "      <td>female</td>\n",
       "      <td>no</td>\n",
       "      <td>12</td>\n",
       "      <td>6.065400</td>\n",
       "      <td>no</td>\n",
       "      <td>yes</td>\n",
       "      <td>no</td>\n",
       "      <td>midwest</td>\n",
       "      <td>other</td>\n",
       "    </tr>\n",
       "    <tr>\n",
       "      <th>15</th>\n",
       "      <td>19</td>\n",
       "      <td>0</td>\n",
       "      <td>0</td>\n",
       "      <td>0</td>\n",
       "      <td>0</td>\n",
       "      <td>0</td>\n",
       "      <td>0</td>\n",
       "      <td>0</td>\n",
       "      <td>7.6</td>\n",
       "      <td>no</td>\n",
       "      <td>female</td>\n",
       "      <td>no</td>\n",
       "      <td>8</td>\n",
       "      <td>0.600400</td>\n",
       "      <td>no</td>\n",
       "      <td>no</td>\n",
       "      <td>no</td>\n",
       "      <td>midwest</td>\n",
       "      <td>other</td>\n",
       "    </tr>\n",
       "    <tr>\n",
       "      <th>16</th>\n",
       "      <td>0</td>\n",
       "      <td>0</td>\n",
       "      <td>0</td>\n",
       "      <td>0</td>\n",
       "      <td>0</td>\n",
       "      <td>0</td>\n",
       "      <td>1</td>\n",
       "      <td>1</td>\n",
       "      <td>8.3</td>\n",
       "      <td>no</td>\n",
       "      <td>male</td>\n",
       "      <td>yes</td>\n",
       "      <td>8</td>\n",
       "      <td>0.598800</td>\n",
       "      <td>no</td>\n",
       "      <td>no</td>\n",
       "      <td>yes</td>\n",
       "      <td>midwest</td>\n",
       "      <td>other</td>\n",
       "    </tr>\n",
       "    <tr>\n",
       "      <th>17</th>\n",
       "      <td>3</td>\n",
       "      <td>9</td>\n",
       "      <td>1</td>\n",
       "      <td>0</td>\n",
       "      <td>0</td>\n",
       "      <td>0</td>\n",
       "      <td>2</td>\n",
       "      <td>1</td>\n",
       "      <td>8.0</td>\n",
       "      <td>no</td>\n",
       "      <td>female</td>\n",
       "      <td>yes</td>\n",
       "      <td>8</td>\n",
       "      <td>0.598800</td>\n",
       "      <td>no</td>\n",
       "      <td>no</td>\n",
       "      <td>yes</td>\n",
       "      <td>midwest</td>\n",
       "      <td>other</td>\n",
       "    </tr>\n",
       "    <tr>\n",
       "      <th>18</th>\n",
       "      <td>2</td>\n",
       "      <td>0</td>\n",
       "      <td>0</td>\n",
       "      <td>0</td>\n",
       "      <td>0</td>\n",
       "      <td>0</td>\n",
       "      <td>3</td>\n",
       "      <td>0</td>\n",
       "      <td>7.3</td>\n",
       "      <td>yes</td>\n",
       "      <td>male</td>\n",
       "      <td>yes</td>\n",
       "      <td>10</td>\n",
       "      <td>1.266000</td>\n",
       "      <td>no</td>\n",
       "      <td>no</td>\n",
       "      <td>no</td>\n",
       "      <td>midwest</td>\n",
       "      <td>other</td>\n",
       "    </tr>\n",
       "    <tr>\n",
       "      <th>19</th>\n",
       "      <td>12</td>\n",
       "      <td>0</td>\n",
       "      <td>2</td>\n",
       "      <td>0</td>\n",
       "      <td>0</td>\n",
       "      <td>0</td>\n",
       "      <td>4</td>\n",
       "      <td>0</td>\n",
       "      <td>7.4</td>\n",
       "      <td>no</td>\n",
       "      <td>male</td>\n",
       "      <td>no</td>\n",
       "      <td>12</td>\n",
       "      <td>1.906011</td>\n",
       "      <td>no</td>\n",
       "      <td>yes</td>\n",
       "      <td>no</td>\n",
       "      <td>midwest</td>\n",
       "      <td>other</td>\n",
       "    </tr>\n",
       "    <tr>\n",
       "      <th>20</th>\n",
       "      <td>2</td>\n",
       "      <td>0</td>\n",
       "      <td>1</td>\n",
       "      <td>0</td>\n",
       "      <td>1</td>\n",
       "      <td>2</td>\n",
       "      <td>1</td>\n",
       "      <td>0</td>\n",
       "      <td>6.7</td>\n",
       "      <td>no</td>\n",
       "      <td>male</td>\n",
       "      <td>yes</td>\n",
       "      <td>12</td>\n",
       "      <td>0.582000</td>\n",
       "      <td>no</td>\n",
       "      <td>yes</td>\n",
       "      <td>no</td>\n",
       "      <td>midwest</td>\n",
       "      <td>other</td>\n",
       "    </tr>\n",
       "    <tr>\n",
       "      <th>21</th>\n",
       "      <td>3</td>\n",
       "      <td>0</td>\n",
       "      <td>1</td>\n",
       "      <td>0</td>\n",
       "      <td>0</td>\n",
       "      <td>0</td>\n",
       "      <td>2</td>\n",
       "      <td>0</td>\n",
       "      <td>7.3</td>\n",
       "      <td>no</td>\n",
       "      <td>male</td>\n",
       "      <td>yes</td>\n",
       "      <td>8</td>\n",
       "      <td>1.250400</td>\n",
       "      <td>no</td>\n",
       "      <td>yes</td>\n",
       "      <td>no</td>\n",
       "      <td>midwest</td>\n",
       "      <td>other</td>\n",
       "    </tr>\n",
       "    <tr>\n",
       "      <th>22</th>\n",
       "      <td>1</td>\n",
       "      <td>0</td>\n",
       "      <td>0</td>\n",
       "      <td>0</td>\n",
       "      <td>0</td>\n",
       "      <td>0</td>\n",
       "      <td>1</td>\n",
       "      <td>0</td>\n",
       "      <td>7.5</td>\n",
       "      <td>no</td>\n",
       "      <td>female</td>\n",
       "      <td>yes</td>\n",
       "      <td>9</td>\n",
       "      <td>1.250400</td>\n",
       "      <td>no</td>\n",
       "      <td>yes</td>\n",
       "      <td>no</td>\n",
       "      <td>midwest</td>\n",
       "      <td>other</td>\n",
       "    </tr>\n",
       "    <tr>\n",
       "      <th>23</th>\n",
       "      <td>1</td>\n",
       "      <td>0</td>\n",
       "      <td>0</td>\n",
       "      <td>0</td>\n",
       "      <td>0</td>\n",
       "      <td>0</td>\n",
       "      <td>2</td>\n",
       "      <td>0</td>\n",
       "      <td>7.1</td>\n",
       "      <td>no</td>\n",
       "      <td>female</td>\n",
       "      <td>no</td>\n",
       "      <td>9</td>\n",
       "      <td>1.660000</td>\n",
       "      <td>no</td>\n",
       "      <td>yes</td>\n",
       "      <td>no</td>\n",
       "      <td>midwest</td>\n",
       "      <td>other</td>\n",
       "    </tr>\n",
       "    <tr>\n",
       "      <th>24</th>\n",
       "      <td>5</td>\n",
       "      <td>7</td>\n",
       "      <td>0</td>\n",
       "      <td>0</td>\n",
       "      <td>0</td>\n",
       "      <td>0</td>\n",
       "      <td>3</td>\n",
       "      <td>0</td>\n",
       "      <td>8.9</td>\n",
       "      <td>no</td>\n",
       "      <td>female</td>\n",
       "      <td>no</td>\n",
       "      <td>8</td>\n",
       "      <td>1.902800</td>\n",
       "      <td>no</td>\n",
       "      <td>no</td>\n",
       "      <td>no</td>\n",
       "      <td>midwest</td>\n",
       "      <td>other</td>\n",
       "    </tr>\n",
       "    <tr>\n",
       "      <th>25</th>\n",
       "      <td>1</td>\n",
       "      <td>0</td>\n",
       "      <td>0</td>\n",
       "      <td>0</td>\n",
       "      <td>0</td>\n",
       "      <td>0</td>\n",
       "      <td>1</td>\n",
       "      <td>0</td>\n",
       "      <td>6.7</td>\n",
       "      <td>no</td>\n",
       "      <td>male</td>\n",
       "      <td>no</td>\n",
       "      <td>4</td>\n",
       "      <td>1.332800</td>\n",
       "      <td>no</td>\n",
       "      <td>yes</td>\n",
       "      <td>no</td>\n",
       "      <td>midwest</td>\n",
       "      <td>other</td>\n",
       "    </tr>\n",
       "    <tr>\n",
       "      <th>26</th>\n",
       "      <td>12</td>\n",
       "      <td>0</td>\n",
       "      <td>0</td>\n",
       "      <td>0</td>\n",
       "      <td>1</td>\n",
       "      <td>0</td>\n",
       "      <td>5</td>\n",
       "      <td>0</td>\n",
       "      <td>7.2</td>\n",
       "      <td>no</td>\n",
       "      <td>male</td>\n",
       "      <td>yes</td>\n",
       "      <td>6</td>\n",
       "      <td>0.613200</td>\n",
       "      <td>no</td>\n",
       "      <td>no</td>\n",
       "      <td>yes</td>\n",
       "      <td>midwest</td>\n",
       "      <td>poor</td>\n",
       "    </tr>\n",
       "    <tr>\n",
       "      <th>27</th>\n",
       "      <td>6</td>\n",
       "      <td>0</td>\n",
       "      <td>0</td>\n",
       "      <td>0</td>\n",
       "      <td>0</td>\n",
       "      <td>1</td>\n",
       "      <td>2</td>\n",
       "      <td>0</td>\n",
       "      <td>8.7</td>\n",
       "      <td>no</td>\n",
       "      <td>female</td>\n",
       "      <td>no</td>\n",
       "      <td>8</td>\n",
       "      <td>0.575700</td>\n",
       "      <td>no</td>\n",
       "      <td>yes</td>\n",
       "      <td>no</td>\n",
       "      <td>midwest</td>\n",
       "      <td>poor</td>\n",
       "    </tr>\n",
       "    <tr>\n",
       "      <th>28</th>\n",
       "      <td>2</td>\n",
       "      <td>0</td>\n",
       "      <td>0</td>\n",
       "      <td>0</td>\n",
       "      <td>0</td>\n",
       "      <td>0</td>\n",
       "      <td>0</td>\n",
       "      <td>0</td>\n",
       "      <td>7.5</td>\n",
       "      <td>no</td>\n",
       "      <td>female</td>\n",
       "      <td>no</td>\n",
       "      <td>12</td>\n",
       "      <td>1.101600</td>\n",
       "      <td>no</td>\n",
       "      <td>no</td>\n",
       "      <td>no</td>\n",
       "      <td>midwest</td>\n",
       "      <td>other</td>\n",
       "    </tr>\n",
       "    <tr>\n",
       "      <th>29</th>\n",
       "      <td>4</td>\n",
       "      <td>0</td>\n",
       "      <td>0</td>\n",
       "      <td>0</td>\n",
       "      <td>0</td>\n",
       "      <td>0</td>\n",
       "      <td>3</td>\n",
       "      <td>1</td>\n",
       "      <td>9.6</td>\n",
       "      <td>no</td>\n",
       "      <td>female</td>\n",
       "      <td>no</td>\n",
       "      <td>8</td>\n",
       "      <td>0.535000</td>\n",
       "      <td>no</td>\n",
       "      <td>yes</td>\n",
       "      <td>no</td>\n",
       "      <td>midwest</td>\n",
       "      <td>other</td>\n",
       "    </tr>\n",
       "  </tbody>\n",
       "</table>\n",
       "</div>"
      ],
      "text/plain": [
       "    ofp  ofnp  opp  opnp  emr  hosp  numchron  adldiff  age black     sex  \\\n",
       "0     5     0    0     0    0     1         2        0  6.9   yes    male   \n",
       "1     1     0    2     0    2     0         2        0  7.4    no  female   \n",
       "2    13     0    0     0    3     3         4        1  6.6   yes  female   \n",
       "3    16     0    5     0    1     1         2        1  7.6    no    male   \n",
       "4     3     0    0     0    0     0         2        1  7.9    no  female   \n",
       "5    17     0    0     0    0     0         5        1  6.6    no  female   \n",
       "6     9     0    0     0    0     0         0        0  7.5    no  female   \n",
       "7     3     0    0     0    0     0         0        0  8.7    no  female   \n",
       "8     1     0    0     0    0     0         0        0  7.3    no  female   \n",
       "9     0     0    0     0    0     0         0        0  7.8    no  female   \n",
       "10    0     0    0     0    0     0         1        0  6.6    no    male   \n",
       "11   44     5    2     0    0     1         5        1  6.9    no  female   \n",
       "12    2     0    0     0    0     0         1        1  8.4    no  female   \n",
       "13    1     0    0     0    0     0         1        1  8.1    no  female   \n",
       "14   19     0    1     2    0     1         1        0  7.8    no  female   \n",
       "15   19     0    0     0    0     0         0        0  7.6    no  female   \n",
       "16    0     0    0     0    0     0         1        1  8.3    no    male   \n",
       "17    3     9    1     0    0     0         2        1  8.0    no  female   \n",
       "18    2     0    0     0    0     0         3        0  7.3   yes    male   \n",
       "19   12     0    2     0    0     0         4        0  7.4    no    male   \n",
       "20    2     0    1     0    1     2         1        0  6.7    no    male   \n",
       "21    3     0    1     0    0     0         2        0  7.3    no    male   \n",
       "22    1     0    0     0    0     0         1        0  7.5    no  female   \n",
       "23    1     0    0     0    0     0         2        0  7.1    no  female   \n",
       "24    5     7    0     0    0     0         3        0  8.9    no  female   \n",
       "25    1     0    0     0    0     0         1        0  6.7    no    male   \n",
       "26   12     0    0     0    1     0         5        0  7.2    no    male   \n",
       "27    6     0    0     0    0     1         2        0  8.7    no  female   \n",
       "28    2     0    0     0    0     0         0        0  7.5    no  female   \n",
       "29    4     0    0     0    0     0         3        1  9.6    no  female   \n",
       "\n",
       "   maried  school    faminc employed privins medicaid   region   hlth  \n",
       "0     yes       6  2.881000      yes     yes       no    other  other  \n",
       "1     yes      10  2.747800       no     yes       no    other  other  \n",
       "2      no      10  0.653200       no      no      yes    other   poor  \n",
       "3     yes       3  0.658800       no     yes       no    other   poor  \n",
       "4     yes       6  0.658800       no     yes       no    other  other  \n",
       "5      no       7  0.330100       no      no      yes    other   poor  \n",
       "6      no       8  0.828000       no     yes       no  midwest  other  \n",
       "7      no       8  3.045600       no     yes       no  midwest  other  \n",
       "8      no       8  3.045600       no     yes       no  midwest  other  \n",
       "9      no       8  3.045600       no     yes       no  midwest  other  \n",
       "10    yes       8  2.949800      yes     yes       no  midwest  other  \n",
       "11    yes      15  2.949800       no     yes       no  midwest  other  \n",
       "12     no       8  0.898800       no      no       no  midwest  other  \n",
       "13     no       8  0.898800       no      no      yes  midwest   poor  \n",
       "14     no      12  6.065400       no     yes       no  midwest  other  \n",
       "15     no       8  0.600400       no      no       no  midwest  other  \n",
       "16    yes       8  0.598800       no      no      yes  midwest  other  \n",
       "17    yes       8  0.598800       no      no      yes  midwest  other  \n",
       "18    yes      10  1.266000       no      no       no  midwest  other  \n",
       "19     no      12  1.906011       no     yes       no  midwest  other  \n",
       "20    yes      12  0.582000       no     yes       no  midwest  other  \n",
       "21    yes       8  1.250400       no     yes       no  midwest  other  \n",
       "22    yes       9  1.250400       no     yes       no  midwest  other  \n",
       "23     no       9  1.660000       no     yes       no  midwest  other  \n",
       "24     no       8  1.902800       no      no       no  midwest  other  \n",
       "25     no       4  1.332800       no     yes       no  midwest  other  \n",
       "26    yes       6  0.613200       no      no      yes  midwest   poor  \n",
       "27     no       8  0.575700       no     yes       no  midwest   poor  \n",
       "28     no      12  1.101600       no      no       no  midwest  other  \n",
       "29     no       8  0.535000       no     yes       no  midwest  other  "
      ]
     },
     "execution_count": 26,
     "metadata": {},
     "output_type": "execute_result"
    }
   ],
   "source": [
    "item = 'OFP' # Выбрать из поля Item для вашего датасета\n",
    "package = 'Ecdat' # Выбрать из поля Package для вашего датасета\n",
    "\n",
    "df = sm.datasets.get_rdataset(item, package , cache=True).data\n",
    "df.head(30)"
   ]
  },
  {
   "cell_type": "markdown",
   "id": "b7fb87a8-fd72-4a8f-94bd-fd0d2aefdbe9",
   "metadata": {},
   "source": [
    "### себе для справки:\n",
    "ofp\r\n",
    "number of physician office visits\r\n",
    "\r\n",
    "ofnp\r\n",
    "number of nonphysician office visits\r\n",
    "\r\n",
    "opp\r\n",
    "number of physician outpatient visits\r\n",
    "\r\n",
    "opnp\r\n",
    "number of nonphysician outpatient visits\r\n",
    "\r\n",
    "emr\r\n",
    "number of emergency room visits\r\n",
    "\r\n",
    "hosp\r\n",
    "number of hospitalizations\r\n",
    "\r\n",
    "numchron\r\n",
    "number of chronic conditions\r\n",
    "\r\n",
    "adldiff\r\n",
    "the person has a condition that limits activities of daily living ?\r\n",
    "\r\n",
    "age\r\n",
    "age in years (divided by 10)\r\n",
    "\r\n",
    "black\r\n",
    "is the person African–American ?\r\n",
    "\r\n",
    "sex\r\n",
    "is the person male ?\r\n",
    "\r\n",
    "maried\r\n",
    "is the person married ?\r\n",
    "\r\n",
    "school\r\n",
    "number of years of education\r\n",
    "\r\n",
    "faminc\r\n",
    "family income in 10000$\r\n",
    "\r\n",
    "employed\r\n",
    "is the person employed ?\r\n",
    "\r\n",
    "privins\r\n",
    "is the person covered by private health insurance?\r\n",
    "\r\n",
    "medicaid\r\n",
    "is the person covered by medicaid ?\r\n",
    "\r\n",
    "region\r\n",
    "the region (noreast, midwest, west)\r\n",
    "\r\n",
    "hlth\r\n",
    "self-perceived health (excellent, poor, other)"
   ]
  },
  {
   "cell_type": "code",
   "execution_count": null,
   "id": "88ee8ae0-a3c6-410d-b909-6a72644c8f82",
   "metadata": {},
   "outputs": [],
   "source": []
  },
  {
   "cell_type": "markdown",
   "id": "4b64630d",
   "metadata": {},
   "source": [
    "### Далее идет ваше решение"
   ]
  },
  {
   "cell_type": "markdown",
   "id": "95cd0e77",
   "metadata": {},
   "source": [
    "Задание\n",
    "\n",
    "1) Изучите внимательно ваш датасет и смысл переменных, которые в нем содержатся\n",
    "\n",
    "2) Сформулируйте на базе переменных три вида гипотез:\n",
    "    а) Выберите две категориальные переменные и сформулируйте гипотезу об их взаимосвязи\n",
    "    б) Выберите одну категориальную и одну числовую переменную и сформулируйте гипотезу об их взаимосвязи\n",
    "    в) Выберите две числовые переменные и сформулируйте гипотезу об их взаимосвязи\n",
    "    \n",
    "3) Для каждой гипотезы постарайтесь привести логический смысл, почему вы считаете, что эта взаимосвязь должна существовать и какую форму взаимосвязи вы ожидаете. Что это дает с практической точки зрения?\n",
    "\n",
    "4) Для выбранных переменных проведите разведочный анализ данных. Приведите наиболее подходящие описательные статистики, частотные распределения, постройте графики, которые бы давали представление как о переменных по отдельности, так и об их взаимосвязи\n",
    "\n",
    "5) Проведите очистку данных от пропусков, выбросов и некорректных значений любым выбранным способом. Постарайтесь обосновать этот способ.\n",
    "\n",
    "6) Протестируйте распределение числовой переменной на соответствие нормальному. Постройте QQ-plot и гистограмму.\n",
    "\n",
    "7) Проведите тесты гипотез из пункта (2) и сделайте выводы. Какой практический смысл имеют результаты проведенных тестов? Как их можно использовать?\n",
    "\n",
    "8) Результат сохранить на GitHub и отправить в виде ссылки на файл + блокнота в формате ipynb\n",
    "\n",
    "Помните, что просто посчитать - это половина задания. К каждому шагу нужны пояснения и описания. Старайтесь структурировать ваш код, чтобы он был понятен стороннуму пользователю!"
   ]
  },
  {
   "cell_type": "markdown",
   "id": "6063755f-3088-4e60-9f10-98ff2e43fc25",
   "metadata": {},
   "source": [
    "# Решение:"
   ]
  },
  {
   "cell_type": "markdown",
   "id": "831c4369-9909-45ca-85b2-751c943ba1f2",
   "metadata": {},
   "source": [
    "# Гипотезы:"
   ]
  },
  {
   "cell_type": "markdown",
   "id": "bbf566be-603c-4891-b6fb-76905092e1c3",
   "metadata": {},
   "source": [
    "### 1. (две категориальные переменные): неработающие люди реже покупают частные страховки чем работающие (privins, employed)"
   ]
  },
  {
   "cell_type": "markdown",
   "id": "64ce444b-2bd5-4dcc-aaa2-887553ab256d",
   "metadata": {},
   "source": [
    "### 2. (одна категориальная и одна числовая переменная): мужчины реже ходят к врачу (sex, ofp)"
   ]
  },
  {
   "cell_type": "markdown",
   "id": "b7aa7268-bb19-403a-9d42-5286e3a486fa",
   "metadata": {},
   "source": [
    "### 3. (две числовые переменные): чем старше человек тем чаще он обращается к врачу (ofp, age)"
   ]
  },
  {
   "cell_type": "code",
   "execution_count": 38,
   "id": "cccfa223-3790-4ce4-8b2a-47a385312413",
   "metadata": {},
   "outputs": [
    {
     "data": {
      "text/plain": [
       "(4406, 19)"
      ]
     },
     "execution_count": 38,
     "metadata": {},
     "output_type": "execute_result"
    }
   ],
   "source": [
    "df.shape"
   ]
  },
  {
   "cell_type": "code",
   "execution_count": 40,
   "id": "dc0fa69f-8909-4bae-b912-e8a2136d2a5e",
   "metadata": {},
   "outputs": [],
   "source": [
    "cdf = df.dropna().copy()"
   ]
  },
  {
   "cell_type": "code",
   "execution_count": 42,
   "id": "36741af0-f997-4dd1-9f8f-6e33e68915a6",
   "metadata": {},
   "outputs": [
    {
     "data": {
      "text/plain": [
       "(4406, 19)"
      ]
     },
     "execution_count": 42,
     "metadata": {},
     "output_type": "execute_result"
    }
   ],
   "source": [
    "cdf.shape"
   ]
  },
  {
   "cell_type": "markdown",
   "id": "7a2ae93a-a78c-4b91-a1af-48ebfaf29ce7",
   "metadata": {},
   "source": [
    "#### Ничего не дропнулось - значит NA нет"
   ]
  },
  {
   "cell_type": "markdown",
   "id": "bf1040dc-dd8b-4f83-90f7-c3f77a705bf7",
   "metadata": {},
   "source": [
    "### Проверка 1й гипотезы"
   ]
  },
  {
   "cell_type": "code",
   "execution_count": 28,
   "id": "f11ff80d-e0b9-4d51-98b1-13f2a2ebd0ed",
   "metadata": {},
   "outputs": [
    {
     "data": {
      "text/html": [
       "<div>\n",
       "<style scoped>\n",
       "    .dataframe tbody tr th:only-of-type {\n",
       "        vertical-align: middle;\n",
       "    }\n",
       "\n",
       "    .dataframe tbody tr th {\n",
       "        vertical-align: top;\n",
       "    }\n",
       "\n",
       "    .dataframe thead th {\n",
       "        text-align: right;\n",
       "    }\n",
       "</style>\n",
       "<table border=\"1\" class=\"dataframe\">\n",
       "  <thead>\n",
       "    <tr style=\"text-align: right;\">\n",
       "      <th>employed</th>\n",
       "      <th>no</th>\n",
       "      <th>yes</th>\n",
       "    </tr>\n",
       "  </thead>\n",
       "  <tbody>\n",
       "    <tr>\n",
       "      <th>privins</th>\n",
       "      <td>3951</td>\n",
       "      <td>455</td>\n",
       "    </tr>\n",
       "  </tbody>\n",
       "</table>\n",
       "</div>"
      ],
      "text/plain": [
       "employed    no  yes\n",
       "privins   3951  455"
      ]
     },
     "execution_count": 28,
     "metadata": {},
     "output_type": "execute_result"
    }
   ],
   "source": [
    "df.pivot_table(\n",
    "        values = 'privins',\n",
    "        #index = 'maried',\n",
    "        columns = 'employed',\n",
    "        aggfunc = 'count'\n",
    ")"
   ]
  },
  {
   "cell_type": "markdown",
   "id": "f97f82b6-ea77-457a-8aa3-e78032a6a2e5",
   "metadata": {},
   "source": [
    "### Интересно: получается что нет данных для подтверждения нулевой гипотезы. Причем с очень существенным перевесом у \"незанятых\" людей больше частных страховок. Проверял - в группах женатых/неженатых все аналогично."
   ]
  },
  {
   "cell_type": "code",
   "execution_count": 67,
   "id": "9c8bbdc6-4a03-4a0a-b424-58ea575aa709",
   "metadata": {},
   "outputs": [
    {
     "data": {
      "text/plain": [
       "Chi2ContingencyResult(statistic=0.0, pvalue=1.0, dof=0, expected_freq=array([[3951.,  455.]]))"
      ]
     },
     "execution_count": 67,
     "metadata": {},
     "output_type": "execute_result"
    }
   ],
   "source": [
    "stats.chi2_contingency(\n",
    "    df.pivot_table(\n",
    "            values = 'privins',\n",
    "            #index = 'maried',\n",
    "            columns = 'employed',\n",
    "            aggfunc = 'count'\n",
    "    )    \n",
    ")"
   ]
  },
  {
   "cell_type": "markdown",
   "id": "a41d5b51-d7c5-4866-99ee-78627c47c41b",
   "metadata": {},
   "source": [
    "### Интресно что формальный тест говорит об обратном - зависимость есть т.к. pvalue меньше 5%"
   ]
  },
  {
   "cell_type": "markdown",
   "id": "5c177247-0047-4a05-ad5e-394e275f7e8e",
   "metadata": {},
   "source": [
    "### Проверка 2й гипотезы:"
   ]
  },
  {
   "cell_type": "code",
   "execution_count": 63,
   "id": "fa3695fc-113b-41c3-a302-9f9d3a71ca60",
   "metadata": {},
   "outputs": [
    {
     "data": {
      "text/html": [
       "<div>\n",
       "<style scoped>\n",
       "    .dataframe tbody tr th:only-of-type {\n",
       "        vertical-align: middle;\n",
       "    }\n",
       "\n",
       "    .dataframe tbody tr th {\n",
       "        vertical-align: top;\n",
       "    }\n",
       "\n",
       "    .dataframe thead th {\n",
       "        text-align: right;\n",
       "    }\n",
       "</style>\n",
       "<table border=\"1\" class=\"dataframe\">\n",
       "  <thead>\n",
       "    <tr style=\"text-align: right;\">\n",
       "      <th>sex</th>\n",
       "      <th>female</th>\n",
       "      <th>male</th>\n",
       "    </tr>\n",
       "  </thead>\n",
       "  <tbody>\n",
       "    <tr>\n",
       "      <th>ofp</th>\n",
       "      <td>15805</td>\n",
       "      <td>9637</td>\n",
       "    </tr>\n",
       "  </tbody>\n",
       "</table>\n",
       "</div>"
      ],
      "text/plain": [
       "sex  female  male\n",
       "ofp   15805  9637"
      ]
     },
     "execution_count": 63,
     "metadata": {},
     "output_type": "execute_result"
    }
   ],
   "source": [
    "df.pivot_table(\n",
    "        values = 'ofp',\n",
    "        columns = 'sex',\n",
    "        aggfunc = 'sum'\n",
    ")"
   ]
  },
  {
   "cell_type": "markdown",
   "id": "7b22b260-32c3-4e8d-8f9f-a9537b8fc367",
   "metadata": {},
   "source": [
    "Гипотеза подтвердилась/ Почти в два раза мужчины реже обращаются к врачу. На всякий случай проверю на предмет женат/неженат. Моежт быть влияние партнера в браке."
   ]
  },
  {
   "cell_type": "code",
   "execution_count": 71,
   "id": "63f3636a-cca1-4970-b0b2-39344b055712",
   "metadata": {},
   "outputs": [
    {
     "data": {
      "text/html": [
       "<div>\n",
       "<style scoped>\n",
       "    .dataframe tbody tr th:only-of-type {\n",
       "        vertical-align: middle;\n",
       "    }\n",
       "\n",
       "    .dataframe tbody tr th {\n",
       "        vertical-align: top;\n",
       "    }\n",
       "\n",
       "    .dataframe thead th {\n",
       "        text-align: right;\n",
       "    }\n",
       "</style>\n",
       "<table border=\"1\" class=\"dataframe\">\n",
       "  <thead>\n",
       "    <tr style=\"text-align: right;\">\n",
       "      <th>sex</th>\n",
       "      <th>female</th>\n",
       "      <th>male</th>\n",
       "    </tr>\n",
       "    <tr>\n",
       "      <th>maried</th>\n",
       "      <th></th>\n",
       "      <th></th>\n",
       "    </tr>\n",
       "  </thead>\n",
       "  <tbody>\n",
       "    <tr>\n",
       "      <th>no</th>\n",
       "      <td>10087</td>\n",
       "      <td>1776</td>\n",
       "    </tr>\n",
       "    <tr>\n",
       "      <th>yes</th>\n",
       "      <td>5718</td>\n",
       "      <td>7861</td>\n",
       "    </tr>\n",
       "  </tbody>\n",
       "</table>\n",
       "</div>"
      ],
      "text/plain": [
       "sex     female  male\n",
       "maried              \n",
       "no       10087  1776\n",
       "yes       5718  7861"
      ]
     },
     "execution_count": 71,
     "metadata": {},
     "output_type": "execute_result"
    }
   ],
   "source": [
    "df.pivot_table(\n",
    "        values = 'ofp',\n",
    "        index = 'maried',\n",
    "        columns = 'sex',\n",
    "        aggfunc = 'sum'\n",
    ")"
   ]
  },
  {
   "cell_type": "markdown",
   "id": "ca9c1ff3-9323-4d68-83b1-33f2ae9733a4",
   "metadata": {},
   "source": [
    "Вот это поворот - женатые мужчины чаще неженатых образаются к варчу, более того - чаще замужних женщин!\n",
    "\n",
    "Получается статистику всем мужчинам \"портят\" неженатые) так появляются стереотипы что мужчины не ходят к варчу."
   ]
  },
  {
   "cell_type": "markdown",
   "id": "d2bab2e7-d502-4e10-aa35-407d9a062ca7",
   "metadata": {},
   "source": [
    "### Проверка 3й гипотезы:"
   ]
  },
  {
   "cell_type": "code",
   "execution_count": 9,
   "id": "c87ff526-c671-4982-b4db-c784e74ff3ed",
   "metadata": {},
   "outputs": [
    {
     "data": {
      "text/plain": [
       "0.003403708689398792"
      ]
     },
     "execution_count": 9,
     "metadata": {},
     "output_type": "execute_result"
    }
   ],
   "source": [
    "df['ofp'].corr(df['age'])"
   ]
  },
  {
   "cell_type": "markdown",
   "id": "a96b490c-c52c-4a02-817a-1bac09afd16e",
   "metadata": {},
   "source": [
    "### Очень низкая корреляция"
   ]
  },
  {
   "cell_type": "code",
   "execution_count": 16,
   "id": "dc971023-e819-4b29-815d-301b294dfd7d",
   "metadata": {},
   "outputs": [
    {
     "data": {
      "text/plain": [
       "ShapiroResult(statistic=0.7259005911054104, pvalue=5.712918721726831e-65)"
      ]
     },
     "execution_count": 16,
     "metadata": {},
     "output_type": "execute_result"
    }
   ],
   "source": [
    "stats.shapiro(df['ofp'])"
   ]
  },
  {
   "cell_type": "markdown",
   "id": "863b7632-f748-4f72-b39c-490314092480",
   "metadata": {},
   "source": [
    "### Низкое pvalue - не нормальное распределение "
   ]
  },
  {
   "cell_type": "code",
   "execution_count": 22,
   "id": "ba2ed8e5-1907-435c-9507-19eef27998f0",
   "metadata": {},
   "outputs": [
    {
     "data": {
      "text/plain": [
       "TtestResult(statistic=43.401238634709706, pvalue=0.0, df=8810.0)"
      ]
     },
     "execution_count": 22,
     "metadata": {},
     "output_type": "execute_result"
    }
   ],
   "source": [
    "stats.ttest_ind(df['ofp'], df['opp'], alternative = 'two-sided')"
   ]
  },
  {
   "cell_type": "markdown",
   "id": "3e8a2a48-bfec-4327-9e8a-351cbaa8f408",
   "metadata": {},
   "source": [
    "### Амбулаторные и очные приемы дают 0 значение pvalue. не равны количества посещений (двусторонний т-тест вообще может не применим? Мы же не прошли тест на нормальность. Нужен Манна-Уитни)"
   ]
  },
  {
   "cell_type": "code",
   "execution_count": 64,
   "id": "c16fbdc3-d80e-45ea-9098-734555a91c2b",
   "metadata": {},
   "outputs": [
    {
     "data": {
      "text/plain": [
       "MannwhitneyuResult(statistic=16724415.5, pvalue=0.0)"
      ]
     },
     "execution_count": 64,
     "metadata": {},
     "output_type": "execute_result"
    }
   ],
   "source": [
    "stats.mannwhitneyu(df['ofp'], df['opp'], alternative = 'two-sided')"
   ]
  },
  {
   "cell_type": "markdown",
   "id": "76d3075e-f673-4447-a1cd-e3fd25bc3369",
   "metadata": {},
   "source": [
    "### форма распределения посещений кабинета и амбулаторных посещений - не совпадают"
   ]
  },
  {
   "cell_type": "code",
   "execution_count": 28,
   "id": "db9b8c9b-a851-4550-8a5e-013a8fde32a9",
   "metadata": {},
   "outputs": [
    {
     "name": "stdout",
     "output_type": "stream",
     "text": [
      "Средняя:  5.774398547435315\n",
      "Медиана:  4.0\n",
      "Скошенность:  3.3381744056944953\n",
      "Эксцесс:  20.2064540726094\n"
     ]
    }
   ],
   "source": [
    "print('Средняя: ', df['ofp'].mean())\n",
    "print('Медиана: ', df['ofp'].median())\n",
    "print('Скошенность: ', stats.skew(df['ofp']))\n",
    "print('Эксцесс: ', stats.kurtosis(df['ofp']))"
   ]
  },
  {
   "cell_type": "code",
   "execution_count": 36,
   "id": "9894e055-3e14-4383-aa39-d84c9040fd28",
   "metadata": {},
   "outputs": [],
   "source": [
    "import matplotlib.pyplot as plt\n",
    "import seaborn as sns"
   ]
  },
  {
   "cell_type": "code",
   "execution_count": 59,
   "id": "bad37c36-2f18-4fc3-8019-ff8b379f3b72",
   "metadata": {},
   "outputs": [
    {
     "data": {
      "image/png": "[encoded data removed]",
      "text/plain": [
       "<Figure size 1500x500 with 2 Axes>"
      ]
     },
     "metadata": {},
     "output_type": "display_data"
    }
   ],
   "source": [
    "fig, ax  = plt.subplots(1,2, figsize = (15,5))\n",
    "plt.suptitle('Распределение посещений в офисе вреча и амбулаторных')\n",
    "sns.histplot(df['ofp'], kde = True, ax = ax[0])\n",
    "sns.histplot(df['opp']<20, kde = True, ax = ax[1])\n",
    "plt.show()"
   ]
  },
  {
   "cell_type": "markdown",
   "id": "386eff47-e05d-4a1b-9454-01e217b723c4",
   "metadata": {},
   "source": [
    "### Сильное правое смещение - люди ходят к врачу считанные разы. Но редко - постоянно - очевидно по медицинским показаниям о постоянном наблюдении у вреча"
   ]
  },
  {
   "cell_type": "code",
   "execution_count": 61,
   "id": "352bee44-3740-44c3-882b-fb9ce8e74b62",
   "metadata": {},
   "outputs": [
    {
     "data": {
      "image/png": "[encoded data removed]",
      "text/plain": [
       "<Figure size 1500x500 with 2 Axes>"
      ]
     },
     "metadata": {},
     "output_type": "display_data"
    }
   ],
   "source": [
    "fig, ax  = plt.subplots(1,2, figsize = (15,5))\n",
    "plt.title('QQ-plot для посещений врача')\n",
    "stats.probplot(df['ofp'], dist=\"norm\", plot = ax[0])\n",
    "stats.probplot(df['opp'], dist=\"norm\", plot = ax[1])\n",
    "plt.show()"
   ]
  },
  {
   "cell_type": "code",
   "execution_count": 17,
   "id": "f4c02c31-1d7c-4e07-988b-084b251e688c",
   "metadata": {},
   "outputs": [],
   "source": [
    "import matplotlib.pyplot as plt\n",
    "import seaborn as sns\n",
    "import warnings"
   ]
  },
  {
   "cell_type": "code",
   "execution_count": 103,
   "id": "6fd94c93-2242-4e28-bb25-7722248424d8",
   "metadata": {},
   "outputs": [
    {
     "data": {
      "image/png": "[encoded data removed]",
      "text/plain": [
       "<Figure size 1500x700 with 1 Axes>"
      ]
     },
     "metadata": {},
     "output_type": "display_data"
    }
   ],
   "source": [
    "sns.set_theme(style=\"whitegrid\", palette=\"pastel\")\n",
    "plt.figure(figsize = (15, 7))\n",
    "sns.barplot(data = df, x = 'age', y = 'ofp')\n",
    "plt.show() "
   ]
  },
  {
   "cell_type": "markdown",
   "id": "9b594133-0a7b-4007-8785-d18e163090fb",
   "metadata": {},
   "source": [
    "#### Данные не позволяют утверждать что 3я гипотеза верна. Надо конечно учитывать что наблюдения имеются с 66 лет. Обращает на себя внимание \"эффект зубьев пилы\" после 85 лет. Возможно связано с обязательными/необязательными чекапами в США после данного возраста. Либо с бесплатными/платными. В любом случае после 85 лет имеется \"зубчатая\" тенденция к снижению количества визитов к терапефту (очевидно вляиет средняя продолжительность жизни людей). Ну и 3 обращения в возрасте 102 года выбросом не считаю. Просто очевидено долгожитель ходил к варчу."
   ]
  },
  {
   "cell_type": "code",
   "execution_count": 21,
   "id": "2b726429-608d-4c62-8659-87e5acfcc057",
   "metadata": {},
   "outputs": [
    {
     "data": {
      "image/png": "[encoded data removed]",
      "text/plain": [
       "<Figure size 1500x700 with 1 Axes>"
      ]
     },
     "metadata": {},
     "output_type": "display_data"
    }
   ],
   "source": [
    "plt.figure(figsize = (15, 7))\n",
    "sns.barplot(data = df, x = 'age', y = 'opp')\n",
    "plt.show() "
   ]
  },
  {
   "cell_type": "markdown",
   "id": "840045f2-32f5-46c4-98a8-cbc31aef15c2",
   "metadata": {},
   "source": [
    "### На всякий случай проверил амбулаторный прием. Ничего нового не нашел, кроме того, что 102-летний пациент амбулаторно не обращался."
   ]
  }
 ],
 "metadata": {
  "kernelspec": {
   "display_name": "Python 3 (ipykernel)",
   "language": "python",
   "name": "python3"
  },
  "language_info": {
   "codemirror_mode": {
    "name": "ipython",
    "version": 3
   },
   "file_extension": ".py",
   "mimetype": "text/x-python",
   "name": "python",
   "nbconvert_exporter": "python",
   "pygments_lexer": "ipython3",
   "version": "3.12.4"
  }
 },
 "nbformat": 4,
 "nbformat_minor": 5
}
