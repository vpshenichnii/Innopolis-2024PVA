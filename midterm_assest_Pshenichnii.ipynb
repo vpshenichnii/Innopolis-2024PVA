{
 "cells": [
  {
   "cell_type": "code",
   "execution_count": 13,
   "id": "af66e22a",
   "metadata": {},
   "outputs": [],
   "source": [
    "import pandas as pd\n",
    "import statsmodels.api as sm\n",
    "import numpy as np"
   ]
  },
  {
   "cell_type": "markdown",
   "id": "7267d662",
   "metadata": {},
   "source": [
    "### Загружаем данные"
   ]
  },
  {
   "cell_type": "code",
   "execution_count": 14,
   "id": "6b59ffa7",
   "metadata": {},
   "outputs": [
    {
     "data": {
      "text/html": [
       "<div>\n",
       "<style scoped>\n",
       "    .dataframe tbody tr th:only-of-type {\n",
       "        vertical-align: middle;\n",
       "    }\n",
       "\n",
       "    .dataframe tbody tr th {\n",
       "        vertical-align: top;\n",
       "    }\n",
       "\n",
       "    .dataframe thead th {\n",
       "        text-align: right;\n",
       "    }\n",
       "</style>\n",
       "<table border=\"1\" class=\"dataframe\">\n",
       "  <thead>\n",
       "    <tr style=\"text-align: right;\">\n",
       "      <th></th>\n",
       "      <th>ofp</th>\n",
       "      <th>ofnp</th>\n",
       "      <th>opp</th>\n",
       "      <th>opnp</th>\n",
       "      <th>emr</th>\n",
       "      <th>hosp</th>\n",
       "      <th>numchron</th>\n",
       "      <th>adldiff</th>\n",
       "      <th>age</th>\n",
       "      <th>black</th>\n",
       "      <th>sex</th>\n",
       "      <th>maried</th>\n",
       "      <th>school</th>\n",
       "      <th>faminc</th>\n",
       "      <th>employed</th>\n",
       "      <th>privins</th>\n",
       "      <th>medicaid</th>\n",
       "      <th>region</th>\n",
       "      <th>hlth</th>\n",
       "    </tr>\n",
       "  </thead>\n",
       "  <tbody>\n",
       "    <tr>\n",
       "      <th>0</th>\n",
       "      <td>5</td>\n",
       "      <td>0</td>\n",
       "      <td>0</td>\n",
       "      <td>0</td>\n",
       "      <td>0</td>\n",
       "      <td>1</td>\n",
       "      <td>2</td>\n",
       "      <td>0</td>\n",
       "      <td>6.9</td>\n",
       "      <td>yes</td>\n",
       "      <td>male</td>\n",
       "      <td>yes</td>\n",
       "      <td>6</td>\n",
       "      <td>2.8810</td>\n",
       "      <td>yes</td>\n",
       "      <td>yes</td>\n",
       "      <td>no</td>\n",
       "      <td>other</td>\n",
       "      <td>other</td>\n",
       "    </tr>\n",
       "    <tr>\n",
       "      <th>1</th>\n",
       "      <td>1</td>\n",
       "      <td>0</td>\n",
       "      <td>2</td>\n",
       "      <td>0</td>\n",
       "      <td>2</td>\n",
       "      <td>0</td>\n",
       "      <td>2</td>\n",
       "      <td>0</td>\n",
       "      <td>7.4</td>\n",
       "      <td>no</td>\n",
       "      <td>female</td>\n",
       "      <td>yes</td>\n",
       "      <td>10</td>\n",
       "      <td>2.7478</td>\n",
       "      <td>no</td>\n",
       "      <td>yes</td>\n",
       "      <td>no</td>\n",
       "      <td>other</td>\n",
       "      <td>other</td>\n",
       "    </tr>\n",
       "    <tr>\n",
       "      <th>2</th>\n",
       "      <td>13</td>\n",
       "      <td>0</td>\n",
       "      <td>0</td>\n",
       "      <td>0</td>\n",
       "      <td>3</td>\n",
       "      <td>3</td>\n",
       "      <td>4</td>\n",
       "      <td>1</td>\n",
       "      <td>6.6</td>\n",
       "      <td>yes</td>\n",
       "      <td>female</td>\n",
       "      <td>no</td>\n",
       "      <td>10</td>\n",
       "      <td>0.6532</td>\n",
       "      <td>no</td>\n",
       "      <td>no</td>\n",
       "      <td>yes</td>\n",
       "      <td>other</td>\n",
       "      <td>poor</td>\n",
       "    </tr>\n",
       "    <tr>\n",
       "      <th>3</th>\n",
       "      <td>16</td>\n",
       "      <td>0</td>\n",
       "      <td>5</td>\n",
       "      <td>0</td>\n",
       "      <td>1</td>\n",
       "      <td>1</td>\n",
       "      <td>2</td>\n",
       "      <td>1</td>\n",
       "      <td>7.6</td>\n",
       "      <td>no</td>\n",
       "      <td>male</td>\n",
       "      <td>yes</td>\n",
       "      <td>3</td>\n",
       "      <td>0.6588</td>\n",
       "      <td>no</td>\n",
       "      <td>yes</td>\n",
       "      <td>no</td>\n",
       "      <td>other</td>\n",
       "      <td>poor</td>\n",
       "    </tr>\n",
       "    <tr>\n",
       "      <th>4</th>\n",
       "      <td>3</td>\n",
       "      <td>0</td>\n",
       "      <td>0</td>\n",
       "      <td>0</td>\n",
       "      <td>0</td>\n",
       "      <td>0</td>\n",
       "      <td>2</td>\n",
       "      <td>1</td>\n",
       "      <td>7.9</td>\n",
       "      <td>no</td>\n",
       "      <td>female</td>\n",
       "      <td>yes</td>\n",
       "      <td>6</td>\n",
       "      <td>0.6588</td>\n",
       "      <td>no</td>\n",
       "      <td>yes</td>\n",
       "      <td>no</td>\n",
       "      <td>other</td>\n",
       "      <td>other</td>\n",
       "    </tr>\n",
       "  </tbody>\n",
       "</table>\n",
       "</div>"
      ],
      "text/plain": [
       "   ofp  ofnp  opp  opnp  emr  hosp  numchron  adldiff  age black     sex  \\\n",
       "0    5     0    0     0    0     1         2        0  6.9   yes    male   \n",
       "1    1     0    2     0    2     0         2        0  7.4    no  female   \n",
       "2   13     0    0     0    3     3         4        1  6.6   yes  female   \n",
       "3   16     0    5     0    1     1         2        1  7.6    no    male   \n",
       "4    3     0    0     0    0     0         2        1  7.9    no  female   \n",
       "\n",
       "  maried  school  faminc employed privins medicaid region   hlth  \n",
       "0    yes       6  2.8810      yes     yes       no  other  other  \n",
       "1    yes      10  2.7478       no     yes       no  other  other  \n",
       "2     no      10  0.6532       no      no      yes  other   poor  \n",
       "3    yes       3  0.6588       no     yes       no  other   poor  \n",
       "4    yes       6  0.6588       no     yes       no  other  other  "
      ]
     },
     "execution_count": 14,
     "metadata": {},
     "output_type": "execute_result"
    }
   ],
   "source": [
    "item = 'OFP' # Выбрать из поля Item для вашего датасета\n",
    "package = 'Ecdat' # Выбрать из поля Package для вашего датасета\n",
    "\n",
    "df = sm.datasets.get_rdataset(item, package , cache=True).data\n",
    "df.head()"
   ]
  },
  {
   "cell_type": "markdown",
   "id": "b7fb87a8-fd72-4a8f-94bd-fd0d2aefdbe9",
   "metadata": {},
   "source": [
    "### себе для справки:\n",
    "ofp\r\n",
    "number of physician office visits\r\n",
    "\r\n",
    "ofnp\r\n",
    "number of nonphysician office visits\r\n",
    "\r\n",
    "opp\r\n",
    "number of physician outpatient visits\r\n",
    "\r\n",
    "opnp\r\n",
    "number of nonphysician outpatient visits\r\n",
    "\r\n",
    "emr\r\n",
    "number of emergency room visits\r\n",
    "\r\n",
    "hosp\r\n",
    "number of hospitalizations\r\n",
    "\r\n",
    "numchron\r\n",
    "number of chronic conditions\r\n",
    "\r\n",
    "adldiff\r\n",
    "the person has a condition that limits activities of daily living ?\r\n",
    "\r\n",
    "age\r\n",
    "age in years (divided by 10)\r\n",
    "\r\n",
    "black\r\n",
    "is the person African–American ?\r\n",
    "\r\n",
    "sex\r\n",
    "is the person male ?\r\n",
    "\r\n",
    "maried\r\n",
    "is the person married ?\r\n",
    "\r\n",
    "school\r\n",
    "number of years of education\r\n",
    "\r\n",
    "faminc\r\n",
    "family income in 10000$\r\n",
    "\r\n",
    "employed\r\n",
    "is the person employed ?\r\n",
    "\r\n",
    "privins\r\n",
    "is the person covered by private health insurance?\r\n",
    "\r\n",
    "medicaid\r\n",
    "is the person covered by medicaid ?\r\n",
    "\r\n",
    "region\r\n",
    "the region (noreast, midwest, west)\r\n",
    "\r\n",
    "hlth\r\n",
    "self-perceived health (excellent, poor, other)"
   ]
  },
  {
   "cell_type": "code",
   "execution_count": null,
   "id": "88ee8ae0-a3c6-410d-b909-6a72644c8f82",
   "metadata": {},
   "outputs": [],
   "source": []
  },
  {
   "cell_type": "markdown",
   "id": "4b64630d",
   "metadata": {},
   "source": [
    "### Далее идет ваше решение"
   ]
  },
  {
   "cell_type": "markdown",
   "id": "95cd0e77",
   "metadata": {},
   "source": [
    "Задание\n",
    "\n",
    "1) Изучите внимательно ваш датасет и смысл переменных, которые в нем содержатся\n",
    "\n",
    "2) Сформулируйте на базе переменных три вида гипотез:\n",
    "    а) Выберите две категориальные переменные и сформулируйте гипотезу об их взаимосвязи\n",
    "    б) Выберите одну категориальную и одну числовую переменную и сформулируйте гипотезу об их взаимосвязи\n",
    "    в) Выберите две числовые переменные и сформулируйте гипотезу об их взаимосвязи\n",
    "    \n",
    "3) Для каждой гипотезы постарайтесь привести логический смысл, почему вы считаете, что эта взаимосвязь должна существовать и какую форму взаимосвязи вы ожидаете. Что это дает с практической точки зрения?\n",
    "\n",
    "4) Для выбранных переменных проведите разведочный анализ данных. Приведите наиболее подходящие описательные статистики, частотные распределения, постройте графики, которые бы давали представление как о переменных по отдельности, так и об их взаимосвязи\n",
    "\n",
    "5) Проведите очистку данных от пропусков, выбросов и некорректных значений любым выбранным способом. Постарайтесь обосновать этот способ.\n",
    "\n",
    "6) Протестируйте распределение числовой переменной на соответствие нормальному. Постройте QQ-plot и гистограмму.\n",
    "\n",
    "7) Проведите тесты гипотез из пункта (2) и сделайте выводы. Какой практический смысл имеют результаты проведенных тестов? Как их можно использовать?\n",
    "\n",
    "8) Результат сохранить на GitHub и отправить в виде ссылки на файл + блокнота в формате ipynb\n",
    "\n",
    "Помните, что просто посчитать - это половина задания. К каждому шагу нужны пояснения и описания. Старайтесь структурировать ваш код, чтобы он был понятен стороннуму пользователю!"
   ]
  },
  {
   "cell_type": "markdown",
   "id": "6063755f-3088-4e60-9f10-98ff2e43fc25",
   "metadata": {},
   "source": [
    "# Решение:"
   ]
  },
  {
   "cell_type": "markdown",
   "id": "831c4369-9909-45ca-85b2-751c943ba1f2",
   "metadata": {},
   "source": [
    "# Гипотезы:"
   ]
  },
  {
   "cell_type": "markdown",
   "id": "bbf566be-603c-4891-b6fb-76905092e1c3",
   "metadata": {},
   "source": [
    "### 1. (две категориальные переменные): неработающие люди реже покупают частные страховки чем работающие (privins, employed)"
   ]
  },
  {
   "cell_type": "markdown",
   "id": "64ce444b-2bd5-4dcc-aaa2-887553ab256d",
   "metadata": {},
   "source": [
    "### 2. (одна категориальная и одна числовая переменная): мужчины реже ходят к врачу (sex, ofp)"
   ]
  },
  {
   "cell_type": "markdown",
   "id": "b7aa7268-bb19-403a-9d42-5286e3a486fa",
   "metadata": {},
   "source": [
    "### 3. (две числовые переменные): чем старше человек тем чаще он обращается к врачу (ofp, age)"
   ]
  },
  {
   "cell_type": "code",
   "execution_count": 38,
   "id": "cccfa223-3790-4ce4-8b2a-47a385312413",
   "metadata": {},
   "outputs": [
    {
     "data": {
      "text/plain": [
       "(4406, 19)"
      ]
     },
     "execution_count": 38,
     "metadata": {},
     "output_type": "execute_result"
    }
   ],
   "source": [
    "df.shape"
   ]
  },
  {
   "cell_type": "code",
   "execution_count": 40,
   "id": "dc0fa69f-8909-4bae-b912-e8a2136d2a5e",
   "metadata": {},
   "outputs": [],
   "source": [
    "cdf = df.dropna().copy()"
   ]
  },
  {
   "cell_type": "code",
   "execution_count": 42,
   "id": "36741af0-f997-4dd1-9f8f-6e33e68915a6",
   "metadata": {},
   "outputs": [
    {
     "data": {
      "text/plain": [
       "(4406, 19)"
      ]
     },
     "execution_count": 42,
     "metadata": {},
     "output_type": "execute_result"
    }
   ],
   "source": [
    "cdf.shape"
   ]
  },
  {
   "cell_type": "markdown",
   "id": "7a2ae93a-a78c-4b91-a1af-48ebfaf29ce7",
   "metadata": {},
   "source": [
    "#### Ничего не дропнулось - значит NA нет"
   ]
  },
  {
   "cell_type": "markdown",
   "id": "bf1040dc-dd8b-4f83-90f7-c3f77a705bf7",
   "metadata": {},
   "source": [
    "### Проверка 1й гипотезы"
   ]
  },
  {
   "cell_type": "code",
   "execution_count": 28,
   "id": "f11ff80d-e0b9-4d51-98b1-13f2a2ebd0ed",
   "metadata": {},
   "outputs": [
    {
     "data": {
      "text/html": [
       "<div>\n",
       "<style scoped>\n",
       "    .dataframe tbody tr th:only-of-type {\n",
       "        vertical-align: middle;\n",
       "    }\n",
       "\n",
       "    .dataframe tbody tr th {\n",
       "        vertical-align: top;\n",
       "    }\n",
       "\n",
       "    .dataframe thead th {\n",
       "        text-align: right;\n",
       "    }\n",
       "</style>\n",
       "<table border=\"1\" class=\"dataframe\">\n",
       "  <thead>\n",
       "    <tr style=\"text-align: right;\">\n",
       "      <th>employed</th>\n",
       "      <th>no</th>\n",
       "      <th>yes</th>\n",
       "    </tr>\n",
       "  </thead>\n",
       "  <tbody>\n",
       "    <tr>\n",
       "      <th>privins</th>\n",
       "      <td>3951</td>\n",
       "      <td>455</td>\n",
       "    </tr>\n",
       "  </tbody>\n",
       "</table>\n",
       "</div>"
      ],
      "text/plain": [
       "employed    no  yes\n",
       "privins   3951  455"
      ]
     },
     "execution_count": 28,
     "metadata": {},
     "output_type": "execute_result"
    }
   ],
   "source": [
    "df.pivot_table(\n",
    "        values = 'privins',\n",
    "        #index = 'maried',\n",
    "        columns = 'employed',\n",
    "        aggfunc = 'count'\n",
    ")"
   ]
  },
  {
   "cell_type": "markdown",
   "id": "f97f82b6-ea77-457a-8aa3-e78032a6a2e5",
   "metadata": {},
   "source": [
    "### Интересно: получается что нет данных для подтверждения нулевой гипотезы. Причем с очень существенным перевесом у \"незанятых\" людей больше частных страховок. Проверял - в группах женатых/неженатых все аналогично."
   ]
  },
  {
   "cell_type": "markdown",
   "id": "5c177247-0047-4a05-ad5e-394e275f7e8e",
   "metadata": {},
   "source": [
    "### Проверка 2й гипотезы:"
   ]
  },
  {
   "cell_type": "code",
   "execution_count": 63,
   "id": "fa3695fc-113b-41c3-a302-9f9d3a71ca60",
   "metadata": {},
   "outputs": [
    {
     "data": {
      "text/html": [
       "<div>\n",
       "<style scoped>\n",
       "    .dataframe tbody tr th:only-of-type {\n",
       "        vertical-align: middle;\n",
       "    }\n",
       "\n",
       "    .dataframe tbody tr th {\n",
       "        vertical-align: top;\n",
       "    }\n",
       "\n",
       "    .dataframe thead th {\n",
       "        text-align: right;\n",
       "    }\n",
       "</style>\n",
       "<table border=\"1\" class=\"dataframe\">\n",
       "  <thead>\n",
       "    <tr style=\"text-align: right;\">\n",
       "      <th>sex</th>\n",
       "      <th>female</th>\n",
       "      <th>male</th>\n",
       "    </tr>\n",
       "  </thead>\n",
       "  <tbody>\n",
       "    <tr>\n",
       "      <th>ofp</th>\n",
       "      <td>15805</td>\n",
       "      <td>9637</td>\n",
       "    </tr>\n",
       "  </tbody>\n",
       "</table>\n",
       "</div>"
      ],
      "text/plain": [
       "sex  female  male\n",
       "ofp   15805  9637"
      ]
     },
     "execution_count": 63,
     "metadata": {},
     "output_type": "execute_result"
    }
   ],
   "source": [
    "df.pivot_table(\n",
    "        values = 'ofp',\n",
    "        columns = 'sex',\n",
    "        aggfunc = 'sum'\n",
    ")"
   ]
  },
  {
   "cell_type": "markdown",
   "id": "7b22b260-32c3-4e8d-8f9f-a9537b8fc367",
   "metadata": {},
   "source": [
    "Гипотеза подтвердилась/ Почти в два раза мужчины реже обращаются к врачу. На всякий случай проверю на предмет женат/неженат. Моежт быть влияние партнера в браке."
   ]
  },
  {
   "cell_type": "code",
   "execution_count": 71,
   "id": "63f3636a-cca1-4970-b0b2-39344b055712",
   "metadata": {},
   "outputs": [
    {
     "data": {
      "text/html": [
       "<div>\n",
       "<style scoped>\n",
       "    .dataframe tbody tr th:only-of-type {\n",
       "        vertical-align: middle;\n",
       "    }\n",
       "\n",
       "    .dataframe tbody tr th {\n",
       "        vertical-align: top;\n",
       "    }\n",
       "\n",
       "    .dataframe thead th {\n",
       "        text-align: right;\n",
       "    }\n",
       "</style>\n",
       "<table border=\"1\" class=\"dataframe\">\n",
       "  <thead>\n",
       "    <tr style=\"text-align: right;\">\n",
       "      <th>sex</th>\n",
       "      <th>female</th>\n",
       "      <th>male</th>\n",
       "    </tr>\n",
       "    <tr>\n",
       "      <th>maried</th>\n",
       "      <th></th>\n",
       "      <th></th>\n",
       "    </tr>\n",
       "  </thead>\n",
       "  <tbody>\n",
       "    <tr>\n",
       "      <th>no</th>\n",
       "      <td>10087</td>\n",
       "      <td>1776</td>\n",
       "    </tr>\n",
       "    <tr>\n",
       "      <th>yes</th>\n",
       "      <td>5718</td>\n",
       "      <td>7861</td>\n",
       "    </tr>\n",
       "  </tbody>\n",
       "</table>\n",
       "</div>"
      ],
      "text/plain": [
       "sex     female  male\n",
       "maried              \n",
       "no       10087  1776\n",
       "yes       5718  7861"
      ]
     },
     "execution_count": 71,
     "metadata": {},
     "output_type": "execute_result"
    }
   ],
   "source": [
    "df.pivot_table(\n",
    "        values = 'ofp',\n",
    "        index = 'maried',\n",
    "        columns = 'sex',\n",
    "        aggfunc = 'sum'\n",
    ")"
   ]
  },
  {
   "cell_type": "markdown",
   "id": "ca9c1ff3-9323-4d68-83b1-33f2ae9733a4",
   "metadata": {},
   "source": [
    "Вот это поворот - женатые мужчины чаще неженатых образаются к варчу, более того - чаще замужних женщин!\n",
    "\n",
    "Получается статистику всем мужчинам \"портят\" неженатые) так появляются стереотипы что мужчины не ходят к варчу."
   ]
  },
  {
   "cell_type": "markdown",
   "id": "d2bab2e7-d502-4e10-aa35-407d9a062ca7",
   "metadata": {},
   "source": [
    "### Проверка 3й гипотезы:"
   ]
  },
  {
   "cell_type": "code",
   "execution_count": 17,
   "id": "f4c02c31-1d7c-4e07-988b-084b251e688c",
   "metadata": {},
   "outputs": [],
   "source": [
    "import matplotlib.pyplot as plt\n",
    "import seaborn as sns\n",
    "import warnings"
   ]
  },
  {
   "cell_type": "code",
   "execution_count": 103,
   "id": "6fd94c93-2242-4e28-bb25-7722248424d8",
   "metadata": {},
   "outputs": [
    {
     "data": {
      "image/png": "[encoded data removed]",
      "text/plain": [
       "<Figure size 1500x700 with 1 Axes>"
      ]
     },
     "metadata": {},
     "output_type": "display_data"
    }
   ],
   "source": [
    "sns.set_theme(style=\"whitegrid\", palette=\"pastel\")\n",
    "plt.figure(figsize = (15, 7))\n",
    "sns.barplot(data = df, x = 'age', y = 'ofp')\n",
    "plt.show() "
   ]
  },
  {
   "cell_type": "markdown",
   "id": "9b594133-0a7b-4007-8785-d18e163090fb",
   "metadata": {},
   "source": [
    "#### Данные не позволяют утверждать что 3я гипотеза верна. Надо конечно учитывать что наблюдения имеются с 66 лет. Обращает на себя внимание \"эффект зубьев пилы\" после 85 лет. Возможно связано с обязательными/необязательными чекапами в США после данного возраста. Либо с бесплатными/платными. В любом случае после 85 лет имеется \"зубчатая\" тенденция к снижению количества визитов к терапефту (очевидно вляиет средняя продолжительность жизни людей). Ну и 3 обращения в возрасте 102 года выбросом не считаю. Просто очевидено долгожитель ходил к варчу."
   ]
  },
  {
   "cell_type": "code",
   "execution_count": 21,
   "id": "2b726429-608d-4c62-8659-87e5acfcc057",
   "metadata": {},
   "outputs": [
    {
     "data": {
      "image/png": "[encoded data removed]",
      "text/plain": [
       "<Figure size 1500x700 with 1 Axes>"
      ]
     },
     "metadata": {},
     "output_type": "display_data"
    }
   ],
   "source": [
    "plt.figure(figsize = (15, 7))\n",
    "sns.barplot(data = df, x = 'age', y = 'opp')\n",
    "plt.show() "
   ]
  },
  {
   "cell_type": "markdown",
   "id": "840045f2-32f5-46c4-98a8-cbc31aef15c2",
   "metadata": {},
   "source": [
    "### На всякий случай проверил амбулаторный прием. Ничего нового не нашел, кроме того, что 102-летний пациент амбулаторно не обращался."
   ]
  }
 ],
 "metadata": {
  "kernelspec": {
   "display_name": "Python 3 (ipykernel)",
   "language": "python",
   "name": "python3"
  },
  "language_info": {
   "codemirror_mode": {
    "name": "ipython",
    "version": 3
   },
   "file_extension": ".py",
   "mimetype": "text/x-python",
   "name": "python",
   "nbconvert_exporter": "python",
   "pygments_lexer": "ipython3",
   "version": "3.12.4"
  }
 },
 "nbformat": 4,
 "nbformat_minor": 5
}
