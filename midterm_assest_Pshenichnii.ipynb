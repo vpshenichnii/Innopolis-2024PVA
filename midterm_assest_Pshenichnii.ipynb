{
 "cells": [
  {
   "cell_type": "code",
   "execution_count": 1,
   "id": "af66e22a",
   "metadata": {},
   "outputs": [],
   "source": [
    "import pandas as pd\n",
    "import statsmodels.api as sm\n",
    "import numpy as np\n",
    "from scipy import stats"
   ]
  },
  {
   "cell_type": "markdown",
   "id": "7267d662",
   "metadata": {},
   "source": [
    "### Загружаем данные"
   ]
  },
  {
   "cell_type": "code",
   "execution_count": 5,
   "id": "6b59ffa7",
   "metadata": {},
   "outputs": [
    {
     "data": {
      "text/html": [
       "<div>\n",
       "<style scoped>\n",
       "    .dataframe tbody tr th:only-of-type {\n",
       "        vertical-align: middle;\n",
       "    }\n",
       "\n",
       "    .dataframe tbody tr th {\n",
       "        vertical-align: top;\n",
       "    }\n",
       "\n",
       "    .dataframe thead th {\n",
       "        text-align: right;\n",
       "    }\n",
       "</style>\n",
       "<table border=\"1\" class=\"dataframe\">\n",
       "  <thead>\n",
       "    <tr style=\"text-align: right;\">\n",
       "      <th></th>\n",
       "      <th>ofp</th>\n",
       "      <th>ofnp</th>\n",
       "      <th>opp</th>\n",
       "      <th>opnp</th>\n",
       "      <th>emr</th>\n",
       "      <th>hosp</th>\n",
       "      <th>numchron</th>\n",
       "      <th>adldiff</th>\n",
       "      <th>age</th>\n",
       "      <th>black</th>\n",
       "      <th>sex</th>\n",
       "      <th>maried</th>\n",
       "      <th>school</th>\n",
       "      <th>faminc</th>\n",
       "      <th>employed</th>\n",
       "      <th>privins</th>\n",
       "      <th>medicaid</th>\n",
       "      <th>region</th>\n",
       "      <th>hlth</th>\n",
       "    </tr>\n",
       "  </thead>\n",
       "  <tbody>\n",
       "    <tr>\n",
       "      <th>0</th>\n",
       "      <td>5</td>\n",
       "      <td>0</td>\n",
       "      <td>0</td>\n",
       "      <td>0</td>\n",
       "      <td>0</td>\n",
       "      <td>1</td>\n",
       "      <td>2</td>\n",
       "      <td>0</td>\n",
       "      <td>6.9</td>\n",
       "      <td>yes</td>\n",
       "      <td>male</td>\n",
       "      <td>yes</td>\n",
       "      <td>6</td>\n",
       "      <td>2.8810</td>\n",
       "      <td>yes</td>\n",
       "      <td>yes</td>\n",
       "      <td>no</td>\n",
       "      <td>other</td>\n",
       "      <td>other</td>\n",
       "    </tr>\n",
       "    <tr>\n",
       "      <th>1</th>\n",
       "      <td>1</td>\n",
       "      <td>0</td>\n",
       "      <td>2</td>\n",
       "      <td>0</td>\n",
       "      <td>2</td>\n",
       "      <td>0</td>\n",
       "      <td>2</td>\n",
       "      <td>0</td>\n",
       "      <td>7.4</td>\n",
       "      <td>no</td>\n",
       "      <td>female</td>\n",
       "      <td>yes</td>\n",
       "      <td>10</td>\n",
       "      <td>2.7478</td>\n",
       "      <td>no</td>\n",
       "      <td>yes</td>\n",
       "      <td>no</td>\n",
       "      <td>other</td>\n",
       "      <td>other</td>\n",
       "    </tr>\n",
       "    <tr>\n",
       "      <th>2</th>\n",
       "      <td>13</td>\n",
       "      <td>0</td>\n",
       "      <td>0</td>\n",
       "      <td>0</td>\n",
       "      <td>3</td>\n",
       "      <td>3</td>\n",
       "      <td>4</td>\n",
       "      <td>1</td>\n",
       "      <td>6.6</td>\n",
       "      <td>yes</td>\n",
       "      <td>female</td>\n",
       "      <td>no</td>\n",
       "      <td>10</td>\n",
       "      <td>0.6532</td>\n",
       "      <td>no</td>\n",
       "      <td>no</td>\n",
       "      <td>yes</td>\n",
       "      <td>other</td>\n",
       "      <td>poor</td>\n",
       "    </tr>\n",
       "    <tr>\n",
       "      <th>3</th>\n",
       "      <td>16</td>\n",
       "      <td>0</td>\n",
       "      <td>5</td>\n",
       "      <td>0</td>\n",
       "      <td>1</td>\n",
       "      <td>1</td>\n",
       "      <td>2</td>\n",
       "      <td>1</td>\n",
       "      <td>7.6</td>\n",
       "      <td>no</td>\n",
       "      <td>male</td>\n",
       "      <td>yes</td>\n",
       "      <td>3</td>\n",
       "      <td>0.6588</td>\n",
       "      <td>no</td>\n",
       "      <td>yes</td>\n",
       "      <td>no</td>\n",
       "      <td>other</td>\n",
       "      <td>poor</td>\n",
       "    </tr>\n",
       "    <tr>\n",
       "      <th>4</th>\n",
       "      <td>3</td>\n",
       "      <td>0</td>\n",
       "      <td>0</td>\n",
       "      <td>0</td>\n",
       "      <td>0</td>\n",
       "      <td>0</td>\n",
       "      <td>2</td>\n",
       "      <td>1</td>\n",
       "      <td>7.9</td>\n",
       "      <td>no</td>\n",
       "      <td>female</td>\n",
       "      <td>yes</td>\n",
       "      <td>6</td>\n",
       "      <td>0.6588</td>\n",
       "      <td>no</td>\n",
       "      <td>yes</td>\n",
       "      <td>no</td>\n",
       "      <td>other</td>\n",
       "      <td>other</td>\n",
       "    </tr>\n",
       "    <tr>\n",
       "      <th>5</th>\n",
       "      <td>17</td>\n",
       "      <td>0</td>\n",
       "      <td>0</td>\n",
       "      <td>0</td>\n",
       "      <td>0</td>\n",
       "      <td>0</td>\n",
       "      <td>5</td>\n",
       "      <td>1</td>\n",
       "      <td>6.6</td>\n",
       "      <td>no</td>\n",
       "      <td>female</td>\n",
       "      <td>no</td>\n",
       "      <td>7</td>\n",
       "      <td>0.3301</td>\n",
       "      <td>no</td>\n",
       "      <td>no</td>\n",
       "      <td>yes</td>\n",
       "      <td>other</td>\n",
       "      <td>poor</td>\n",
       "    </tr>\n",
       "    <tr>\n",
       "      <th>6</th>\n",
       "      <td>9</td>\n",
       "      <td>0</td>\n",
       "      <td>0</td>\n",
       "      <td>0</td>\n",
       "      <td>0</td>\n",
       "      <td>0</td>\n",
       "      <td>0</td>\n",
       "      <td>0</td>\n",
       "      <td>7.5</td>\n",
       "      <td>no</td>\n",
       "      <td>female</td>\n",
       "      <td>no</td>\n",
       "      <td>8</td>\n",
       "      <td>0.8280</td>\n",
       "      <td>no</td>\n",
       "      <td>yes</td>\n",
       "      <td>no</td>\n",
       "      <td>midwest</td>\n",
       "      <td>other</td>\n",
       "    </tr>\n",
       "    <tr>\n",
       "      <th>7</th>\n",
       "      <td>3</td>\n",
       "      <td>0</td>\n",
       "      <td>0</td>\n",
       "      <td>0</td>\n",
       "      <td>0</td>\n",
       "      <td>0</td>\n",
       "      <td>0</td>\n",
       "      <td>0</td>\n",
       "      <td>8.7</td>\n",
       "      <td>no</td>\n",
       "      <td>female</td>\n",
       "      <td>no</td>\n",
       "      <td>8</td>\n",
       "      <td>3.0456</td>\n",
       "      <td>no</td>\n",
       "      <td>yes</td>\n",
       "      <td>no</td>\n",
       "      <td>midwest</td>\n",
       "      <td>other</td>\n",
       "    </tr>\n",
       "    <tr>\n",
       "      <th>8</th>\n",
       "      <td>1</td>\n",
       "      <td>0</td>\n",
       "      <td>0</td>\n",
       "      <td>0</td>\n",
       "      <td>0</td>\n",
       "      <td>0</td>\n",
       "      <td>0</td>\n",
       "      <td>0</td>\n",
       "      <td>7.3</td>\n",
       "      <td>no</td>\n",
       "      <td>female</td>\n",
       "      <td>no</td>\n",
       "      <td>8</td>\n",
       "      <td>3.0456</td>\n",
       "      <td>no</td>\n",
       "      <td>yes</td>\n",
       "      <td>no</td>\n",
       "      <td>midwest</td>\n",
       "      <td>other</td>\n",
       "    </tr>\n",
       "    <tr>\n",
       "      <th>9</th>\n",
       "      <td>0</td>\n",
       "      <td>0</td>\n",
       "      <td>0</td>\n",
       "      <td>0</td>\n",
       "      <td>0</td>\n",
       "      <td>0</td>\n",
       "      <td>0</td>\n",
       "      <td>0</td>\n",
       "      <td>7.8</td>\n",
       "      <td>no</td>\n",
       "      <td>female</td>\n",
       "      <td>no</td>\n",
       "      <td>8</td>\n",
       "      <td>3.0456</td>\n",
       "      <td>no</td>\n",
       "      <td>yes</td>\n",
       "      <td>no</td>\n",
       "      <td>midwest</td>\n",
       "      <td>other</td>\n",
       "    </tr>\n",
       "  </tbody>\n",
       "</table>\n",
       "</div>"
      ],
      "text/plain": [
       "   ofp  ofnp  opp  opnp  emr  hosp  numchron  adldiff  age black     sex  \\\n",
       "0    5     0    0     0    0     1         2        0  6.9   yes    male   \n",
       "1    1     0    2     0    2     0         2        0  7.4    no  female   \n",
       "2   13     0    0     0    3     3         4        1  6.6   yes  female   \n",
       "3   16     0    5     0    1     1         2        1  7.6    no    male   \n",
       "4    3     0    0     0    0     0         2        1  7.9    no  female   \n",
       "5   17     0    0     0    0     0         5        1  6.6    no  female   \n",
       "6    9     0    0     0    0     0         0        0  7.5    no  female   \n",
       "7    3     0    0     0    0     0         0        0  8.7    no  female   \n",
       "8    1     0    0     0    0     0         0        0  7.3    no  female   \n",
       "9    0     0    0     0    0     0         0        0  7.8    no  female   \n",
       "\n",
       "  maried  school  faminc employed privins medicaid   region   hlth  \n",
       "0    yes       6  2.8810      yes     yes       no    other  other  \n",
       "1    yes      10  2.7478       no     yes       no    other  other  \n",
       "2     no      10  0.6532       no      no      yes    other   poor  \n",
       "3    yes       3  0.6588       no     yes       no    other   poor  \n",
       "4    yes       6  0.6588       no     yes       no    other  other  \n",
       "5     no       7  0.3301       no      no      yes    other   poor  \n",
       "6     no       8  0.8280       no     yes       no  midwest  other  \n",
       "7     no       8  3.0456       no     yes       no  midwest  other  \n",
       "8     no       8  3.0456       no     yes       no  midwest  other  \n",
       "9     no       8  3.0456       no     yes       no  midwest  other  "
      ]
     },
     "execution_count": 5,
     "metadata": {},
     "output_type": "execute_result"
    }
   ],
   "source": [
    "item = 'OFP' # Выбрать из поля Item для вашего датасета\n",
    "package = 'Ecdat' # Выбрать из поля Package для вашего датасета\n",
    "\n",
    "df = sm.datasets.get_rdataset(item, package , cache=True).data\n",
    "df.head(10)"
   ]
  },
  {
   "cell_type": "markdown",
   "id": "b7fb87a8-fd72-4a8f-94bd-fd0d2aefdbe9",
   "metadata": {},
   "source": [
    "### себе для справки:\n",
    "ofp\r\n",
    "number of physician office visits\r\n",
    "\r\n",
    "ofnp\r\n",
    "number of nonphysician office visits\r\n",
    "\r\n",
    "opp\r\n",
    "number of physician outpatient visits\r\n",
    "\r\n",
    "opnp\r\n",
    "number of nonphysician outpatient visits\r\n",
    "\r\n",
    "emr\r\n",
    "number of emergency room visits\r\n",
    "\r\n",
    "hosp\r\n",
    "number of hospitalizations\r\n",
    "\r\n",
    "numchron\r\n",
    "number of chronic conditions\r\n",
    "\r\n",
    "adldiff\r\n",
    "the person has a condition that limits activities of daily living ?\r\n",
    "\r\n",
    "age\r\n",
    "age in years (divided by 10)\r\n",
    "\r\n",
    "black\r\n",
    "is the person African–American ?\r\n",
    "\r\n",
    "sex\r\n",
    "is the person male ?\r\n",
    "\r\n",
    "maried\r\n",
    "is the person married ?\r\n",
    "\r\n",
    "school\r\n",
    "number of years of education\r\n",
    "\r\n",
    "faminc\r\n",
    "family income in 10000$\r\n",
    "\r\n",
    "employed\r\n",
    "is the person employed ?\r\n",
    "\r\n",
    "privins\r\n",
    "is the person covered by private health insurance?\r\n",
    "\r\n",
    "medicaid\r\n",
    "is the person covered by medicaid ?\r\n",
    "\r\n",
    "region\r\n",
    "the region (noreast, midwest, west)\r\n",
    "\r\n",
    "hlth\r\n",
    "self-perceived health (excellent, poor, other)"
   ]
  },
  {
   "cell_type": "code",
   "execution_count": null,
   "id": "88ee8ae0-a3c6-410d-b909-6a72644c8f82",
   "metadata": {},
   "outputs": [],
   "source": []
  },
  {
   "cell_type": "markdown",
   "id": "4b64630d",
   "metadata": {},
   "source": [
    "### Далее идет ваше решение"
   ]
  },
  {
   "cell_type": "markdown",
   "id": "95cd0e77",
   "metadata": {},
   "source": [
    "Задание\n",
    "\n",
    "1) Изучите внимательно ваш датасет и смысл переменных, которые в нем содержатся\n",
    "\n",
    "2) Сформулируйте на базе переменных три вида гипотез:\n",
    "    а) Выберите две категориальные переменные и сформулируйте гипотезу об их взаимосвязи\n",
    "    б) Выберите одну категориальную и одну числовую переменную и сформулируйте гипотезу об их взаимосвязи\n",
    "    в) Выберите две числовые переменные и сформулируйте гипотезу об их взаимосвязи\n",
    "    \n",
    "3) Для каждой гипотезы постарайтесь привести логический смысл, почему вы считаете, что эта взаимосвязь должна существовать и какую форму взаимосвязи вы ожидаете. Что это дает с практической точки зрения?\n",
    "\n",
    "4) Для выбранных переменных проведите разведочный анализ данных. Приведите наиболее подходящие описательные статистики, частотные распределения, постройте графики, которые бы давали представление как о переменных по отдельности, так и об их взаимосвязи\n",
    "\n",
    "5) Проведите очистку данных от пропусков, выбросов и некорректных значений любым выбранным способом. Постарайтесь обосновать этот способ.\n",
    "\n",
    "6) Протестируйте распределение числовой переменной на соответствие нормальному. Постройте QQ-plot и гистограмму.\n",
    "\n",
    "7) Проведите тесты гипотез из пункта (2) и сделайте выводы. Какой практический смысл имеют результаты проведенных тестов? Как их можно использовать?\n",
    "\n",
    "8) Результат сохранить на GitHub и отправить в виде ссылки на файл + блокнота в формате ipynb\n",
    "\n",
    "Помните, что просто посчитать - это половина задания. К каждому шагу нужны пояснения и описания. Старайтесь структурировать ваш код, чтобы он был понятен стороннуму пользователю!"
   ]
  },
  {
   "cell_type": "markdown",
   "id": "6063755f-3088-4e60-9f10-98ff2e43fc25",
   "metadata": {},
   "source": [
    "# Решение:"
   ]
  },
  {
   "cell_type": "markdown",
   "id": "831c4369-9909-45ca-85b2-751c943ba1f2",
   "metadata": {},
   "source": [
    "# Гипотезы:"
   ]
  },
  {
   "cell_type": "markdown",
   "id": "bbf566be-603c-4891-b6fb-76905092e1c3",
   "metadata": {},
   "source": [
    "### 1. (две категориальные переменные): неработающие люди реже покупают частные страховки чем работающие (privins, employed)"
   ]
  },
  {
   "cell_type": "markdown",
   "id": "64ce444b-2bd5-4dcc-aaa2-887553ab256d",
   "metadata": {},
   "source": [
    "### 2. (одна категориальная и одна числовая переменная): мужчины реже ходят к врачу (sex, ofp)"
   ]
  },
  {
   "cell_type": "markdown",
   "id": "b7aa7268-bb19-403a-9d42-5286e3a486fa",
   "metadata": {},
   "source": [
    "### 3. (две числовые переменные): чем старше человек тем чаще он обращается к врачу (ofp, age)"
   ]
  },
  {
   "cell_type": "code",
   "execution_count": 38,
   "id": "cccfa223-3790-4ce4-8b2a-47a385312413",
   "metadata": {},
   "outputs": [
    {
     "data": {
      "text/plain": [
       "(4406, 19)"
      ]
     },
     "execution_count": 38,
     "metadata": {},
     "output_type": "execute_result"
    }
   ],
   "source": [
    "df.shape"
   ]
  },
  {
   "cell_type": "code",
   "execution_count": 40,
   "id": "dc0fa69f-8909-4bae-b912-e8a2136d2a5e",
   "metadata": {},
   "outputs": [],
   "source": [
    "cdf = df.dropna().copy()"
   ]
  },
  {
   "cell_type": "code",
   "execution_count": 42,
   "id": "36741af0-f997-4dd1-9f8f-6e33e68915a6",
   "metadata": {},
   "outputs": [
    {
     "data": {
      "text/plain": [
       "(4406, 19)"
      ]
     },
     "execution_count": 42,
     "metadata": {},
     "output_type": "execute_result"
    }
   ],
   "source": [
    "cdf.shape"
   ]
  },
  {
   "cell_type": "markdown",
   "id": "7a2ae93a-a78c-4b91-a1af-48ebfaf29ce7",
   "metadata": {},
   "source": [
    "#### Ничего не дропнулось - значит NA нет"
   ]
  },
  {
   "cell_type": "markdown",
   "id": "bf1040dc-dd8b-4f83-90f7-c3f77a705bf7",
   "metadata": {},
   "source": [
    "### Проверка 1й гипотезы"
   ]
  },
  {
   "cell_type": "code",
   "execution_count": 28,
   "id": "f11ff80d-e0b9-4d51-98b1-13f2a2ebd0ed",
   "metadata": {},
   "outputs": [
    {
     "data": {
      "text/html": [
       "<div>\n",
       "<style scoped>\n",
       "    .dataframe tbody tr th:only-of-type {\n",
       "        vertical-align: middle;\n",
       "    }\n",
       "\n",
       "    .dataframe tbody tr th {\n",
       "        vertical-align: top;\n",
       "    }\n",
       "\n",
       "    .dataframe thead th {\n",
       "        text-align: right;\n",
       "    }\n",
       "</style>\n",
       "<table border=\"1\" class=\"dataframe\">\n",
       "  <thead>\n",
       "    <tr style=\"text-align: right;\">\n",
       "      <th>employed</th>\n",
       "      <th>no</th>\n",
       "      <th>yes</th>\n",
       "    </tr>\n",
       "  </thead>\n",
       "  <tbody>\n",
       "    <tr>\n",
       "      <th>privins</th>\n",
       "      <td>3951</td>\n",
       "      <td>455</td>\n",
       "    </tr>\n",
       "  </tbody>\n",
       "</table>\n",
       "</div>"
      ],
      "text/plain": [
       "employed    no  yes\n",
       "privins   3951  455"
      ]
     },
     "execution_count": 28,
     "metadata": {},
     "output_type": "execute_result"
    }
   ],
   "source": [
    "df.pivot_table(\n",
    "        values = 'privins',\n",
    "        #index = 'maried',\n",
    "        columns = 'employed',\n",
    "        aggfunc = 'count'\n",
    ")"
   ]
  },
  {
   "cell_type": "markdown",
   "id": "f97f82b6-ea77-457a-8aa3-e78032a6a2e5",
   "metadata": {},
   "source": [
    "### Интересно: получается что нет данных для подтверждения нулевой гипотезы. Причем с очень существенным перевесом у \"незанятых\" людей больше частных страховок. Проверял - в группах женатых/неженатых все аналогично."
   ]
  },
  {
   "cell_type": "code",
   "execution_count": 67,
   "id": "9c8bbdc6-4a03-4a0a-b424-58ea575aa709",
   "metadata": {},
   "outputs": [
    {
     "data": {
      "text/plain": [
       "Chi2ContingencyResult(statistic=0.0, pvalue=1.0, dof=0, expected_freq=array([[3951.,  455.]]))"
      ]
     },
     "execution_count": 67,
     "metadata": {},
     "output_type": "execute_result"
    }
   ],
   "source": [
    "stats.chi2_contingency(\n",
    "    df.pivot_table(\n",
    "            values = 'privins',\n",
    "            #index = 'maried',\n",
    "            columns = 'employed',\n",
    "            aggfunc = 'count'\n",
    "    )    \n",
    ")"
   ]
  },
  {
   "cell_type": "markdown",
   "id": "a41d5b51-d7c5-4866-99ee-78627c47c41b",
   "metadata": {},
   "source": [
    "### Интресно что формальный тест говорит об обратном - зависимость есть т.к. pvalue меньше 5%"
   ]
  },
  {
   "cell_type": "markdown",
   "id": "5c177247-0047-4a05-ad5e-394e275f7e8e",
   "metadata": {},
   "source": [
    "### Проверка 2й гипотезы:"
   ]
  },
  {
   "cell_type": "code",
   "execution_count": 63,
   "id": "fa3695fc-113b-41c3-a302-9f9d3a71ca60",
   "metadata": {},
   "outputs": [
    {
     "data": {
      "text/html": [
       "<div>\n",
       "<style scoped>\n",
       "    .dataframe tbody tr th:only-of-type {\n",
       "        vertical-align: middle;\n",
       "    }\n",
       "\n",
       "    .dataframe tbody tr th {\n",
       "        vertical-align: top;\n",
       "    }\n",
       "\n",
       "    .dataframe thead th {\n",
       "        text-align: right;\n",
       "    }\n",
       "</style>\n",
       "<table border=\"1\" class=\"dataframe\">\n",
       "  <thead>\n",
       "    <tr style=\"text-align: right;\">\n",
       "      <th>sex</th>\n",
       "      <th>female</th>\n",
       "      <th>male</th>\n",
       "    </tr>\n",
       "  </thead>\n",
       "  <tbody>\n",
       "    <tr>\n",
       "      <th>ofp</th>\n",
       "      <td>15805</td>\n",
       "      <td>9637</td>\n",
       "    </tr>\n",
       "  </tbody>\n",
       "</table>\n",
       "</div>"
      ],
      "text/plain": [
       "sex  female  male\n",
       "ofp   15805  9637"
      ]
     },
     "execution_count": 63,
     "metadata": {},
     "output_type": "execute_result"
    }
   ],
   "source": [
    "df.pivot_table(\n",
    "        values = 'ofp',\n",
    "        columns = 'sex',\n",
    "        aggfunc = 'sum'\n",
    ")"
   ]
  },
  {
   "cell_type": "markdown",
   "id": "7b22b260-32c3-4e8d-8f9f-a9537b8fc367",
   "metadata": {},
   "source": [
    "Гипотеза подтвердилась/ Почти в два раза мужчины реже обращаются к врачу. На всякий случай проверю на предмет женат/неженат. Моежт быть влияние партнера в браке."
   ]
  },
  {
   "cell_type": "code",
   "execution_count": 71,
   "id": "63f3636a-cca1-4970-b0b2-39344b055712",
   "metadata": {},
   "outputs": [
    {
     "data": {
      "text/html": [
       "<div>\n",
       "<style scoped>\n",
       "    .dataframe tbody tr th:only-of-type {\n",
       "        vertical-align: middle;\n",
       "    }\n",
       "\n",
       "    .dataframe tbody tr th {\n",
       "        vertical-align: top;\n",
       "    }\n",
       "\n",
       "    .dataframe thead th {\n",
       "        text-align: right;\n",
       "    }\n",
       "</style>\n",
       "<table border=\"1\" class=\"dataframe\">\n",
       "  <thead>\n",
       "    <tr style=\"text-align: right;\">\n",
       "      <th>sex</th>\n",
       "      <th>female</th>\n",
       "      <th>male</th>\n",
       "    </tr>\n",
       "    <tr>\n",
       "      <th>maried</th>\n",
       "      <th></th>\n",
       "      <th></th>\n",
       "    </tr>\n",
       "  </thead>\n",
       "  <tbody>\n",
       "    <tr>\n",
       "      <th>no</th>\n",
       "      <td>10087</td>\n",
       "      <td>1776</td>\n",
       "    </tr>\n",
       "    <tr>\n",
       "      <th>yes</th>\n",
       "      <td>5718</td>\n",
       "      <td>7861</td>\n",
       "    </tr>\n",
       "  </tbody>\n",
       "</table>\n",
       "</div>"
      ],
      "text/plain": [
       "sex     female  male\n",
       "maried              \n",
       "no       10087  1776\n",
       "yes       5718  7861"
      ]
     },
     "execution_count": 71,
     "metadata": {},
     "output_type": "execute_result"
    }
   ],
   "source": [
    "df.pivot_table(\n",
    "        values = 'ofp',\n",
    "        index = 'maried',\n",
    "        columns = 'sex',\n",
    "        aggfunc = 'sum'\n",
    ")"
   ]
  },
  {
   "cell_type": "markdown",
   "id": "ca9c1ff3-9323-4d68-83b1-33f2ae9733a4",
   "metadata": {},
   "source": [
    "Вот это поворот - явная гетерогенность результатов - женатые мужчины чаще неженатых образаются к варчу, более того - чаще замужних женщин!\n",
    "\n",
    "Получается статистику всем мужчинам \"портят\" неженатые) так появляются стереотипы что мужчины не ходят к варчу."
   ]
  },
  {
   "cell_type": "markdown",
   "id": "d2bab2e7-d502-4e10-aa35-407d9a062ca7",
   "metadata": {},
   "source": [
    "### Проверка 3й гипотезы:"
   ]
  },
  {
   "cell_type": "code",
   "execution_count": 9,
   "id": "c87ff526-c671-4982-b4db-c784e74ff3ed",
   "metadata": {},
   "outputs": [
    {
     "data": {
      "text/plain": [
       "0.003403708689398792"
      ]
     },
     "execution_count": 9,
     "metadata": {},
     "output_type": "execute_result"
    }
   ],
   "source": [
    "df['ofp'].corr(df['age'])"
   ]
  },
  {
   "cell_type": "markdown",
   "id": "a96b490c-c52c-4a02-817a-1bac09afd16e",
   "metadata": {},
   "source": [
    "### Очень низкая корреляция"
   ]
  },
  {
   "cell_type": "code",
   "execution_count": 16,
   "id": "dc971023-e819-4b29-815d-301b294dfd7d",
   "metadata": {},
   "outputs": [
    {
     "data": {
      "text/plain": [
       "ShapiroResult(statistic=0.7259005911054104, pvalue=5.712918721726831e-65)"
      ]
     },
     "execution_count": 16,
     "metadata": {},
     "output_type": "execute_result"
    }
   ],
   "source": [
    "stats.shapiro(df['ofp'])"
   ]
  },
  {
   "cell_type": "markdown",
   "id": "863b7632-f748-4f72-b39c-490314092480",
   "metadata": {},
   "source": [
    "### Низкое pvalue - не нормальное распределение "
   ]
  },
  {
   "cell_type": "code",
   "execution_count": 22,
   "id": "ba2ed8e5-1907-435c-9507-19eef27998f0",
   "metadata": {},
   "outputs": [
    {
     "data": {
      "text/plain": [
       "TtestResult(statistic=43.401238634709706, pvalue=0.0, df=8810.0)"
      ]
     },
     "execution_count": 22,
     "metadata": {},
     "output_type": "execute_result"
    }
   ],
   "source": [
    "stats.ttest_ind(df['ofp'], df['opp'], alternative = 'two-sided')"
   ]
  },
  {
   "cell_type": "markdown",
   "id": "3e8a2a48-bfec-4327-9e8a-351cbaa8f408",
   "metadata": {},
   "source": [
    "### Амбулаторные и очные приемы дают 0 значение pvalue. не равны количества посещений (двусторонний т-тест вообще может не применим? Мы же не прошли тест на нормальность. Нужен Манна-Уитни)"
   ]
  },
  {
   "cell_type": "code",
   "execution_count": 64,
   "id": "c16fbdc3-d80e-45ea-9098-734555a91c2b",
   "metadata": {},
   "outputs": [
    {
     "data": {
      "text/plain": [
       "MannwhitneyuResult(statistic=16724415.5, pvalue=0.0)"
      ]
     },
     "execution_count": 64,
     "metadata": {},
     "output_type": "execute_result"
    }
   ],
   "source": [
    "stats.mannwhitneyu(df['ofp'], df['opp'], alternative = 'two-sided')"
   ]
  },
  {
   "cell_type": "markdown",
   "id": "76d3075e-f673-4447-a1cd-e3fd25bc3369",
   "metadata": {},
   "source": [
    "### форма распределения посещений кабинета и амбулаторных посещений - не совпадают"
   ]
  },
  {
   "cell_type": "code",
   "execution_count": 28,
   "id": "db9b8c9b-a851-4550-8a5e-013a8fde32a9",
   "metadata": {},
   "outputs": [
    {
     "name": "stdout",
     "output_type": "stream",
     "text": [
      "Средняя:  5.774398547435315\n",
      "Медиана:  4.0\n",
      "Скошенность:  3.3381744056944953\n",
      "Эксцесс:  20.2064540726094\n"
     ]
    }
   ],
   "source": [
    "print('Средняя: ', df['ofp'].mean())\n",
    "print('Медиана: ', df['ofp'].median())\n",
    "print('Скошенность: ', stats.skew(df['ofp']))\n",
    "print('Эксцесс: ', stats.kurtosis(df['ofp']))"
   ]
  },
  {
   "cell_type": "code",
   "execution_count": 36,
   "id": "9894e055-3e14-4383-aa39-d84c9040fd28",
   "metadata": {},
   "outputs": [],
   "source": [
    "import matplotlib.pyplot as plt\n",
    "import seaborn as sns"
   ]
  },
  {
   "cell_type": "code",
   "execution_count": 59,
   "id": "bad37c36-2f18-4fc3-8019-ff8b379f3b72",
   "metadata": {},
   "outputs": [
    {
     "data": {
      "image/png": "[encoded data removed]",
      "text/plain": [
       "<Figure size 1500x500 with 2 Axes>"
      ]
     },
     "metadata": {},
     "output_type": "display_data"
    }
   ],
   "source": [
    "fig, ax  = plt.subplots(1,2, figsize = (15,5))\n",
    "plt.suptitle('Распределение посещений в офисе вреча и амбулаторных')\n",
    "sns.histplot(df['ofp'], kde = True, ax = ax[0])\n",
    "sns.histplot(df['opp']<20, kde = True, ax = ax[1])\n",
    "plt.show()"
   ]
  },
  {
   "cell_type": "markdown",
   "id": "386eff47-e05d-4a1b-9454-01e217b723c4",
   "metadata": {},
   "source": [
    "### Сильное правое смещение - люди ходят к врачу считанные разы. Но редко - постоянно - очевидно по медицинским показаниям о постоянном наблюдении у вреча"
   ]
  },
  {
   "cell_type": "code",
   "execution_count": 61,
   "id": "352bee44-3740-44c3-882b-fb9ce8e74b62",
   "metadata": {},
   "outputs": [
    {
     "data": {
      "image/png": "[encoded data removed]",
      "text/plain": [
       "<Figure size 1500x500 with 2 Axes>"
      ]
     },
     "metadata": {},
     "output_type": "display_data"
    }
   ],
   "source": [
    "fig, ax  = plt.subplots(1,2, figsize = (15,5))\n",
    "plt.title('QQ-plot для посещений врача')\n",
    "stats.probplot(df['ofp'], dist=\"norm\", plot = ax[0])\n",
    "stats.probplot(df['opp'], dist=\"norm\", plot = ax[1])\n",
    "plt.show()"
   ]
  },
  {
   "cell_type": "code",
   "execution_count": 7,
   "id": "f4c02c31-1d7c-4e07-988b-084b251e688c",
   "metadata": {},
   "outputs": [],
   "source": [
    "import matplotlib.pyplot as plt\n",
    "import seaborn as sns\n",
    "import warnings"
   ]
  },
  {
   "cell_type": "code",
   "execution_count": 103,
   "id": "6fd94c93-2242-4e28-bb25-7722248424d8",
   "metadata": {},
   "outputs": [
    {
     "data": {
      "image/png": "[encoded data removed]",
      "text/plain": [
       "<Figure size 1500x700 with 1 Axes>"
      ]
     },
     "metadata": {},
     "output_type": "display_data"
    }
   ],
   "source": [
    "sns.set_theme(style=\"whitegrid\", palette=\"pastel\")\n",
    "plt.figure(figsize = (15, 7))\n",
    "sns.barplot(data = df, x = 'age', y = 'ofp')\n",
    "plt.show() "
   ]
  },
  {
   "cell_type": "markdown",
   "id": "9b594133-0a7b-4007-8785-d18e163090fb",
   "metadata": {},
   "source": [
    "#### Данные не позволяют утверждать что 3я гипотеза верна. Надо конечно учитывать что наблюдения имеются с 66 лет. Обращает на себя внимание \"эффект зубьев пилы\" после 85 лет. Возможно связано с обязательными/необязательными чекапами в США после данного возраста. Либо с бесплатными/платными. В любом случае после 85 лет имеется \"зубчатая\" тенденция к снижению количества визитов к терапефту (очевидно вляиет средняя продолжительность жизни людей). Ну и 3 обращения в возрасте 102 года выбросом не считаю. Просто очевидено долгожитель ходил к варчу."
   ]
  },
  {
   "cell_type": "code",
   "execution_count": 21,
   "id": "2b726429-608d-4c62-8659-87e5acfcc057",
   "metadata": {},
   "outputs": [
    {
     "data": {
      "image/png": "[encoded data removed]",
      "text/plain": [
       "<Figure size 1500x700 with 1 Axes>"
      ]
     },
     "metadata": {},
     "output_type": "display_data"
    }
   ],
   "source": [
    "plt.figure(figsize = (15, 7))\n",
    "sns.barplot(data = df, x = 'age', y = 'opp')\n",
    "plt.show() "
   ]
  },
  {
   "cell_type": "markdown",
   "id": "840045f2-32f5-46c4-98a8-cbc31aef15c2",
   "metadata": {},
   "source": [
    "### На всякий случай проверил амбулаторный прием. Ничего нового не нашел, кроме того, что 102-летний пациент амбулаторно не обращался."
   ]
  },
  {
   "cell_type": "markdown",
   "id": "5645793a-5058-4f07-910a-a63dbaaf495b",
   "metadata": {},
   "source": [
    "### Линейная регрессия"
   ]
  },
  {
   "cell_type": "markdown",
   "id": "7ff1b690-5be9-4e7f-85d1-e33d44abbc80",
   "metadata": {},
   "source": [
    "### посмотрим влияние дохода семьи на количество визиов в офис врача"
   ]
  },
  {
   "cell_type": "code",
   "execution_count": 74,
   "id": "d9696163-4f1c-4795-81d8-f986c575cbf8",
   "metadata": {},
   "outputs": [
    {
     "name": "stdout",
     "output_type": "stream",
     "text": [
      "                            OLS Regression Results                            \n",
      "==============================================================================\n",
      "Dep. Variable:                      y   R-squared:                       0.000\n",
      "Model:                            OLS   Adj. R-squared:                 -0.000\n",
      "Method:                 Least Squares   F-statistic:                    0.1080\n",
      "Date:                Fri, 15 Nov 2024   Prob (F-statistic):              0.742\n",
      "Time:                        19:05:58   Log-Likelihood:                -14671.\n",
      "No. Observations:                4406   AIC:                         2.935e+04\n",
      "Df Residuals:                    4404   BIC:                         2.936e+04\n",
      "Df Model:                           1                                         \n",
      "Covariance Type:            nonrobust                                         \n",
      "==============================================================================\n",
      "                 coef    std err          t      P>|t|      [0.025      0.975]\n",
      "------------------------------------------------------------------------------\n",
      "const          5.8033      0.135     43.116      0.000       5.539       6.067\n",
      "x1            -0.0114      0.035     -0.329      0.742      -0.080       0.057\n",
      "==============================================================================\n",
      "Omnibus:                     3296.344   Durbin-Watson:                   1.912\n",
      "Prob(Omnibus):                  0.000   Jarque-Bera (JB):            83098.377\n",
      "Skew:                           3.338   Prob(JB):                         0.00\n",
      "Kurtosis:                      23.201   Cond. No.                         5.26\n",
      "==============================================================================\n",
      "\n",
      "Notes:\n",
      "[1] Standard Errors assume that the covariance matrix of the errors is correctly specified.\n"
     ]
    }
   ],
   "source": [
    "X = np.array(df['faminc'])\n",
    "Y = np.array(df['ofp'])\n",
    "X = sm.add_constant(X)\n",
    "model = sm.OLS(Y, X)\n",
    "results = model.fit()\n",
    "print(results.summary()) # Print the table"
   ]
  },
  {
   "cell_type": "markdown",
   "id": "e8262454-23b1-479e-9bc9-23573e5a12e4",
   "metadata": {},
   "source": [
    "### Получается с ростом дохода на 1 тыс долл количество визитов уменьшается на 0,0114 раза. При этом не зависимо от дохода люди делают по 5,8 визитов."
   ]
  },
  {
   "cell_type": "markdown",
   "id": "dea1d3a3-bf0f-4f1a-ab5c-f69d427355ad",
   "metadata": {},
   "source": [
    "### Вот кстати доверительный х1 интервал переходит через 0 (-0.080       0.057). Получается не всегда рост доходов снижает количество визитов. Кроме того R-squared нулевой. Предположим что нет значимого влияния."
   ]
  },
  {
   "cell_type": "code",
   "execution_count": 9,
   "id": "b0053ca7-e0e4-4115-be23-f7ead9ca446c",
   "metadata": {},
   "outputs": [],
   "source": [
    "from sklearn.model_selection import train_test_split"
   ]
  },
  {
   "cell_type": "code",
   "execution_count": 11,
   "id": "e27b2f16-70a6-4c21-957a-467855b4cee3",
   "metadata": {},
   "outputs": [
    {
     "data": {
      "text/html": [
       "<div>\n",
       "<style scoped>\n",
       "    .dataframe tbody tr th:only-of-type {\n",
       "        vertical-align: middle;\n",
       "    }\n",
       "\n",
       "    .dataframe tbody tr th {\n",
       "        vertical-align: top;\n",
       "    }\n",
       "\n",
       "    .dataframe thead th {\n",
       "        text-align: right;\n",
       "    }\n",
       "</style>\n",
       "<table border=\"1\" class=\"dataframe\">\n",
       "  <thead>\n",
       "    <tr style=\"text-align: right;\">\n",
       "      <th></th>\n",
       "      <th>ofp</th>\n",
       "      <th>ofnp</th>\n",
       "      <th>opp</th>\n",
       "      <th>opnp</th>\n",
       "      <th>emr</th>\n",
       "      <th>hosp</th>\n",
       "      <th>numchron</th>\n",
       "      <th>adldiff</th>\n",
       "      <th>age</th>\n",
       "      <th>black</th>\n",
       "      <th>sex</th>\n",
       "      <th>maried</th>\n",
       "      <th>school</th>\n",
       "      <th>faminc</th>\n",
       "      <th>employed</th>\n",
       "      <th>privins</th>\n",
       "      <th>medicaid</th>\n",
       "      <th>region</th>\n",
       "      <th>hlth</th>\n",
       "    </tr>\n",
       "  </thead>\n",
       "  <tbody>\n",
       "    <tr>\n",
       "      <th>0</th>\n",
       "      <td>5</td>\n",
       "      <td>0</td>\n",
       "      <td>0</td>\n",
       "      <td>0</td>\n",
       "      <td>0</td>\n",
       "      <td>1</td>\n",
       "      <td>2</td>\n",
       "      <td>0</td>\n",
       "      <td>6.9</td>\n",
       "      <td>yes</td>\n",
       "      <td>male</td>\n",
       "      <td>yes</td>\n",
       "      <td>6</td>\n",
       "      <td>2.8810</td>\n",
       "      <td>yes</td>\n",
       "      <td>yes</td>\n",
       "      <td>no</td>\n",
       "      <td>other</td>\n",
       "      <td>other</td>\n",
       "    </tr>\n",
       "    <tr>\n",
       "      <th>1</th>\n",
       "      <td>1</td>\n",
       "      <td>0</td>\n",
       "      <td>2</td>\n",
       "      <td>0</td>\n",
       "      <td>2</td>\n",
       "      <td>0</td>\n",
       "      <td>2</td>\n",
       "      <td>0</td>\n",
       "      <td>7.4</td>\n",
       "      <td>no</td>\n",
       "      <td>female</td>\n",
       "      <td>yes</td>\n",
       "      <td>10</td>\n",
       "      <td>2.7478</td>\n",
       "      <td>no</td>\n",
       "      <td>yes</td>\n",
       "      <td>no</td>\n",
       "      <td>other</td>\n",
       "      <td>other</td>\n",
       "    </tr>\n",
       "    <tr>\n",
       "      <th>2</th>\n",
       "      <td>13</td>\n",
       "      <td>0</td>\n",
       "      <td>0</td>\n",
       "      <td>0</td>\n",
       "      <td>3</td>\n",
       "      <td>3</td>\n",
       "      <td>4</td>\n",
       "      <td>1</td>\n",
       "      <td>6.6</td>\n",
       "      <td>yes</td>\n",
       "      <td>female</td>\n",
       "      <td>no</td>\n",
       "      <td>10</td>\n",
       "      <td>0.6532</td>\n",
       "      <td>no</td>\n",
       "      <td>no</td>\n",
       "      <td>yes</td>\n",
       "      <td>other</td>\n",
       "      <td>poor</td>\n",
       "    </tr>\n",
       "    <tr>\n",
       "      <th>3</th>\n",
       "      <td>16</td>\n",
       "      <td>0</td>\n",
       "      <td>5</td>\n",
       "      <td>0</td>\n",
       "      <td>1</td>\n",
       "      <td>1</td>\n",
       "      <td>2</td>\n",
       "      <td>1</td>\n",
       "      <td>7.6</td>\n",
       "      <td>no</td>\n",
       "      <td>male</td>\n",
       "      <td>yes</td>\n",
       "      <td>3</td>\n",
       "      <td>0.6588</td>\n",
       "      <td>no</td>\n",
       "      <td>yes</td>\n",
       "      <td>no</td>\n",
       "      <td>other</td>\n",
       "      <td>poor</td>\n",
       "    </tr>\n",
       "    <tr>\n",
       "      <th>4</th>\n",
       "      <td>3</td>\n",
       "      <td>0</td>\n",
       "      <td>0</td>\n",
       "      <td>0</td>\n",
       "      <td>0</td>\n",
       "      <td>0</td>\n",
       "      <td>2</td>\n",
       "      <td>1</td>\n",
       "      <td>7.9</td>\n",
       "      <td>no</td>\n",
       "      <td>female</td>\n",
       "      <td>yes</td>\n",
       "      <td>6</td>\n",
       "      <td>0.6588</td>\n",
       "      <td>no</td>\n",
       "      <td>yes</td>\n",
       "      <td>no</td>\n",
       "      <td>other</td>\n",
       "      <td>other</td>\n",
       "    </tr>\n",
       "  </tbody>\n",
       "</table>\n",
       "</div>"
      ],
      "text/plain": [
       "   ofp  ofnp  opp  opnp  emr  hosp  numchron  adldiff  age black     sex  \\\n",
       "0    5     0    0     0    0     1         2        0  6.9   yes    male   \n",
       "1    1     0    2     0    2     0         2        0  7.4    no  female   \n",
       "2   13     0    0     0    3     3         4        1  6.6   yes  female   \n",
       "3   16     0    5     0    1     1         2        1  7.6    no    male   \n",
       "4    3     0    0     0    0     0         2        1  7.9    no  female   \n",
       "\n",
       "  maried  school  faminc employed privins medicaid region   hlth  \n",
       "0    yes       6  2.8810      yes     yes       no  other  other  \n",
       "1    yes      10  2.7478       no     yes       no  other  other  \n",
       "2     no      10  0.6532       no      no      yes  other   poor  \n",
       "3    yes       3  0.6588       no     yes       no  other   poor  \n",
       "4    yes       6  0.6588       no     yes       no  other  other  "
      ]
     },
     "execution_count": 11,
     "metadata": {},
     "output_type": "execute_result"
    }
   ],
   "source": [
    "df.head()"
   ]
  },
  {
   "cell_type": "code",
   "execution_count": 13,
   "id": "c5a5a5dc-47ce-4996-8b7b-acd101acc0d2",
   "metadata": {},
   "outputs": [
    {
     "data": {
      "text/plain": [
       "adldiff\n",
       "0    3507\n",
       "1     899\n",
       "Name: count, dtype: int64"
      ]
     },
     "execution_count": 13,
     "metadata": {},
     "output_type": "execute_result"
    }
   ],
   "source": [
    "df['adldiff'].value_counts()"
   ]
  },
  {
   "cell_type": "code",
   "execution_count": 15,
   "id": "bb6615bb-ac40-4dc8-8969-f79d7a19d7c6",
   "metadata": {},
   "outputs": [],
   "source": [
    "data = df[['ofp', 'ofnp', 'opp', 'opnp', 'emr', 'hosp', 'numchron', 'adldiff']]"
   ]
  },
  {
   "cell_type": "code",
   "execution_count": 23,
   "id": "9fe6a818-076d-4e9f-bf48-6fb2691eb043",
   "metadata": {},
   "outputs": [
    {
     "data": {
      "text/html": [
       "<div>\n",
       "<style scoped>\n",
       "    .dataframe tbody tr th:only-of-type {\n",
       "        vertical-align: middle;\n",
       "    }\n",
       "\n",
       "    .dataframe tbody tr th {\n",
       "        vertical-align: top;\n",
       "    }\n",
       "\n",
       "    .dataframe thead th {\n",
       "        text-align: right;\n",
       "    }\n",
       "</style>\n",
       "<table border=\"1\" class=\"dataframe\">\n",
       "  <thead>\n",
       "    <tr style=\"text-align: right;\">\n",
       "      <th></th>\n",
       "      <th>ofp</th>\n",
       "      <th>ofnp</th>\n",
       "      <th>opp</th>\n",
       "      <th>opnp</th>\n",
       "      <th>emr</th>\n",
       "      <th>hosp</th>\n",
       "      <th>numchron</th>\n",
       "      <th>adldiff</th>\n",
       "    </tr>\n",
       "  </thead>\n",
       "  <tbody>\n",
       "    <tr>\n",
       "      <th>0</th>\n",
       "      <td>5</td>\n",
       "      <td>0</td>\n",
       "      <td>0</td>\n",
       "      <td>0</td>\n",
       "      <td>0</td>\n",
       "      <td>1</td>\n",
       "      <td>2</td>\n",
       "      <td>0</td>\n",
       "    </tr>\n",
       "    <tr>\n",
       "      <th>1</th>\n",
       "      <td>1</td>\n",
       "      <td>0</td>\n",
       "      <td>2</td>\n",
       "      <td>0</td>\n",
       "      <td>2</td>\n",
       "      <td>0</td>\n",
       "      <td>2</td>\n",
       "      <td>0</td>\n",
       "    </tr>\n",
       "    <tr>\n",
       "      <th>2</th>\n",
       "      <td>13</td>\n",
       "      <td>0</td>\n",
       "      <td>0</td>\n",
       "      <td>0</td>\n",
       "      <td>3</td>\n",
       "      <td>3</td>\n",
       "      <td>4</td>\n",
       "      <td>1</td>\n",
       "    </tr>\n",
       "    <tr>\n",
       "      <th>3</th>\n",
       "      <td>16</td>\n",
       "      <td>0</td>\n",
       "      <td>5</td>\n",
       "      <td>0</td>\n",
       "      <td>1</td>\n",
       "      <td>1</td>\n",
       "      <td>2</td>\n",
       "      <td>1</td>\n",
       "    </tr>\n",
       "    <tr>\n",
       "      <th>4</th>\n",
       "      <td>3</td>\n",
       "      <td>0</td>\n",
       "      <td>0</td>\n",
       "      <td>0</td>\n",
       "      <td>0</td>\n",
       "      <td>0</td>\n",
       "      <td>2</td>\n",
       "      <td>1</td>\n",
       "    </tr>\n",
       "    <tr>\n",
       "      <th>5</th>\n",
       "      <td>17</td>\n",
       "      <td>0</td>\n",
       "      <td>0</td>\n",
       "      <td>0</td>\n",
       "      <td>0</td>\n",
       "      <td>0</td>\n",
       "      <td>5</td>\n",
       "      <td>1</td>\n",
       "    </tr>\n",
       "    <tr>\n",
       "      <th>6</th>\n",
       "      <td>9</td>\n",
       "      <td>0</td>\n",
       "      <td>0</td>\n",
       "      <td>0</td>\n",
       "      <td>0</td>\n",
       "      <td>0</td>\n",
       "      <td>0</td>\n",
       "      <td>0</td>\n",
       "    </tr>\n",
       "    <tr>\n",
       "      <th>7</th>\n",
       "      <td>3</td>\n",
       "      <td>0</td>\n",
       "      <td>0</td>\n",
       "      <td>0</td>\n",
       "      <td>0</td>\n",
       "      <td>0</td>\n",
       "      <td>0</td>\n",
       "      <td>0</td>\n",
       "    </tr>\n",
       "    <tr>\n",
       "      <th>8</th>\n",
       "      <td>1</td>\n",
       "      <td>0</td>\n",
       "      <td>0</td>\n",
       "      <td>0</td>\n",
       "      <td>0</td>\n",
       "      <td>0</td>\n",
       "      <td>0</td>\n",
       "      <td>0</td>\n",
       "    </tr>\n",
       "    <tr>\n",
       "      <th>9</th>\n",
       "      <td>0</td>\n",
       "      <td>0</td>\n",
       "      <td>0</td>\n",
       "      <td>0</td>\n",
       "      <td>0</td>\n",
       "      <td>0</td>\n",
       "      <td>0</td>\n",
       "      <td>0</td>\n",
       "    </tr>\n",
       "  </tbody>\n",
       "</table>\n",
       "</div>"
      ],
      "text/plain": [
       "   ofp  ofnp  opp  opnp  emr  hosp  numchron  adldiff\n",
       "0    5     0    0     0    0     1         2        0\n",
       "1    1     0    2     0    2     0         2        0\n",
       "2   13     0    0     0    3     3         4        1\n",
       "3   16     0    5     0    1     1         2        1\n",
       "4    3     0    0     0    0     0         2        1\n",
       "5   17     0    0     0    0     0         5        1\n",
       "6    9     0    0     0    0     0         0        0\n",
       "7    3     0    0     0    0     0         0        0\n",
       "8    1     0    0     0    0     0         0        0\n",
       "9    0     0    0     0    0     0         0        0"
      ]
     },
     "execution_count": 23,
     "metadata": {},
     "output_type": "execute_result"
    }
   ],
   "source": [
    "data.head(10)"
   ]
  },
  {
   "cell_type": "markdown",
   "id": "aea76177-7977-4d49-b6a9-6ea65f515260",
   "metadata": {},
   "source": [
    "### будем предсказывать наличие у человека услвоий для ограничения активности в повседневной жизни (adldiff) на основе обращений в мед кабинеты (первые 7 столбцов ofp\tofnp\topp\topnp\temr\thosp\tnumchron)"
   ]
  },
  {
   "cell_type": "code",
   "execution_count": 25,
   "id": "546b515e-698c-493f-8c39-796f2f6b87a6",
   "metadata": {},
   "outputs": [],
   "source": [
    "target = data['adldiff']"
   ]
  },
  {
   "cell_type": "code",
   "execution_count": 27,
   "id": "2911bd9a-5678-40cf-877b-b855134df619",
   "metadata": {},
   "outputs": [],
   "source": [
    "X_train, X_test , y_train , y_test = train_test_split (data, target, test_size = 0.4, random_state = 77)"
   ]
  },
  {
   "cell_type": "code",
   "execution_count": 29,
   "id": "992074fe-15c5-486e-993d-96b8ca5e4597",
   "metadata": {},
   "outputs": [
    {
     "data": {
      "text/plain": [
       "(4406, 8)"
      ]
     },
     "execution_count": 29,
     "metadata": {},
     "output_type": "execute_result"
    }
   ],
   "source": [
    "data.shape"
   ]
  },
  {
   "cell_type": "code",
   "execution_count": 31,
   "id": "57c16eef-5f3c-4e86-ab3d-2e4fd90492e0",
   "metadata": {},
   "outputs": [
    {
     "data": {
      "text/plain": [
       "(2643, 8)"
      ]
     },
     "execution_count": 31,
     "metadata": {},
     "output_type": "execute_result"
    }
   ],
   "source": [
    "X_train.shape"
   ]
  },
  {
   "cell_type": "code",
   "execution_count": 129,
   "id": "de46ea4f-4240-41da-98be-109b6c5b6226",
   "metadata": {},
   "outputs": [
    {
     "data": {
      "text/plain": [
       "(1763, 8)"
      ]
     },
     "execution_count": 129,
     "metadata": {},
     "output_type": "execute_result"
    }
   ],
   "source": [
    "X_test.shape"
   ]
  },
  {
   "cell_type": "code",
   "execution_count": 131,
   "id": "3d146ca2-359c-40b3-9017-682ad542bb43",
   "metadata": {},
   "outputs": [
    {
     "data": {
      "text/plain": [
       "(2643,)"
      ]
     },
     "execution_count": 131,
     "metadata": {},
     "output_type": "execute_result"
    }
   ],
   "source": [
    "y_train.shape"
   ]
  },
  {
   "cell_type": "code",
   "execution_count": 133,
   "id": "65f22e84-2d43-4342-8827-51e9e0beb6e8",
   "metadata": {},
   "outputs": [
    {
     "data": {
      "text/plain": [
       "(1763,)"
      ]
     },
     "execution_count": 133,
     "metadata": {},
     "output_type": "execute_result"
    }
   ],
   "source": [
    "y_test.shape"
   ]
  },
  {
   "cell_type": "markdown",
   "id": "050bd3c2-7c55-4d18-a8fd-9852dac38162",
   "metadata": {},
   "source": [
    "### поделили 60/40"
   ]
  },
  {
   "cell_type": "code",
   "execution_count": 33,
   "id": "9fe4937f-cdbb-45c9-84d7-31ac8599b399",
   "metadata": {},
   "outputs": [],
   "source": [
    "from sklearn.tree import DecisionTreeClassifier"
   ]
  },
  {
   "cell_type": "code",
   "execution_count": 35,
   "id": "8c93beee-e4dd-4677-9cf9-2989851934a9",
   "metadata": {},
   "outputs": [],
   "source": [
    "clf = DecisionTreeClassifier()\n",
    "clf.fit(X_train, y_train)\n",
    "y_pred = clf.predict(X_test)"
   ]
  },
  {
   "cell_type": "code",
   "execution_count": 37,
   "id": "d2756700-3566-4fbf-899c-539cf48bae69",
   "metadata": {},
   "outputs": [
    {
     "data": {
      "text/plain": [
       "numpy.ndarray"
      ]
     },
     "execution_count": 37,
     "metadata": {},
     "output_type": "execute_result"
    }
   ],
   "source": [
    "type(y_pred)"
   ]
  },
  {
   "cell_type": "code",
   "execution_count": 39,
   "id": "0fff5b4a-bf61-4ed2-8522-3ab9fff51f52",
   "metadata": {},
   "outputs": [
    {
     "data": {
      "text/plain": [
       "pandas.core.series.Series"
      ]
     },
     "execution_count": 39,
     "metadata": {},
     "output_type": "execute_result"
    }
   ],
   "source": [
    "type(y_test)"
   ]
  },
  {
   "cell_type": "code",
   "execution_count": 43,
   "id": "7de94665-1b95-4113-8746-d855babeb2f7",
   "metadata": {},
   "outputs": [
    {
     "data": {
      "text/plain": [
       "array([0, 1, 0, ..., 0, 0, 0], dtype=int64)"
      ]
     },
     "execution_count": 43,
     "metadata": {},
     "output_type": "execute_result"
    }
   ],
   "source": [
    "y_test.values #чтобы вытащить array"
   ]
  },
  {
   "cell_type": "code",
   "execution_count": 45,
   "id": "6dfdc57d-7caa-46e6-830b-649935b84f5f",
   "metadata": {},
   "outputs": [
    {
     "data": {
      "text/plain": [
       "numpy.ndarray"
      ]
     },
     "execution_count": 45,
     "metadata": {},
     "output_type": "execute_result"
    }
   ],
   "source": [
    "type(y_test.values)"
   ]
  },
  {
   "cell_type": "code",
   "execution_count": 47,
   "id": "3685a180-c1c4-4ebe-907b-cc2651f3ab54",
   "metadata": {},
   "outputs": [
    {
     "data": {
      "text/plain": [
       "numpy.ndarray"
      ]
     },
     "execution_count": 47,
     "metadata": {},
     "output_type": "execute_result"
    }
   ],
   "source": [
    "type(y_pred)"
   ]
  },
  {
   "cell_type": "code",
   "execution_count": 49,
   "id": "eaedc292-7fb5-4e00-86ca-16a1d53e94b3",
   "metadata": {},
   "outputs": [
    {
     "data": {
      "text/plain": [
       "array([0, 1, 0, ..., 0, 0, 0], dtype=int64)"
      ]
     },
     "execution_count": 49,
     "metadata": {},
     "output_type": "execute_result"
    }
   ],
   "source": [
    "y_pred"
   ]
  },
  {
   "cell_type": "code",
   "execution_count": 51,
   "id": "fe0ae1b5-4a9b-4762-9fdc-107715855a23",
   "metadata": {},
   "outputs": [
    {
     "data": {
      "text/plain": [
       "(1763,)"
      ]
     },
     "execution_count": 51,
     "metadata": {},
     "output_type": "execute_result"
    }
   ],
   "source": [
    "y_pred.shape"
   ]
  },
  {
   "cell_type": "markdown",
   "id": "2f0bac30-2d2c-414c-ae5e-884f0b9a32d0",
   "metadata": {},
   "source": [
    "### Ну вот собственно предсказанные значения таргета. Дальше будем смотреть их качество"
   ]
  },
  {
   "cell_type": "code",
   "execution_count": 56,
   "id": "c6d9ee75-f76f-47f2-9d02-87d23b01776e",
   "metadata": {},
   "outputs": [
    {
     "data": {
      "text/plain": [
       "array([[1420,    0],\n",
       "       [   0,  343]], dtype=int64)"
      ]
     },
     "execution_count": 56,
     "metadata": {},
     "output_type": "execute_result"
    }
   ],
   "source": [
    "confusion_matrix(y_pred, y_test.values)"
   ]
  },
  {
   "cell_type": "code",
   "execution_count": 54,
   "id": "31341e0c-3f7d-4e44-a1a3-f32258da0453",
   "metadata": {},
   "outputs": [
    {
     "data": {
      "image/png": "[encoded data removed]",
      "text/plain": [
       "<Figure size 640x480 with 2 Axes>"
      ]
     },
     "metadata": {},
     "output_type": "display_data"
    }
   ],
   "source": [
    "import seaborn as sns\n",
    "from sklearn.metrics import confusion_matrix\n",
    "sns.heatmap(confusion_matrix(y_pred, y_test.values), annot = True)\n",
    "plt.show()"
   ]
  },
  {
   "cell_type": "code",
   "execution_count": 62,
   "id": "8a3cebb8-d233-4ee5-a839-6975bd75d085",
   "metadata": {},
   "outputs": [],
   "source": [
    "from sklearn.metrics import precision_score,recall_score, accuracy_score, f1_score"
   ]
  },
  {
   "cell_type": "code",
   "execution_count": 68,
   "id": "200abcc1-e7eb-4eef-9803-6df45d899ad5",
   "metadata": {},
   "outputs": [
    {
     "data": {
      "text/plain": [
       "array([[1420,    0],\n",
       "       [   0,  343]], dtype=int64)"
      ]
     },
     "execution_count": 68,
     "metadata": {},
     "output_type": "execute_result"
    }
   ],
   "source": [
    "cm = confusion_matrix(y_test.values, y_pred)\n",
    "cm"
   ]
  },
  {
   "cell_type": "code",
   "execution_count": 75,
   "id": "46f5071c-d99e-4efc-9003-94a2d193dbba",
   "metadata": {},
   "outputs": [
    {
     "name": "stdout",
     "output_type": "stream",
     "text": [
      "Accuracy 1.0\n",
      "Precision 1.0\n",
      "Recall 1.0\n",
      "F1 1.0\n"
     ]
    }
   ],
   "source": [
    "print('Accuracy', accuracy_score(y_test.values, y_pred))\n",
    "print('Precision', cm[1,1] / (cm[1,1] + cm[0,1])) #precision_score не сработал, возможно потому что тащу \"y_test\" костылем\n",
    "print('Recall', recall_score(y_test.values, y_pred))\n",
    "print('F1', f1_score(y_test.values, y_pred))"
   ]
  },
  {
   "cell_type": "markdown",
   "id": "5cdcc3a9-665a-4d66-8064-1ce3cc34d557",
   "metadata": {},
   "source": [
    "### Получается все идеально предсказано? Если честно немного смущают единицы во всех метриках качества но тест есть тест."
   ]
  },
  {
   "cell_type": "markdown",
   "id": "6b02f8ed-0e26-41fa-a49b-713dae29a149",
   "metadata": {},
   "source": [
    "### Предсказываемое значение бинарное - посмотрим ROC-AUC"
   ]
  },
  {
   "cell_type": "code",
   "execution_count": 77,
   "id": "7164df41-630a-4ddb-a418-80affd50274f",
   "metadata": {},
   "outputs": [],
   "source": [
    "from sklearn.linear_model import LogisticRegression\n",
    "X = data[['ofp', 'ofnp', 'opp', 'opnp', 'emr', 'hosp', 'numchron']].values\n",
    "y = data['adldiff'].values\n",
    "X_train, X_test, y_train, y_test = train_test_split (X, y, test_size = 0.4, random_state = 77)"
   ]
  },
  {
   "cell_type": "code",
   "execution_count": 83,
   "id": "d742f89f-cce6-4ecc-8047-99ceaf3584e8",
   "metadata": {},
   "outputs": [
    {
     "data": {
      "text/plain": [
       "array([[ 0,  0, 15, ...,  1,  2,  4],\n",
       "       [ 7,  0,  1, ...,  0,  1,  1],\n",
       "       [ 3,  0,  0, ...,  0,  0,  0],\n",
       "       ...,\n",
       "       [29, 36,  3, ...,  0,  2,  2],\n",
       "       [ 9,  1,  0, ...,  0,  0,  1],\n",
       "       [ 0,  5,  0, ...,  0,  0,  1]], dtype=int64)"
      ]
     },
     "execution_count": 83,
     "metadata": {},
     "output_type": "execute_result"
    }
   ],
   "source": [
    "X_test"
   ]
  },
  {
   "cell_type": "code",
   "execution_count": 85,
   "id": "e2887b7e-09ae-46fd-9d2f-d2fb0fa34e6f",
   "metadata": {},
   "outputs": [],
   "source": [
    "model = LogisticRegression()\n",
    "model.fit(X_train, y_train)\n",
    "pred = model.predict(X_test)\n",
    "probs= model.predict_proba(X_test)\n",
    "probs = probs [:, 1]"
   ]
  },
  {
   "cell_type": "code",
   "execution_count": 90,
   "id": "67d2caaa-28dd-4aa5-934c-271662d836b4",
   "metadata": {},
   "outputs": [
    {
     "data": {
      "text/plain": [
       "array([[1400,   20],\n",
       "       [ 312,   31]], dtype=int64)"
      ]
     },
     "execution_count": 90,
     "metadata": {},
     "output_type": "execute_result"
    }
   ],
   "source": [
    "confusion_matrix(y_test, pred)"
   ]
  },
  {
   "cell_type": "markdown",
   "id": "0bf48f96-4fee-4ae5-9cb9-c552b98452da",
   "metadata": {},
   "source": [
    "### Метрики качества:"
   ]
  },
  {
   "cell_type": "code",
   "execution_count": 93,
   "id": "8ae491a9-762d-49ec-9ab7-0e2ea7651fbb",
   "metadata": {},
   "outputs": [
    {
     "name": "stdout",
     "output_type": "stream",
     "text": [
      "Accuracy 0.8116846284741918\n",
      "Precision 0.6078431372549019\n",
      "Recall 0.09037900874635568\n",
      "F1 0.15736040609137056\n"
     ]
    }
   ],
   "source": [
    "print('Accuracy', accuracy_score(y_test, pred))\n",
    "print('Precision', precision_score(y_test, pred))\n",
    "print('Recall', recall_score(y_test, pred))\n",
    "print('F1', f1_score(y_test, pred))"
   ]
  },
  {
   "cell_type": "code",
   "execution_count": 97,
   "id": "5140816a-109d-4fd6-b45c-d51bfa82d57c",
   "metadata": {},
   "outputs": [
    {
     "data": {
      "text/plain": [
       "0.6973032069970846"
      ]
     },
     "execution_count": 97,
     "metadata": {},
     "output_type": "execute_result"
    }
   ],
   "source": [
    "from sklearn.metrics import roc_curve, auc\n",
    "from sklearn.metrics import roc_auc_score\n",
    "\n",
    "auc_score = roc_auc_score(y_test, probs)\n",
    "fpr, tpr, threshold = roc_curve(y_test, probs)\n",
    "roc_auc = auc(fpr, tpr)\n",
    "auc_score"
   ]
  },
  {
   "cell_type": "markdown",
   "id": "5ee08f35-d9da-4945-9efa-1fa635e4f454",
   "metadata": {},
   "source": [
    "### Отрисуем оценку:"
   ]
  },
  {
   "cell_type": "code",
   "execution_count": 100,
   "id": "68bc858f-4513-4dcd-945a-0ff2d75d8809",
   "metadata": {},
   "outputs": [
    {
     "data": {
      "image/png": "[encoded data removed]",
      "text/plain": [
       "<Figure size 640x480 with 1 Axes>"
      ]
     },
     "metadata": {},
     "output_type": "display_data"
    }
   ],
   "source": [
    "plt.plot(fpr, tpr, color = 'darkorange', label ='ROC кривая area = %0.2f)' % roc_auc)\n",
    "plt.plot([0, 1], [0, 1], color = 'navy', linestyle = '--')\n",
    "plt.xlim([0.0, 1.0])\n",
    "plt.ylim([0.0, 1.0])\n",
    "plt.xlabel('False Positive Rate')\n",
    "plt.ylabel('True Positive Rate')\n",
    "plt.title('Пример ROC кривой')\n",
    "plt.legend()\n",
    "plt.show()"
   ]
  },
  {
   "cell_type": "markdown",
   "id": "5d826037-f2cb-47d2-9d44-4deaf355b4dd",
   "metadata": {},
   "source": [
    "### Ну в целом неплохая метрика. auc_score 0,7 и график явно не пересекает синюю линию. Уверено растет до середины оси х. И сходится с синей в 1 - тоже не плохо."
   ]
  },
  {
   "cell_type": "markdown",
   "id": "ce3a8068-58b6-4c12-b895-4dad51c7830f",
   "metadata": {},
   "source": [
    "### Регрессия:"
   ]
  },
  {
   "cell_type": "code",
   "execution_count": 104,
   "id": "2a1e347f-8c5f-428b-9091-9af4348e9a90",
   "metadata": {},
   "outputs": [],
   "source": [
    "from sklearn.tree import DecisionTreeRegressor\n",
    "from sklearn.metrics import mean_squared_error, mean_absolute_error, mean_absolute_percentage_error"
   ]
  },
  {
   "cell_type": "code",
   "execution_count": 112,
   "id": "0f76965c-d208-4f22-a3da-908ad52e4013",
   "metadata": {},
   "outputs": [
    {
     "data": {
      "text/html": [
       "<div>\n",
       "<style scoped>\n",
       "    .dataframe tbody tr th:only-of-type {\n",
       "        vertical-align: middle;\n",
       "    }\n",
       "\n",
       "    .dataframe tbody tr th {\n",
       "        vertical-align: top;\n",
       "    }\n",
       "\n",
       "    .dataframe thead th {\n",
       "        text-align: right;\n",
       "    }\n",
       "</style>\n",
       "<table border=\"1\" class=\"dataframe\">\n",
       "  <thead>\n",
       "    <tr style=\"text-align: right;\">\n",
       "      <th></th>\n",
       "      <th>ofp</th>\n",
       "      <th>ofnp</th>\n",
       "      <th>opp</th>\n",
       "      <th>opnp</th>\n",
       "      <th>emr</th>\n",
       "      <th>hosp</th>\n",
       "      <th>numchron</th>\n",
       "      <th>adldiff</th>\n",
       "    </tr>\n",
       "  </thead>\n",
       "  <tbody>\n",
       "    <tr>\n",
       "      <th>0</th>\n",
       "      <td>5</td>\n",
       "      <td>0</td>\n",
       "      <td>0</td>\n",
       "      <td>0</td>\n",
       "      <td>0</td>\n",
       "      <td>1</td>\n",
       "      <td>2</td>\n",
       "      <td>0</td>\n",
       "    </tr>\n",
       "    <tr>\n",
       "      <th>1</th>\n",
       "      <td>1</td>\n",
       "      <td>0</td>\n",
       "      <td>2</td>\n",
       "      <td>0</td>\n",
       "      <td>2</td>\n",
       "      <td>0</td>\n",
       "      <td>2</td>\n",
       "      <td>0</td>\n",
       "    </tr>\n",
       "    <tr>\n",
       "      <th>2</th>\n",
       "      <td>13</td>\n",
       "      <td>0</td>\n",
       "      <td>0</td>\n",
       "      <td>0</td>\n",
       "      <td>3</td>\n",
       "      <td>3</td>\n",
       "      <td>4</td>\n",
       "      <td>1</td>\n",
       "    </tr>\n",
       "    <tr>\n",
       "      <th>3</th>\n",
       "      <td>16</td>\n",
       "      <td>0</td>\n",
       "      <td>5</td>\n",
       "      <td>0</td>\n",
       "      <td>1</td>\n",
       "      <td>1</td>\n",
       "      <td>2</td>\n",
       "      <td>1</td>\n",
       "    </tr>\n",
       "    <tr>\n",
       "      <th>4</th>\n",
       "      <td>3</td>\n",
       "      <td>0</td>\n",
       "      <td>0</td>\n",
       "      <td>0</td>\n",
       "      <td>0</td>\n",
       "      <td>0</td>\n",
       "      <td>2</td>\n",
       "      <td>1</td>\n",
       "    </tr>\n",
       "  </tbody>\n",
       "</table>\n",
       "</div>"
      ],
      "text/plain": [
       "   ofp  ofnp  opp  opnp  emr  hosp  numchron  adldiff\n",
       "0    5     0    0     0    0     1         2        0\n",
       "1    1     0    2     0    2     0         2        0\n",
       "2   13     0    0     0    3     3         4        1\n",
       "3   16     0    5     0    1     1         2        1\n",
       "4    3     0    0     0    0     0         2        1"
      ]
     },
     "execution_count": 112,
     "metadata": {},
     "output_type": "execute_result"
    }
   ],
   "source": [
    "data.head()"
   ]
  },
  {
   "cell_type": "code",
   "execution_count": 137,
   "id": "c18112e7-d235-450c-9331-d4662c7ee652",
   "metadata": {},
   "outputs": [],
   "source": [
    "target = data['adldiff']"
   ]
  },
  {
   "cell_type": "code",
   "execution_count": 139,
   "id": "bab4d4ed-9a85-43e6-85be-448da518eff8",
   "metadata": {},
   "outputs": [
    {
     "data": {
      "text/plain": [
       "0    0\n",
       "1    0\n",
       "2    1\n",
       "3    1\n",
       "4    1\n",
       "Name: adldiff, dtype: int64"
      ]
     },
     "execution_count": 139,
     "metadata": {},
     "output_type": "execute_result"
    }
   ],
   "source": [
    "target.head()"
   ]
  },
  {
   "cell_type": "code",
   "execution_count": 116,
   "id": "76fa0836-a311-4e73-98fc-a8ea29e81301",
   "metadata": {},
   "outputs": [],
   "source": [
    "X_train, X_test , y_train , y_test = train_test_split (data, target, test_size =0.4, random_state = 77)"
   ]
  },
  {
   "cell_type": "code",
   "execution_count": 126,
   "id": "030b023c-2e8f-4975-b387-f83e09ec38a7",
   "metadata": {},
   "outputs": [],
   "source": [
    "regressor = DecisionTreeRegressor(max_depth = 10)\n",
    "regressor.fit(X_train, y_train)\n",
    "y_pred = regressor.predict(X_test)"
   ]
  },
  {
   "cell_type": "code",
   "execution_count": 133,
   "id": "6889373e-5985-4aa8-93dc-7ec2b6651f8d",
   "metadata": {},
   "outputs": [
    {
     "data": {
      "text/plain": [
       "<function matplotlib.pyplot.show(close=None, block=None)>"
      ]
     },
     "execution_count": 133,
     "metadata": {},
     "output_type": "execute_result"
    },
    {
     "data": {
      "image/png": "[encoded data removed]",
      "text/plain": [
       "<Figure size 640x480 with 1 Axes>"
      ]
     },
     "metadata": {},
     "output_type": "display_data"
    }
   ],
   "source": [
    "plt.scatter(x = y_test, y = y_pred)\n",
    "plt.show"
   ]
  },
  {
   "cell_type": "code",
   "execution_count": 130,
   "id": "1d131d7a-17b5-4154-96b4-28cbbd5a7a95",
   "metadata": {},
   "outputs": [
    {
     "name": "stdout",
     "output_type": "stream",
     "text": [
      "MSE 0.0\n",
      "MAE 0.0\n",
      "MAPE 0.0\n"
     ]
    }
   ],
   "source": [
    "mse = mean_squared_error(y_test , y_pred)\n",
    "mae = mean_absolute_error(y_test , y_pred)\n",
    "mape = mean_absolute_percentage_error(y_test , y_pred)\n",
    "print('MSE', mse)\n",
    "print('MAE', mae)\n",
    "print('MAPE', mape)"
   ]
  },
  {
   "cell_type": "markdown",
   "id": "29179134-14b0-4f5e-a2b2-db9337e9f971",
   "metadata": {},
   "source": [
    "### Вот тут я немного сомневаюсь: вроде бы точки на одной прямой (это хорошо как я понял из лекции). Но их всего две - это смущает."
   ]
  }
 ],
 "metadata": {
  "kernelspec": {
   "display_name": "Python 3 (ipykernel)",
   "language": "python",
   "name": "python3"
  },
  "language_info": {
   "codemirror_mode": {
    "name": "ipython",
    "version": 3
   },
   "file_extension": ".py",
   "mimetype": "text/x-python",
   "name": "python",
   "nbconvert_exporter": "python",
   "pygments_lexer": "ipython3",
   "version": "3.12.4"
  }
 },
 "nbformat": 4,
 "nbformat_minor": 5
}
