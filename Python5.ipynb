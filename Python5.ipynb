{
 "cells": [
  {
   "cell_type": "markdown",
   "id": "99fc5fec",
   "metadata": {},
   "source": [
    "### Pandas"
   ]
  },
  {
   "cell_type": "markdown",
   "id": "c28f66e7",
   "metadata": {},
   "source": [
    "Pandas - panel datasets"
   ]
  },
  {
   "cell_type": "code",
   "execution_count": 3,
   "id": "6cd6c3fa",
   "metadata": {},
   "outputs": [],
   "source": [
    "import pandas as pd\n",
    "import numpy as np"
   ]
  },
  {
   "cell_type": "markdown",
   "id": "0e305182",
   "metadata": {},
   "source": [
    "### Серия"
   ]
  },
  {
   "cell_type": "code",
   "execution_count": 3,
   "id": "cd6db181",
   "metadata": {},
   "outputs": [],
   "source": [
    "a = pd.Series([1,2,3,4])"
   ]
  },
  {
   "cell_type": "markdown",
   "id": "c3922730",
   "metadata": {},
   "source": [
    "Атрибуты:\n",
    "1) Индекс\n",
    "2) Имя серии\n",
    "3) Тип данных\n",
    "4) Имя индекса\n",
    "5) Форма\n",
    "6) Количество элементов\n",
    "7) Значения"
   ]
  },
  {
   "cell_type": "code",
   "execution_count": 4,
   "id": "868e2a1b",
   "metadata": {},
   "outputs": [
    {
     "data": {
      "text/plain": [
       "RangeIndex(start=0, stop=4, step=1)"
      ]
     },
     "execution_count": 4,
     "metadata": {},
     "output_type": "execute_result"
    }
   ],
   "source": [
    "a.index"
   ]
  },
  {
   "cell_type": "code",
   "execution_count": 5,
   "id": "2af2aa43",
   "metadata": {},
   "outputs": [],
   "source": [
    "a.name"
   ]
  },
  {
   "cell_type": "code",
   "execution_count": 6,
   "id": "4bb3bd87",
   "metadata": {},
   "outputs": [
    {
     "data": {
      "text/plain": [
       "dtype('int64')"
      ]
     },
     "execution_count": 6,
     "metadata": {},
     "output_type": "execute_result"
    }
   ],
   "source": [
    "a.dtype"
   ]
  },
  {
   "cell_type": "code",
   "execution_count": 7,
   "id": "cb1b3eca",
   "metadata": {},
   "outputs": [],
   "source": [
    "a.index.name"
   ]
  },
  {
   "cell_type": "code",
   "execution_count": 8,
   "id": "b1ecb505",
   "metadata": {},
   "outputs": [
    {
     "data": {
      "text/plain": [
       "(4,)"
      ]
     },
     "execution_count": 8,
     "metadata": {},
     "output_type": "execute_result"
    }
   ],
   "source": [
    "a.shape"
   ]
  },
  {
   "cell_type": "code",
   "execution_count": 9,
   "id": "294ff45e",
   "metadata": {},
   "outputs": [
    {
     "data": {
      "text/plain": [
       "4"
      ]
     },
     "execution_count": 9,
     "metadata": {},
     "output_type": "execute_result"
    }
   ],
   "source": [
    "a.size"
   ]
  },
  {
   "cell_type": "code",
   "execution_count": 10,
   "id": "e00bb95e",
   "metadata": {},
   "outputs": [
    {
     "data": {
      "text/plain": [
       "array([1, 2, 3, 4])"
      ]
     },
     "execution_count": 10,
     "metadata": {},
     "output_type": "execute_result"
    }
   ],
   "source": [
    "a.values"
   ]
  },
  {
   "cell_type": "code",
   "execution_count": 11,
   "id": "3df1bf00",
   "metadata": {},
   "outputs": [],
   "source": [
    "b = pd.Series([1,2,3,4], index = ['a', 'b', 'c', 'd'])"
   ]
  },
  {
   "cell_type": "code",
   "execution_count": 16,
   "id": "dbbb84e5",
   "metadata": {},
   "outputs": [
    {
     "data": {
      "text/plain": [
       "Index(['a', 'b', 'c', 'd'], dtype='object')"
      ]
     },
     "execution_count": 16,
     "metadata": {},
     "output_type": "execute_result"
    }
   ],
   "source": [
    "b.index"
   ]
  },
  {
   "cell_type": "code",
   "execution_count": 17,
   "id": "2ecb3c26",
   "metadata": {},
   "outputs": [],
   "source": [
    "c = pd.Series({'a': 1, 'b':2, 'c':3, 'd':4})"
   ]
  },
  {
   "cell_type": "code",
   "execution_count": 18,
   "id": "a0b6d9fa",
   "metadata": {},
   "outputs": [
    {
     "data": {
      "text/plain": [
       "Index(['a', 'b', 'c', 'd'], dtype='object')"
      ]
     },
     "execution_count": 18,
     "metadata": {},
     "output_type": "execute_result"
    }
   ],
   "source": [
    "c.index"
   ]
  },
  {
   "cell_type": "code",
   "execution_count": 19,
   "id": "3ceb820b",
   "metadata": {},
   "outputs": [],
   "source": [
    "c.name = 'Number'"
   ]
  },
  {
   "cell_type": "code",
   "execution_count": 20,
   "id": "1b05864b",
   "metadata": {},
   "outputs": [
    {
     "data": {
      "text/plain": [
       "a    1\n",
       "b    2\n",
       "c    3\n",
       "d    4\n",
       "Name: Number, dtype: int64"
      ]
     },
     "execution_count": 20,
     "metadata": {},
     "output_type": "execute_result"
    }
   ],
   "source": [
    "c"
   ]
  },
  {
   "cell_type": "code",
   "execution_count": 21,
   "id": "478114ea",
   "metadata": {},
   "outputs": [],
   "source": [
    "prices = pd.Series({'Яблоки': 150, 'Бананы' : 120, 'Апельсины' : 200}, name = 'Цены')"
   ]
  },
  {
   "cell_type": "code",
   "execution_count": 22,
   "id": "15bd8f2d",
   "metadata": {},
   "outputs": [
    {
     "data": {
      "text/plain": [
       "Яблоки       150\n",
       "Бананы       120\n",
       "Апельсины    200\n",
       "Name: Цены, dtype: int64"
      ]
     },
     "execution_count": 22,
     "metadata": {},
     "output_type": "execute_result"
    }
   ],
   "source": [
    "prices"
   ]
  },
  {
   "cell_type": "code",
   "execution_count": 23,
   "id": "d8bcdb80",
   "metadata": {},
   "outputs": [
    {
     "data": {
      "text/plain": [
       "dtype('int64')"
      ]
     },
     "execution_count": 23,
     "metadata": {},
     "output_type": "execute_result"
    }
   ],
   "source": [
    "prices.dtypes"
   ]
  },
  {
   "cell_type": "code",
   "execution_count": 24,
   "id": "3f99099d",
   "metadata": {},
   "outputs": [],
   "source": [
    "prices.index.name = 'Фрукты'"
   ]
  },
  {
   "cell_type": "code",
   "execution_count": 25,
   "id": "72af56bf",
   "metadata": {},
   "outputs": [
    {
     "data": {
      "text/plain": [
       "Фрукты\n",
       "Яблоки       150\n",
       "Бананы       120\n",
       "Апельсины    200\n",
       "Name: Цены, dtype: int64"
      ]
     },
     "execution_count": 25,
     "metadata": {},
     "output_type": "execute_result"
    }
   ],
   "source": [
    "prices"
   ]
  },
  {
   "cell_type": "code",
   "execution_count": 26,
   "id": "a9d30ce7",
   "metadata": {},
   "outputs": [
    {
     "data": {
      "text/plain": [
       "pandas.core.series.Series"
      ]
     },
     "execution_count": 26,
     "metadata": {},
     "output_type": "execute_result"
    }
   ],
   "source": [
    "type(prices)"
   ]
  },
  {
   "cell_type": "markdown",
   "id": "6f7ece3c",
   "metadata": {},
   "source": [
    "### DataFrame (датафрейм)"
   ]
  },
  {
   "cell_type": "code",
   "execution_count": 27,
   "id": "cbe53c8f",
   "metadata": {},
   "outputs": [],
   "source": [
    "df1 = pd.DataFrame(np.array([[1,2,3], [4,5,6], [7,8,9]]))"
   ]
  },
  {
   "cell_type": "code",
   "execution_count": 28,
   "id": "41934756",
   "metadata": {},
   "outputs": [
    {
     "data": {
      "text/html": [
       "<div>\n",
       "<style scoped>\n",
       "    .dataframe tbody tr th:only-of-type {\n",
       "        vertical-align: middle;\n",
       "    }\n",
       "\n",
       "    .dataframe tbody tr th {\n",
       "        vertical-align: top;\n",
       "    }\n",
       "\n",
       "    .dataframe thead th {\n",
       "        text-align: right;\n",
       "    }\n",
       "</style>\n",
       "<table border=\"1\" class=\"dataframe\">\n",
       "  <thead>\n",
       "    <tr style=\"text-align: right;\">\n",
       "      <th></th>\n",
       "      <th>0</th>\n",
       "      <th>1</th>\n",
       "      <th>2</th>\n",
       "    </tr>\n",
       "  </thead>\n",
       "  <tbody>\n",
       "    <tr>\n",
       "      <th>0</th>\n",
       "      <td>1</td>\n",
       "      <td>2</td>\n",
       "      <td>3</td>\n",
       "    </tr>\n",
       "    <tr>\n",
       "      <th>1</th>\n",
       "      <td>4</td>\n",
       "      <td>5</td>\n",
       "      <td>6</td>\n",
       "    </tr>\n",
       "    <tr>\n",
       "      <th>2</th>\n",
       "      <td>7</td>\n",
       "      <td>8</td>\n",
       "      <td>9</td>\n",
       "    </tr>\n",
       "  </tbody>\n",
       "</table>\n",
       "</div>"
      ],
      "text/plain": [
       "   0  1  2\n",
       "0  1  2  3\n",
       "1  4  5  6\n",
       "2  7  8  9"
      ]
     },
     "execution_count": 28,
     "metadata": {},
     "output_type": "execute_result"
    }
   ],
   "source": [
    "df1"
   ]
  },
  {
   "cell_type": "markdown",
   "id": "77ac1d3e",
   "metadata": {},
   "source": [
    "Атрибуты\n",
    "1) Индекс\n",
    "2) Названия столбцов\n",
    "3) Имя индекса\n",
    "4) Тип данных"
   ]
  },
  {
   "cell_type": "code",
   "execution_count": 29,
   "id": "b6003abc",
   "metadata": {},
   "outputs": [
    {
     "data": {
      "text/plain": [
       "RangeIndex(start=0, stop=3, step=1)"
      ]
     },
     "execution_count": 29,
     "metadata": {},
     "output_type": "execute_result"
    }
   ],
   "source": [
    "df1.index"
   ]
  },
  {
   "cell_type": "code",
   "execution_count": 30,
   "id": "0ccc494b",
   "metadata": {},
   "outputs": [],
   "source": [
    "df2 = pd.DataFrame(np.array([[1,2,3], [4,5,6], [7,8,9]]), index = ['a', 'b', 'c'], columns = ['x', 'y', 'z'])"
   ]
  },
  {
   "cell_type": "code",
   "execution_count": 31,
   "id": "c5f80090",
   "metadata": {},
   "outputs": [
    {
     "data": {
      "text/plain": [
       "Index(['a', 'b', 'c'], dtype='object')"
      ]
     },
     "execution_count": 31,
     "metadata": {},
     "output_type": "execute_result"
    }
   ],
   "source": [
    "df2.index"
   ]
  },
  {
   "cell_type": "code",
   "execution_count": 32,
   "id": "d9a3df82",
   "metadata": {},
   "outputs": [
    {
     "data": {
      "text/html": [
       "<div>\n",
       "<style scoped>\n",
       "    .dataframe tbody tr th:only-of-type {\n",
       "        vertical-align: middle;\n",
       "    }\n",
       "\n",
       "    .dataframe tbody tr th {\n",
       "        vertical-align: top;\n",
       "    }\n",
       "\n",
       "    .dataframe thead th {\n",
       "        text-align: right;\n",
       "    }\n",
       "</style>\n",
       "<table border=\"1\" class=\"dataframe\">\n",
       "  <thead>\n",
       "    <tr style=\"text-align: right;\">\n",
       "      <th></th>\n",
       "      <th>x</th>\n",
       "      <th>y</th>\n",
       "      <th>z</th>\n",
       "    </tr>\n",
       "  </thead>\n",
       "  <tbody>\n",
       "    <tr>\n",
       "      <th>a</th>\n",
       "      <td>1</td>\n",
       "      <td>2</td>\n",
       "      <td>3</td>\n",
       "    </tr>\n",
       "    <tr>\n",
       "      <th>b</th>\n",
       "      <td>4</td>\n",
       "      <td>5</td>\n",
       "      <td>6</td>\n",
       "    </tr>\n",
       "    <tr>\n",
       "      <th>c</th>\n",
       "      <td>7</td>\n",
       "      <td>8</td>\n",
       "      <td>9</td>\n",
       "    </tr>\n",
       "  </tbody>\n",
       "</table>\n",
       "</div>"
      ],
      "text/plain": [
       "   x  y  z\n",
       "a  1  2  3\n",
       "b  4  5  6\n",
       "c  7  8  9"
      ]
     },
     "execution_count": 32,
     "metadata": {},
     "output_type": "execute_result"
    }
   ],
   "source": [
    "df2"
   ]
  },
  {
   "cell_type": "code",
   "execution_count": 33,
   "id": "30e657d7",
   "metadata": {},
   "outputs": [
    {
     "data": {
      "text/plain": [
       "Index(['x', 'y', 'z'], dtype='object')"
      ]
     },
     "execution_count": 33,
     "metadata": {},
     "output_type": "execute_result"
    }
   ],
   "source": [
    "df2.columns"
   ]
  },
  {
   "cell_type": "code",
   "execution_count": 35,
   "id": "e26289fd",
   "metadata": {},
   "outputs": [
    {
     "data": {
      "text/html": [
       "<div>\n",
       "<style scoped>\n",
       "    .dataframe tbody tr th:only-of-type {\n",
       "        vertical-align: middle;\n",
       "    }\n",
       "\n",
       "    .dataframe tbody tr th {\n",
       "        vertical-align: top;\n",
       "    }\n",
       "\n",
       "    .dataframe thead th {\n",
       "        text-align: right;\n",
       "    }\n",
       "</style>\n",
       "<table border=\"1\" class=\"dataframe\">\n",
       "  <thead>\n",
       "    <tr style=\"text-align: right;\">\n",
       "      <th></th>\n",
       "      <th>Яблоки</th>\n",
       "      <th>Бананы</th>\n",
       "      <th>Апельсины</th>\n",
       "    </tr>\n",
       "  </thead>\n",
       "  <tbody>\n",
       "    <tr>\n",
       "      <th>Январь</th>\n",
       "      <td>150</td>\n",
       "      <td>120</td>\n",
       "      <td>200</td>\n",
       "    </tr>\n",
       "    <tr>\n",
       "      <th>Февраль</th>\n",
       "      <td>160</td>\n",
       "      <td>110</td>\n",
       "      <td>210</td>\n",
       "    </tr>\n",
       "    <tr>\n",
       "      <th>Март</th>\n",
       "      <td>140</td>\n",
       "      <td>100</td>\n",
       "      <td>220</td>\n",
       "    </tr>\n",
       "  </tbody>\n",
       "</table>\n",
       "</div>"
      ],
      "text/plain": [
       "         Яблоки  Бананы  Апельсины\n",
       "Январь      150     120        200\n",
       "Февраль     160     110        210\n",
       "Март        140     100        220"
      ]
     },
     "execution_count": 35,
     "metadata": {},
     "output_type": "execute_result"
    }
   ],
   "source": [
    "prices_df = pd.DataFrame(\n",
    "    {\n",
    "        'Яблоки': [150, 160, 140],\n",
    "        'Бананы' : [120, 110, 100], \n",
    "        'Апельсины' : [200, 210, 220]\n",
    "    }, \n",
    "    index = ['Январь', 'Февраль', 'Март']\n",
    ")\n",
    "prices_df"
   ]
  },
  {
   "cell_type": "code",
   "execution_count": 36,
   "id": "7afd17b8",
   "metadata": {},
   "outputs": [
    {
     "data": {
      "text/plain": [
       "pandas.core.frame.DataFrame"
      ]
     },
     "execution_count": 36,
     "metadata": {},
     "output_type": "execute_result"
    }
   ],
   "source": [
    "type(prices_df)"
   ]
  },
  {
   "cell_type": "markdown",
   "id": "da85a395",
   "metadata": {},
   "source": [
    "### Основные приемы работы с датафреймами и сериями"
   ]
  },
  {
   "cell_type": "markdown",
   "id": "dcac7529",
   "metadata": {},
   "source": [
    "#### Вызов столбцов"
   ]
  },
  {
   "cell_type": "code",
   "execution_count": 37,
   "id": "5de5137f",
   "metadata": {},
   "outputs": [
    {
     "data": {
      "text/plain": [
       "Январь     150\n",
       "Февраль    160\n",
       "Март       140\n",
       "Name: Яблоки, dtype: int64"
      ]
     },
     "execution_count": 37,
     "metadata": {},
     "output_type": "execute_result"
    }
   ],
   "source": [
    "prices_df['Яблоки']"
   ]
  },
  {
   "cell_type": "code",
   "execution_count": 38,
   "id": "a094030e",
   "metadata": {},
   "outputs": [
    {
     "data": {
      "text/plain": [
       "pandas.core.series.Series"
      ]
     },
     "execution_count": 38,
     "metadata": {},
     "output_type": "execute_result"
    }
   ],
   "source": [
    "type(prices_df['Яблоки'])"
   ]
  },
  {
   "cell_type": "code",
   "execution_count": 40,
   "id": "fb09c519",
   "metadata": {},
   "outputs": [
    {
     "data": {
      "text/plain": [
       "a    1\n",
       "b    4\n",
       "c    7\n",
       "Name: x, dtype: int64"
      ]
     },
     "execution_count": 40,
     "metadata": {},
     "output_type": "execute_result"
    }
   ],
   "source": [
    "# Не рекомендуется! (легко спутать с методами и атрибутами)\n",
    "df2.x"
   ]
  },
  {
   "cell_type": "code",
   "execution_count": 41,
   "id": "5d1b278e",
   "metadata": {},
   "outputs": [
    {
     "data": {
      "text/html": [
       "<div>\n",
       "<style scoped>\n",
       "    .dataframe tbody tr th:only-of-type {\n",
       "        vertical-align: middle;\n",
       "    }\n",
       "\n",
       "    .dataframe tbody tr th {\n",
       "        vertical-align: top;\n",
       "    }\n",
       "\n",
       "    .dataframe thead th {\n",
       "        text-align: right;\n",
       "    }\n",
       "</style>\n",
       "<table border=\"1\" class=\"dataframe\">\n",
       "  <thead>\n",
       "    <tr style=\"text-align: right;\">\n",
       "      <th></th>\n",
       "      <th>Яблоки</th>\n",
       "      <th>Апельсины</th>\n",
       "    </tr>\n",
       "  </thead>\n",
       "  <tbody>\n",
       "    <tr>\n",
       "      <th>Январь</th>\n",
       "      <td>150</td>\n",
       "      <td>200</td>\n",
       "    </tr>\n",
       "    <tr>\n",
       "      <th>Февраль</th>\n",
       "      <td>160</td>\n",
       "      <td>210</td>\n",
       "    </tr>\n",
       "    <tr>\n",
       "      <th>Март</th>\n",
       "      <td>140</td>\n",
       "      <td>220</td>\n",
       "    </tr>\n",
       "  </tbody>\n",
       "</table>\n",
       "</div>"
      ],
      "text/plain": [
       "         Яблоки  Апельсины\n",
       "Январь      150        200\n",
       "Февраль     160        210\n",
       "Март        140        220"
      ]
     },
     "execution_count": 41,
     "metadata": {},
     "output_type": "execute_result"
    }
   ],
   "source": [
    "prices_df[['Яблоки', 'Апельсины']]"
   ]
  },
  {
   "cell_type": "code",
   "execution_count": 42,
   "id": "3c0e15ac",
   "metadata": {},
   "outputs": [
    {
     "data": {
      "text/html": [
       "<div>\n",
       "<style scoped>\n",
       "    .dataframe tbody tr th:only-of-type {\n",
       "        vertical-align: middle;\n",
       "    }\n",
       "\n",
       "    .dataframe tbody tr th {\n",
       "        vertical-align: top;\n",
       "    }\n",
       "\n",
       "    .dataframe thead th {\n",
       "        text-align: right;\n",
       "    }\n",
       "</style>\n",
       "<table border=\"1\" class=\"dataframe\">\n",
       "  <thead>\n",
       "    <tr style=\"text-align: right;\">\n",
       "      <th></th>\n",
       "      <th>Яблоки</th>\n",
       "      <th>Апельсины</th>\n",
       "    </tr>\n",
       "  </thead>\n",
       "  <tbody>\n",
       "    <tr>\n",
       "      <th>Январь</th>\n",
       "      <td>150</td>\n",
       "      <td>200</td>\n",
       "    </tr>\n",
       "    <tr>\n",
       "      <th>Февраль</th>\n",
       "      <td>160</td>\n",
       "      <td>210</td>\n",
       "    </tr>\n",
       "    <tr>\n",
       "      <th>Март</th>\n",
       "      <td>140</td>\n",
       "      <td>220</td>\n",
       "    </tr>\n",
       "  </tbody>\n",
       "</table>\n",
       "</div>"
      ],
      "text/plain": [
       "         Яблоки  Апельсины\n",
       "Январь      150        200\n",
       "Февраль     160        210\n",
       "Март        140        220"
      ]
     },
     "execution_count": 42,
     "metadata": {},
     "output_type": "execute_result"
    }
   ],
   "source": [
    "cols = ['Яблоки', 'Апельсины']\n",
    "prices_df[cols]"
   ]
  },
  {
   "cell_type": "markdown",
   "id": "21f45412",
   "metadata": {},
   "source": [
    "####  Метод loc "
   ]
  },
  {
   "cell_type": "code",
   "execution_count": 47,
   "id": "04eb8e9c",
   "metadata": {},
   "outputs": [
    {
     "data": {
      "text/plain": [
       "np.int64(150)"
      ]
     },
     "execution_count": 47,
     "metadata": {},
     "output_type": "execute_result"
    }
   ],
   "source": [
    "prices_df.loc['Январь', 'Яблоки']"
   ]
  },
  {
   "cell_type": "code",
   "execution_count": 48,
   "id": "e2f10b4f",
   "metadata": {},
   "outputs": [
    {
     "data": {
      "text/plain": [
       "Январь     150\n",
       "Февраль    160\n",
       "Март       140\n",
       "Name: Яблоки, dtype: int64"
      ]
     },
     "execution_count": 48,
     "metadata": {},
     "output_type": "execute_result"
    }
   ],
   "source": [
    "prices_df.loc[:, 'Яблоки']"
   ]
  },
  {
   "cell_type": "code",
   "execution_count": 49,
   "id": "34bcbdbb",
   "metadata": {},
   "outputs": [
    {
     "data": {
      "text/html": [
       "<div>\n",
       "<style scoped>\n",
       "    .dataframe tbody tr th:only-of-type {\n",
       "        vertical-align: middle;\n",
       "    }\n",
       "\n",
       "    .dataframe tbody tr th {\n",
       "        vertical-align: top;\n",
       "    }\n",
       "\n",
       "    .dataframe thead th {\n",
       "        text-align: right;\n",
       "    }\n",
       "</style>\n",
       "<table border=\"1\" class=\"dataframe\">\n",
       "  <thead>\n",
       "    <tr style=\"text-align: right;\">\n",
       "      <th></th>\n",
       "      <th>Яблоки</th>\n",
       "      <th>Апельсины</th>\n",
       "    </tr>\n",
       "  </thead>\n",
       "  <tbody>\n",
       "    <tr>\n",
       "      <th>Январь</th>\n",
       "      <td>150</td>\n",
       "      <td>200</td>\n",
       "    </tr>\n",
       "    <tr>\n",
       "      <th>Февраль</th>\n",
       "      <td>160</td>\n",
       "      <td>210</td>\n",
       "    </tr>\n",
       "    <tr>\n",
       "      <th>Март</th>\n",
       "      <td>140</td>\n",
       "      <td>220</td>\n",
       "    </tr>\n",
       "  </tbody>\n",
       "</table>\n",
       "</div>"
      ],
      "text/plain": [
       "         Яблоки  Апельсины\n",
       "Январь      150        200\n",
       "Февраль     160        210\n",
       "Март        140        220"
      ]
     },
     "execution_count": 49,
     "metadata": {},
     "output_type": "execute_result"
    }
   ],
   "source": [
    "prices_df.loc[:, ['Яблоки', 'Апельсины']]"
   ]
  },
  {
   "cell_type": "code",
   "execution_count": 50,
   "id": "adfa6f96",
   "metadata": {},
   "outputs": [
    {
     "data": {
      "text/plain": [
       "Яблоки       150\n",
       "Бананы       120\n",
       "Апельсины    200\n",
       "Name: Январь, dtype: int64"
      ]
     },
     "execution_count": 50,
     "metadata": {},
     "output_type": "execute_result"
    }
   ],
   "source": [
    "prices_df.loc['Январь']"
   ]
  },
  {
   "cell_type": "code",
   "execution_count": 51,
   "id": "8494b75b",
   "metadata": {},
   "outputs": [
    {
     "data": {
      "text/plain": [
       "Яблоки       150\n",
       "Бананы       120\n",
       "Апельсины    200\n",
       "Name: Январь, dtype: int64"
      ]
     },
     "execution_count": 51,
     "metadata": {},
     "output_type": "execute_result"
    }
   ],
   "source": [
    "prices_df.loc['Январь', :]"
   ]
  },
  {
   "cell_type": "code",
   "execution_count": 52,
   "id": "3f875b96",
   "metadata": {},
   "outputs": [
    {
     "data": {
      "text/html": [
       "<div>\n",
       "<style scoped>\n",
       "    .dataframe tbody tr th:only-of-type {\n",
       "        vertical-align: middle;\n",
       "    }\n",
       "\n",
       "    .dataframe tbody tr th {\n",
       "        vertical-align: top;\n",
       "    }\n",
       "\n",
       "    .dataframe thead th {\n",
       "        text-align: right;\n",
       "    }\n",
       "</style>\n",
       "<table border=\"1\" class=\"dataframe\">\n",
       "  <thead>\n",
       "    <tr style=\"text-align: right;\">\n",
       "      <th></th>\n",
       "      <th>Яблоки</th>\n",
       "      <th>Апельсины</th>\n",
       "    </tr>\n",
       "  </thead>\n",
       "  <tbody>\n",
       "    <tr>\n",
       "      <th>Январь</th>\n",
       "      <td>150</td>\n",
       "      <td>200</td>\n",
       "    </tr>\n",
       "    <tr>\n",
       "      <th>Март</th>\n",
       "      <td>140</td>\n",
       "      <td>220</td>\n",
       "    </tr>\n",
       "  </tbody>\n",
       "</table>\n",
       "</div>"
      ],
      "text/plain": [
       "        Яблоки  Апельсины\n",
       "Январь     150        200\n",
       "Март       140        220"
      ]
     },
     "execution_count": 52,
     "metadata": {},
     "output_type": "execute_result"
    }
   ],
   "source": [
    "prices_df.loc[['Январь', 'Март'], ['Яблоки', 'Апельсины']]"
   ]
  },
  {
   "cell_type": "code",
   "execution_count": 58,
   "id": "545ef61f",
   "metadata": {},
   "outputs": [
    {
     "data": {
      "text/html": [
       "<div>\n",
       "<style scoped>\n",
       "    .dataframe tbody tr th:only-of-type {\n",
       "        vertical-align: middle;\n",
       "    }\n",
       "\n",
       "    .dataframe tbody tr th {\n",
       "        vertical-align: top;\n",
       "    }\n",
       "\n",
       "    .dataframe thead th {\n",
       "        text-align: right;\n",
       "    }\n",
       "</style>\n",
       "<table border=\"1\" class=\"dataframe\">\n",
       "  <thead>\n",
       "    <tr style=\"text-align: right;\">\n",
       "      <th></th>\n",
       "      <th>Яблоки</th>\n",
       "      <th>Апельсины</th>\n",
       "    </tr>\n",
       "  </thead>\n",
       "  <tbody>\n",
       "    <tr>\n",
       "      <th>Январь</th>\n",
       "      <td>150</td>\n",
       "      <td>200</td>\n",
       "    </tr>\n",
       "    <tr>\n",
       "      <th>Март</th>\n",
       "      <td>140</td>\n",
       "      <td>220</td>\n",
       "    </tr>\n",
       "  </tbody>\n",
       "</table>\n",
       "</div>"
      ],
      "text/plain": [
       "        Яблоки  Апельсины\n",
       "Январь     150        200\n",
       "Март       140        220"
      ]
     },
     "execution_count": 58,
     "metadata": {},
     "output_type": "execute_result"
    }
   ],
   "source": [
    "prices_df[['Яблоки', 'Апельсины']].loc[['Январь','Март']]"
   ]
  },
  {
   "cell_type": "markdown",
   "id": "29e49d7d",
   "metadata": {},
   "source": [
    "#### Метод iloc"
   ]
  },
  {
   "cell_type": "code",
   "execution_count": 59,
   "id": "8368014f",
   "metadata": {},
   "outputs": [
    {
     "data": {
      "text/plain": [
       "np.int64(110)"
      ]
     },
     "execution_count": 59,
     "metadata": {},
     "output_type": "execute_result"
    }
   ],
   "source": [
    "prices_df.iloc[1,1]"
   ]
  },
  {
   "cell_type": "code",
   "execution_count": 60,
   "id": "b0f3ab56",
   "metadata": {},
   "outputs": [
    {
     "data": {
      "text/plain": [
       "Январь     150\n",
       "Февраль    160\n",
       "Март       140\n",
       "Name: Яблоки, dtype: int64"
      ]
     },
     "execution_count": 60,
     "metadata": {},
     "output_type": "execute_result"
    }
   ],
   "source": [
    "prices_df.iloc[:,0]"
   ]
  },
  {
   "cell_type": "code",
   "execution_count": 62,
   "id": "ed684a00",
   "metadata": {},
   "outputs": [
    {
     "data": {
      "text/plain": [
       "Яблоки       150\n",
       "Бананы       120\n",
       "Апельсины    200\n",
       "Name: Январь, dtype: int64"
      ]
     },
     "execution_count": 62,
     "metadata": {},
     "output_type": "execute_result"
    }
   ],
   "source": [
    "prices_df.iloc[0, :]"
   ]
  },
  {
   "cell_type": "code",
   "execution_count": 63,
   "id": "5e6d3384",
   "metadata": {},
   "outputs": [
    {
     "data": {
      "text/html": [
       "<div>\n",
       "<style scoped>\n",
       "    .dataframe tbody tr th:only-of-type {\n",
       "        vertical-align: middle;\n",
       "    }\n",
       "\n",
       "    .dataframe tbody tr th {\n",
       "        vertical-align: top;\n",
       "    }\n",
       "\n",
       "    .dataframe thead th {\n",
       "        text-align: right;\n",
       "    }\n",
       "</style>\n",
       "<table border=\"1\" class=\"dataframe\">\n",
       "  <thead>\n",
       "    <tr style=\"text-align: right;\">\n",
       "      <th></th>\n",
       "      <th>Яблоки</th>\n",
       "      <th>Апельсины</th>\n",
       "    </tr>\n",
       "  </thead>\n",
       "  <tbody>\n",
       "    <tr>\n",
       "      <th>Январь</th>\n",
       "      <td>150</td>\n",
       "      <td>200</td>\n",
       "    </tr>\n",
       "    <tr>\n",
       "      <th>Март</th>\n",
       "      <td>140</td>\n",
       "      <td>220</td>\n",
       "    </tr>\n",
       "  </tbody>\n",
       "</table>\n",
       "</div>"
      ],
      "text/plain": [
       "        Яблоки  Апельсины\n",
       "Январь     150        200\n",
       "Март       140        220"
      ]
     },
     "execution_count": 63,
     "metadata": {},
     "output_type": "execute_result"
    }
   ],
   "source": [
    "prices_df.iloc[[0,2], [0,2]]"
   ]
  },
  {
   "cell_type": "code",
   "execution_count": 64,
   "id": "f15df9e7",
   "metadata": {},
   "outputs": [
    {
     "data": {
      "text/html": [
       "<div>\n",
       "<style scoped>\n",
       "    .dataframe tbody tr th:only-of-type {\n",
       "        vertical-align: middle;\n",
       "    }\n",
       "\n",
       "    .dataframe tbody tr th {\n",
       "        vertical-align: top;\n",
       "    }\n",
       "\n",
       "    .dataframe thead th {\n",
       "        text-align: right;\n",
       "    }\n",
       "</style>\n",
       "<table border=\"1\" class=\"dataframe\">\n",
       "  <thead>\n",
       "    <tr style=\"text-align: right;\">\n",
       "      <th></th>\n",
       "      <th>Яблоки</th>\n",
       "      <th>Бананы</th>\n",
       "      <th>Апельсины</th>\n",
       "    </tr>\n",
       "  </thead>\n",
       "  <tbody>\n",
       "    <tr>\n",
       "      <th>Январь</th>\n",
       "      <td>150</td>\n",
       "      <td>120</td>\n",
       "      <td>200</td>\n",
       "    </tr>\n",
       "    <tr>\n",
       "      <th>Февраль</th>\n",
       "      <td>160</td>\n",
       "      <td>110</td>\n",
       "      <td>210</td>\n",
       "    </tr>\n",
       "  </tbody>\n",
       "</table>\n",
       "</div>"
      ],
      "text/plain": [
       "         Яблоки  Бананы  Апельсины\n",
       "Январь      150     120        200\n",
       "Февраль     160     110        210"
      ]
     },
     "execution_count": 64,
     "metadata": {},
     "output_type": "execute_result"
    }
   ],
   "source": [
    "prices_df.iloc[:-1]"
   ]
  },
  {
   "cell_type": "code",
   "execution_count": 65,
   "id": "9c53c71e",
   "metadata": {},
   "outputs": [
    {
     "data": {
      "text/html": [
       "<div>\n",
       "<style scoped>\n",
       "    .dataframe tbody tr th:only-of-type {\n",
       "        vertical-align: middle;\n",
       "    }\n",
       "\n",
       "    .dataframe tbody tr th {\n",
       "        vertical-align: top;\n",
       "    }\n",
       "\n",
       "    .dataframe thead th {\n",
       "        text-align: right;\n",
       "    }\n",
       "</style>\n",
       "<table border=\"1\" class=\"dataframe\">\n",
       "  <thead>\n",
       "    <tr style=\"text-align: right;\">\n",
       "      <th></th>\n",
       "      <th>Яблоки</th>\n",
       "      <th>Бананы</th>\n",
       "    </tr>\n",
       "  </thead>\n",
       "  <tbody>\n",
       "    <tr>\n",
       "      <th>Январь</th>\n",
       "      <td>150</td>\n",
       "      <td>120</td>\n",
       "    </tr>\n",
       "    <tr>\n",
       "      <th>Февраль</th>\n",
       "      <td>160</td>\n",
       "      <td>110</td>\n",
       "    </tr>\n",
       "  </tbody>\n",
       "</table>\n",
       "</div>"
      ],
      "text/plain": [
       "         Яблоки  Бананы\n",
       "Январь      150     120\n",
       "Февраль     160     110"
      ]
     },
     "execution_count": 65,
     "metadata": {},
     "output_type": "execute_result"
    }
   ],
   "source": [
    "prices_df.iloc[:-1, :-1]"
   ]
  },
  {
   "cell_type": "markdown",
   "id": "52b23205",
   "metadata": {},
   "source": [
    "#### Срезы по логическим условиям"
   ]
  },
  {
   "cell_type": "code",
   "execution_count": 66,
   "id": "38e7200e",
   "metadata": {},
   "outputs": [
    {
     "data": {
      "text/html": [
       "<div>\n",
       "<style scoped>\n",
       "    .dataframe tbody tr th:only-of-type {\n",
       "        vertical-align: middle;\n",
       "    }\n",
       "\n",
       "    .dataframe tbody tr th {\n",
       "        vertical-align: top;\n",
       "    }\n",
       "\n",
       "    .dataframe thead th {\n",
       "        text-align: right;\n",
       "    }\n",
       "</style>\n",
       "<table border=\"1\" class=\"dataframe\">\n",
       "  <thead>\n",
       "    <tr style=\"text-align: right;\">\n",
       "      <th></th>\n",
       "      <th>Яблоки</th>\n",
       "      <th>Бананы</th>\n",
       "      <th>Апельсины</th>\n",
       "    </tr>\n",
       "  </thead>\n",
       "  <tbody>\n",
       "    <tr>\n",
       "      <th>Январь</th>\n",
       "      <td>NaN</td>\n",
       "      <td>NaN</td>\n",
       "      <td>200</td>\n",
       "    </tr>\n",
       "    <tr>\n",
       "      <th>Февраль</th>\n",
       "      <td>160.0</td>\n",
       "      <td>NaN</td>\n",
       "      <td>210</td>\n",
       "    </tr>\n",
       "    <tr>\n",
       "      <th>Март</th>\n",
       "      <td>NaN</td>\n",
       "      <td>NaN</td>\n",
       "      <td>220</td>\n",
       "    </tr>\n",
       "  </tbody>\n",
       "</table>\n",
       "</div>"
      ],
      "text/plain": [
       "         Яблоки  Бананы  Апельсины\n",
       "Январь      NaN     NaN        200\n",
       "Февраль   160.0     NaN        210\n",
       "Март        NaN     NaN        220"
      ]
     },
     "execution_count": 66,
     "metadata": {},
     "output_type": "execute_result"
    }
   ],
   "source": [
    "prices_df[prices_df>150]"
   ]
  },
  {
   "cell_type": "code",
   "execution_count": 68,
   "id": "fa4c995e",
   "metadata": {},
   "outputs": [
    {
     "data": {
      "text/html": [
       "<div>\n",
       "<style scoped>\n",
       "    .dataframe tbody tr th:only-of-type {\n",
       "        vertical-align: middle;\n",
       "    }\n",
       "\n",
       "    .dataframe tbody tr th {\n",
       "        vertical-align: top;\n",
       "    }\n",
       "\n",
       "    .dataframe thead th {\n",
       "        text-align: right;\n",
       "    }\n",
       "</style>\n",
       "<table border=\"1\" class=\"dataframe\">\n",
       "  <thead>\n",
       "    <tr style=\"text-align: right;\">\n",
       "      <th></th>\n",
       "      <th>Яблоки</th>\n",
       "      <th>Бананы</th>\n",
       "      <th>Апельсины</th>\n",
       "    </tr>\n",
       "  </thead>\n",
       "  <tbody>\n",
       "    <tr>\n",
       "      <th>Февраль</th>\n",
       "      <td>160</td>\n",
       "      <td>110</td>\n",
       "      <td>210</td>\n",
       "    </tr>\n",
       "  </tbody>\n",
       "</table>\n",
       "</div>"
      ],
      "text/plain": [
       "         Яблоки  Бананы  Апельсины\n",
       "Февраль     160     110        210"
      ]
     },
     "execution_count": 68,
     "metadata": {},
     "output_type": "execute_result"
    }
   ],
   "source": [
    "prices_df[prices_df['Яблоки'] > 150]"
   ]
  },
  {
   "cell_type": "code",
   "execution_count": 70,
   "id": "3249b821",
   "metadata": {},
   "outputs": [
    {
     "data": {
      "text/html": [
       "<div>\n",
       "<style scoped>\n",
       "    .dataframe tbody tr th:only-of-type {\n",
       "        vertical-align: middle;\n",
       "    }\n",
       "\n",
       "    .dataframe tbody tr th {\n",
       "        vertical-align: top;\n",
       "    }\n",
       "\n",
       "    .dataframe thead th {\n",
       "        text-align: right;\n",
       "    }\n",
       "</style>\n",
       "<table border=\"1\" class=\"dataframe\">\n",
       "  <thead>\n",
       "    <tr style=\"text-align: right;\">\n",
       "      <th></th>\n",
       "      <th>Яблоки</th>\n",
       "      <th>Бананы</th>\n",
       "      <th>Апельсины</th>\n",
       "    </tr>\n",
       "  </thead>\n",
       "  <tbody>\n",
       "    <tr>\n",
       "      <th>Февраль</th>\n",
       "      <td>160</td>\n",
       "      <td>110</td>\n",
       "      <td>210</td>\n",
       "    </tr>\n",
       "  </tbody>\n",
       "</table>\n",
       "</div>"
      ],
      "text/plain": [
       "         Яблоки  Бананы  Апельсины\n",
       "Февраль     160     110        210"
      ]
     },
     "execution_count": 70,
     "metadata": {},
     "output_type": "execute_result"
    }
   ],
   "source": [
    "prices_df.loc[prices_df['Яблоки'] > 150]"
   ]
  },
  {
   "cell_type": "code",
   "execution_count": 73,
   "id": "7530e09f",
   "metadata": {},
   "outputs": [
    {
     "data": {
      "text/html": [
       "<div>\n",
       "<style scoped>\n",
       "    .dataframe tbody tr th:only-of-type {\n",
       "        vertical-align: middle;\n",
       "    }\n",
       "\n",
       "    .dataframe tbody tr th {\n",
       "        vertical-align: top;\n",
       "    }\n",
       "\n",
       "    .dataframe thead th {\n",
       "        text-align: right;\n",
       "    }\n",
       "</style>\n",
       "<table border=\"1\" class=\"dataframe\">\n",
       "  <thead>\n",
       "    <tr style=\"text-align: right;\">\n",
       "      <th></th>\n",
       "      <th>Яблоки</th>\n",
       "      <th>Бананы</th>\n",
       "      <th>Апельсины</th>\n",
       "    </tr>\n",
       "  </thead>\n",
       "  <tbody>\n",
       "    <tr>\n",
       "      <th>Январь</th>\n",
       "      <td>150</td>\n",
       "      <td>120</td>\n",
       "      <td>200</td>\n",
       "    </tr>\n",
       "    <tr>\n",
       "      <th>Февраль</th>\n",
       "      <td>160</td>\n",
       "      <td>110</td>\n",
       "      <td>210</td>\n",
       "    </tr>\n",
       "  </tbody>\n",
       "</table>\n",
       "</div>"
      ],
      "text/plain": [
       "         Яблоки  Бананы  Апельсины\n",
       "Январь      150     120        200\n",
       "Февраль     160     110        210"
      ]
     },
     "execution_count": 73,
     "metadata": {},
     "output_type": "execute_result"
    }
   ],
   "source": [
    "prices_df[(prices_df['Яблоки'] > 150)|(prices_df['Апельсины'] < 210)]"
   ]
  },
  {
   "cell_type": "markdown",
   "id": "393106bb",
   "metadata": {},
   "source": [
    "### Загрузка данных из XLSX и CSV"
   ]
  },
  {
   "cell_type": "code",
   "execution_count": 3,
   "id": "268cb6bf",
   "metadata": {},
   "outputs": [],
   "source": [
    "file_path = r\"C:\\Courses\\Innopolis\\2024\\ПИШ\\Часть 2.1\\Лекция 16\\entry_russia.xlsx\"\n",
    "entry_df = pd.read_excel(file_path, header = 2)"
   ]
  },
  {
   "cell_type": "code",
   "execution_count": 4,
   "id": "d899b7b7",
   "metadata": {},
   "outputs": [
    {
     "data": {
      "text/html": [
       "<div>\n",
       "<style scoped>\n",
       "    .dataframe tbody tr th:only-of-type {\n",
       "        vertical-align: middle;\n",
       "    }\n",
       "\n",
       "    .dataframe tbody tr th {\n",
       "        vertical-align: top;\n",
       "    }\n",
       "\n",
       "    .dataframe thead th {\n",
       "        text-align: right;\n",
       "    }\n",
       "</style>\n",
       "<table border=\"1\" class=\"dataframe\">\n",
       "  <thead>\n",
       "    <tr style=\"text-align: right;\">\n",
       "      <th></th>\n",
       "      <th>Страна</th>\n",
       "      <th>Часть света</th>\n",
       "      <th>Год</th>\n",
       "      <th>Квартал</th>\n",
       "      <th>деловая</th>\n",
       "      <th>работа</th>\n",
       "      <th>туризм</th>\n",
       "      <th>частная</th>\n",
       "      <th>транзитный проезд</th>\n",
       "      <th>учеба</th>\n",
       "      <th>переезд на постоянное место жительства</th>\n",
       "      <th>обслуживающий персонал транспортных средств</th>\n",
       "      <th>итого</th>\n",
       "    </tr>\n",
       "  </thead>\n",
       "  <tbody>\n",
       "    <tr>\n",
       "      <th>0</th>\n",
       "      <td>АБХАЗИЯ , Республика Абхазия</td>\n",
       "      <td>Азия</td>\n",
       "      <td>2010</td>\n",
       "      <td>I квартал</td>\n",
       "      <td>41</td>\n",
       "      <td>NaN</td>\n",
       "      <td>1</td>\n",
       "      <td>20256</td>\n",
       "      <td>13</td>\n",
       "      <td>NaN</td>\n",
       "      <td>0</td>\n",
       "      <td>1</td>\n",
       "      <td>20312</td>\n",
       "    </tr>\n",
       "    <tr>\n",
       "      <th>1</th>\n",
       "      <td>АБХАЗИЯ , Республика Абхазия</td>\n",
       "      <td>Азия</td>\n",
       "      <td>2010</td>\n",
       "      <td>II квартал</td>\n",
       "      <td>16</td>\n",
       "      <td>NaN</td>\n",
       "      <td>3</td>\n",
       "      <td>20709</td>\n",
       "      <td>27</td>\n",
       "      <td>NaN</td>\n",
       "      <td>0</td>\n",
       "      <td>8</td>\n",
       "      <td>20763</td>\n",
       "    </tr>\n",
       "    <tr>\n",
       "      <th>2</th>\n",
       "      <td>АБХАЗИЯ , Республика Абхазия</td>\n",
       "      <td>Азия</td>\n",
       "      <td>2010</td>\n",
       "      <td>III квартал</td>\n",
       "      <td>6</td>\n",
       "      <td>NaN</td>\n",
       "      <td>1</td>\n",
       "      <td>6227</td>\n",
       "      <td>8</td>\n",
       "      <td>NaN</td>\n",
       "      <td>0</td>\n",
       "      <td>0</td>\n",
       "      <td>6242</td>\n",
       "    </tr>\n",
       "    <tr>\n",
       "      <th>3</th>\n",
       "      <td>АБХАЗИЯ , Республика Абхазия</td>\n",
       "      <td>Азия</td>\n",
       "      <td>2010</td>\n",
       "      <td>IV квартал</td>\n",
       "      <td>0</td>\n",
       "      <td>NaN</td>\n",
       "      <td>0</td>\n",
       "      <td>4970</td>\n",
       "      <td>1</td>\n",
       "      <td>NaN</td>\n",
       "      <td>0</td>\n",
       "      <td>1</td>\n",
       "      <td>4972</td>\n",
       "    </tr>\n",
       "    <tr>\n",
       "      <th>4</th>\n",
       "      <td>АБХАЗИЯ , Республика Абхазия</td>\n",
       "      <td>Азия</td>\n",
       "      <td>2011</td>\n",
       "      <td>I квартал</td>\n",
       "      <td>43</td>\n",
       "      <td>NaN</td>\n",
       "      <td>0</td>\n",
       "      <td>37873</td>\n",
       "      <td>10</td>\n",
       "      <td>NaN</td>\n",
       "      <td>0</td>\n",
       "      <td>15</td>\n",
       "      <td>37941</td>\n",
       "    </tr>\n",
       "    <tr>\n",
       "      <th>...</th>\n",
       "      <td>...</td>\n",
       "      <td>...</td>\n",
       "      <td>...</td>\n",
       "      <td>...</td>\n",
       "      <td>...</td>\n",
       "      <td>...</td>\n",
       "      <td>...</td>\n",
       "      <td>...</td>\n",
       "      <td>...</td>\n",
       "      <td>...</td>\n",
       "      <td>...</td>\n",
       "      <td>...</td>\n",
       "      <td>...</td>\n",
       "    </tr>\n",
       "    <tr>\n",
       "      <th>11099</th>\n",
       "      <td>ЛИЦА БЕЗ ГРАЖДАНСТВА</td>\n",
       "      <td>Не известно</td>\n",
       "      <td>2023</td>\n",
       "      <td>I квартал</td>\n",
       "      <td>131</td>\n",
       "      <td>45.0</td>\n",
       "      <td>258</td>\n",
       "      <td>17462</td>\n",
       "      <td>13</td>\n",
       "      <td>90.0</td>\n",
       "      <td>0</td>\n",
       "      <td>4317</td>\n",
       "      <td>22316</td>\n",
       "    </tr>\n",
       "    <tr>\n",
       "      <th>11100</th>\n",
       "      <td>ЛИЦА БЕЗ ГРАЖДАНСТВА</td>\n",
       "      <td>Не известно</td>\n",
       "      <td>2023</td>\n",
       "      <td>II квартал</td>\n",
       "      <td>124</td>\n",
       "      <td>45.0</td>\n",
       "      <td>545</td>\n",
       "      <td>21734</td>\n",
       "      <td>22</td>\n",
       "      <td>40.0</td>\n",
       "      <td>0</td>\n",
       "      <td>4275</td>\n",
       "      <td>26785</td>\n",
       "    </tr>\n",
       "    <tr>\n",
       "      <th>11101</th>\n",
       "      <td>ЛИЦА БЕЗ ГРАЖДАНСТВА</td>\n",
       "      <td>Не известно</td>\n",
       "      <td>2023</td>\n",
       "      <td>III квартал</td>\n",
       "      <td>132</td>\n",
       "      <td>83.0</td>\n",
       "      <td>1156</td>\n",
       "      <td>25368</td>\n",
       "      <td>35</td>\n",
       "      <td>120.0</td>\n",
       "      <td>0</td>\n",
       "      <td>4596</td>\n",
       "      <td>31490</td>\n",
       "    </tr>\n",
       "    <tr>\n",
       "      <th>11102</th>\n",
       "      <td>ЛИЦА БЕЗ ГРАЖДАНСТВА</td>\n",
       "      <td>Не известно</td>\n",
       "      <td>2023</td>\n",
       "      <td>IV квартал</td>\n",
       "      <td>98</td>\n",
       "      <td>52.0</td>\n",
       "      <td>936</td>\n",
       "      <td>26165</td>\n",
       "      <td>31</td>\n",
       "      <td>67.0</td>\n",
       "      <td>0</td>\n",
       "      <td>4389</td>\n",
       "      <td>31738</td>\n",
       "    </tr>\n",
       "    <tr>\n",
       "      <th>11103</th>\n",
       "      <td>ЛИЦА БЕЗ ГРАЖДАНСТВА</td>\n",
       "      <td>Не известно</td>\n",
       "      <td>2024</td>\n",
       "      <td>I квартал</td>\n",
       "      <td>57</td>\n",
       "      <td>61.0</td>\n",
       "      <td>429</td>\n",
       "      <td>22587</td>\n",
       "      <td>13</td>\n",
       "      <td>72.0</td>\n",
       "      <td>0</td>\n",
       "      <td>3872</td>\n",
       "      <td>27091</td>\n",
       "    </tr>\n",
       "  </tbody>\n",
       "</table>\n",
       "<p>11104 rows × 13 columns</p>\n",
       "</div>"
      ],
      "text/plain": [
       "                             Страна  Часть света   Год      Квартал  деловая  \\\n",
       "0      АБХАЗИЯ , Республика Абхазия         Азия  2010    I квартал       41   \n",
       "1      АБХАЗИЯ , Республика Абхазия         Азия  2010   II квартал       16   \n",
       "2      АБХАЗИЯ , Республика Абхазия         Азия  2010  III квартал        6   \n",
       "3      АБХАЗИЯ , Республика Абхазия         Азия  2010   IV квартал        0   \n",
       "4      АБХАЗИЯ , Республика Абхазия         Азия  2011    I квартал       43   \n",
       "...                             ...          ...   ...          ...      ...   \n",
       "11099          ЛИЦА БЕЗ ГРАЖДАНСТВА  Не известно  2023    I квартал      131   \n",
       "11100          ЛИЦА БЕЗ ГРАЖДАНСТВА  Не известно  2023   II квартал      124   \n",
       "11101          ЛИЦА БЕЗ ГРАЖДАНСТВА  Не известно  2023  III квартал      132   \n",
       "11102          ЛИЦА БЕЗ ГРАЖДАНСТВА  Не известно  2023   IV квартал       98   \n",
       "11103          ЛИЦА БЕЗ ГРАЖДАНСТВА  Не известно  2024    I квартал       57   \n",
       "\n",
       "       работа  туризм  частная  транзитный проезд  учеба  \\\n",
       "0         NaN       1    20256                 13    NaN   \n",
       "1         NaN       3    20709                 27    NaN   \n",
       "2         NaN       1     6227                  8    NaN   \n",
       "3         NaN       0     4970                  1    NaN   \n",
       "4         NaN       0    37873                 10    NaN   \n",
       "...       ...     ...      ...                ...    ...   \n",
       "11099    45.0     258    17462                 13   90.0   \n",
       "11100    45.0     545    21734                 22   40.0   \n",
       "11101    83.0    1156    25368                 35  120.0   \n",
       "11102    52.0     936    26165                 31   67.0   \n",
       "11103    61.0     429    22587                 13   72.0   \n",
       "\n",
       "       переезд на постоянное место жительства  \\\n",
       "0                                           0   \n",
       "1                                           0   \n",
       "2                                           0   \n",
       "3                                           0   \n",
       "4                                           0   \n",
       "...                                       ...   \n",
       "11099                                       0   \n",
       "11100                                       0   \n",
       "11101                                       0   \n",
       "11102                                       0   \n",
       "11103                                       0   \n",
       "\n",
       "       обслуживающий персонал транспортных средств  итого  \n",
       "0                                                1  20312  \n",
       "1                                                8  20763  \n",
       "2                                                0   6242  \n",
       "3                                                1   4972  \n",
       "4                                               15  37941  \n",
       "...                                            ...    ...  \n",
       "11099                                         4317  22316  \n",
       "11100                                         4275  26785  \n",
       "11101                                         4596  31490  \n",
       "11102                                         4389  31738  \n",
       "11103                                         3872  27091  \n",
       "\n",
       "[11104 rows x 13 columns]"
      ]
     },
     "execution_count": 4,
     "metadata": {},
     "output_type": "execute_result"
    }
   ],
   "source": [
    "entry_df"
   ]
  },
  {
   "cell_type": "code",
   "execution_count": 5,
   "id": "3fe65a46",
   "metadata": {},
   "outputs": [],
   "source": [
    "pd.read_excel?"
   ]
  },
  {
   "cell_type": "code",
   "execution_count": 6,
   "id": "6f36c591",
   "metadata": {},
   "outputs": [],
   "source": [
    "countries_df = pd.read_excel(file_path, sheet_name = 'Страны')"
   ]
  },
  {
   "cell_type": "code",
   "execution_count": 8,
   "id": "cb74a2f3",
   "metadata": {},
   "outputs": [],
   "source": [
    "countries_df = pd.read_excel(file_path, 'Страны')"
   ]
  },
  {
   "cell_type": "code",
   "execution_count": 10,
   "id": "2f04d1ac",
   "metadata": {},
   "outputs": [
    {
     "data": {
      "text/html": [
       "<div>\n",
       "<style scoped>\n",
       "    .dataframe tbody tr th:only-of-type {\n",
       "        vertical-align: middle;\n",
       "    }\n",
       "\n",
       "    .dataframe tbody tr th {\n",
       "        vertical-align: top;\n",
       "    }\n",
       "\n",
       "    .dataframe thead th {\n",
       "        text-align: right;\n",
       "    }\n",
       "</style>\n",
       "<table border=\"1\" class=\"dataframe\">\n",
       "  <thead>\n",
       "    <tr style=\"text-align: right;\">\n",
       "      <th></th>\n",
       "      <th>Страна</th>\n",
       "      <th>Часть света</th>\n",
       "    </tr>\n",
       "  </thead>\n",
       "  <tbody>\n",
       "    <tr>\n",
       "      <th>0</th>\n",
       "      <td>АБХАЗИЯ , Республика Абхазия</td>\n",
       "      <td>Азия</td>\n",
       "    </tr>\n",
       "    <tr>\n",
       "      <th>1</th>\n",
       "      <td>АВСТРАЛИЯ</td>\n",
       "      <td>Австралия и Океания</td>\n",
       "    </tr>\n",
       "    <tr>\n",
       "      <th>2</th>\n",
       "      <td>АВСТРИЯ, Австрийская Республика</td>\n",
       "      <td>Европа</td>\n",
       "    </tr>\n",
       "    <tr>\n",
       "      <th>3</th>\n",
       "      <td>АЗЕРБАЙДЖАН, Республика Азербайджан</td>\n",
       "      <td>Азия</td>\n",
       "    </tr>\n",
       "    <tr>\n",
       "      <th>4</th>\n",
       "      <td>АЛБАНИЯ, Республика Албания</td>\n",
       "      <td>Европа</td>\n",
       "    </tr>\n",
       "    <tr>\n",
       "      <th>...</th>\n",
       "      <td>...</td>\n",
       "      <td>...</td>\n",
       "    </tr>\n",
       "    <tr>\n",
       "      <th>221</th>\n",
       "      <td>ЭФИОПИЯ, Федеративная Демократическая Республи...</td>\n",
       "      <td>Африка</td>\n",
       "    </tr>\n",
       "    <tr>\n",
       "      <th>222</th>\n",
       "      <td>ЮЖНАЯ АФРИКА, Южно-Африканская Республика</td>\n",
       "      <td>Африка</td>\n",
       "    </tr>\n",
       "    <tr>\n",
       "      <th>223</th>\n",
       "      <td>ЮЖНАЯ ОСЕТИЯ , Республика Южная Осетия</td>\n",
       "      <td>Азия</td>\n",
       "    </tr>\n",
       "    <tr>\n",
       "      <th>224</th>\n",
       "      <td>ЯМАЙКА</td>\n",
       "      <td>Америка</td>\n",
       "    </tr>\n",
       "    <tr>\n",
       "      <th>225</th>\n",
       "      <td>ЯПОНИЯ</td>\n",
       "      <td>Азия</td>\n",
       "    </tr>\n",
       "  </tbody>\n",
       "</table>\n",
       "<p>226 rows × 2 columns</p>\n",
       "</div>"
      ],
      "text/plain": [
       "                                                Страна          Часть света\n",
       "0                         АБХАЗИЯ , Республика Абхазия                 Азия\n",
       "1                                            АВСТРАЛИЯ  Австралия и Океания\n",
       "2                      АВСТРИЯ, Австрийская Республика               Европа\n",
       "3                  АЗЕРБАЙДЖАН, Республика Азербайджан                 Азия\n",
       "4                          АЛБАНИЯ, Республика Албания               Европа\n",
       "..                                                 ...                  ...\n",
       "221  ЭФИОПИЯ, Федеративная Демократическая Республи...               Африка\n",
       "222          ЮЖНАЯ АФРИКА, Южно-Африканская Республика               Африка\n",
       "223             ЮЖНАЯ ОСЕТИЯ , Республика Южная Осетия                 Азия\n",
       "224                                             ЯМАЙКА              Америка\n",
       "225                                             ЯПОНИЯ                 Азия\n",
       "\n",
       "[226 rows x 2 columns]"
      ]
     },
     "execution_count": 10,
     "metadata": {},
     "output_type": "execute_result"
    }
   ],
   "source": [
    "countries_df"
   ]
  },
  {
   "cell_type": "code",
   "execution_count": 26,
   "id": "aadf1e73",
   "metadata": {},
   "outputs": [],
   "source": [
    "sql_df = pd.read_csv(\n",
    "    r\"C:\\Courses\\Innopolis\\2024\\ПИШ\\Часть 2.1\\Лекция 16\\Sql_sample.csv\", \n",
    "    sep = ',', \n",
    "    usecols = [0,2], \n",
    "    skiprows = 10\n",
    ")"
   ]
  },
  {
   "cell_type": "code",
   "execution_count": 28,
   "id": "f6d0ff8b",
   "metadata": {},
   "outputs": [
    {
     "data": {
      "text/html": [
       "<div>\n",
       "<style scoped>\n",
       "    .dataframe tbody tr th:only-of-type {\n",
       "        vertical-align: middle;\n",
       "    }\n",
       "\n",
       "    .dataframe tbody tr th {\n",
       "        vertical-align: top;\n",
       "    }\n",
       "\n",
       "    .dataframe thead th {\n",
       "        text-align: right;\n",
       "    }\n",
       "</style>\n",
       "<table border=\"1\" class=\"dataframe\">\n",
       "  <thead>\n",
       "    <tr style=\"text-align: right;\">\n",
       "      <th></th>\n",
       "      <th>Agent Truman</th>\n",
       "      <th>Long</th>\n",
       "    </tr>\n",
       "  </thead>\n",
       "  <tbody>\n",
       "    <tr>\n",
       "      <th>0</th>\n",
       "      <td>Airplane Sierra</td>\n",
       "      <td>Medium</td>\n",
       "    </tr>\n",
       "    <tr>\n",
       "      <th>1</th>\n",
       "      <td>Alabama Devil</td>\n",
       "      <td>Medium</td>\n",
       "    </tr>\n",
       "    <tr>\n",
       "      <th>2</th>\n",
       "      <td>Aladdin Calendar</td>\n",
       "      <td>Medium</td>\n",
       "    </tr>\n",
       "    <tr>\n",
       "      <th>3</th>\n",
       "      <td>Alamo Videotape</td>\n",
       "      <td>Long</td>\n",
       "    </tr>\n",
       "    <tr>\n",
       "      <th>4</th>\n",
       "      <td>Alaska Phantom</td>\n",
       "      <td>Long</td>\n",
       "    </tr>\n",
       "    <tr>\n",
       "      <th>...</th>\n",
       "      <td>...</td>\n",
       "      <td>...</td>\n",
       "    </tr>\n",
       "    <tr>\n",
       "      <th>985</th>\n",
       "      <td>Young Language</td>\n",
       "      <td>Long</td>\n",
       "    </tr>\n",
       "    <tr>\n",
       "      <th>986</th>\n",
       "      <td>Youth Kick</td>\n",
       "      <td>Long</td>\n",
       "    </tr>\n",
       "    <tr>\n",
       "      <th>987</th>\n",
       "      <td>Zhivago Core</td>\n",
       "      <td>Medium</td>\n",
       "    </tr>\n",
       "    <tr>\n",
       "      <th>988</th>\n",
       "      <td>Zoolander Fiction</td>\n",
       "      <td>Medium</td>\n",
       "    </tr>\n",
       "    <tr>\n",
       "      <th>989</th>\n",
       "      <td>Zorro Ark</td>\n",
       "      <td>Short</td>\n",
       "    </tr>\n",
       "  </tbody>\n",
       "</table>\n",
       "<p>990 rows × 2 columns</p>\n",
       "</div>"
      ],
      "text/plain": [
       "          Agent Truman    Long\n",
       "0      Airplane Sierra  Medium\n",
       "1        Alabama Devil  Medium\n",
       "2     Aladdin Calendar  Medium\n",
       "3      Alamo Videotape    Long\n",
       "4       Alaska Phantom    Long\n",
       "..                 ...     ...\n",
       "985     Young Language    Long\n",
       "986         Youth Kick    Long\n",
       "987       Zhivago Core  Medium\n",
       "988  Zoolander Fiction  Medium\n",
       "989          Zorro Ark   Short\n",
       "\n",
       "[990 rows x 2 columns]"
      ]
     },
     "execution_count": 28,
     "metadata": {},
     "output_type": "execute_result"
    }
   ],
   "source": [
    "sql_df"
   ]
  },
  {
   "cell_type": "markdown",
   "id": "566bb02a",
   "metadata": {},
   "source": [
    "### Загрузка из XML"
   ]
  },
  {
   "cell_type": "code",
   "execution_count": 29,
   "id": "7f0c784a",
   "metadata": {},
   "outputs": [],
   "source": [
    "xml_df = pd.read_xml(r\"C:\\Courses\\Innopolis\\2024\\ПИШ\\Часть 2.1\\Лекция 16\\cd_catalog.xml\")"
   ]
  },
  {
   "cell_type": "code",
   "execution_count": 30,
   "id": "52d2fad4",
   "metadata": {},
   "outputs": [
    {
     "data": {
      "text/html": [
       "<div>\n",
       "<style scoped>\n",
       "    .dataframe tbody tr th:only-of-type {\n",
       "        vertical-align: middle;\n",
       "    }\n",
       "\n",
       "    .dataframe tbody tr th {\n",
       "        vertical-align: top;\n",
       "    }\n",
       "\n",
       "    .dataframe thead th {\n",
       "        text-align: right;\n",
       "    }\n",
       "</style>\n",
       "<table border=\"1\" class=\"dataframe\">\n",
       "  <thead>\n",
       "    <tr style=\"text-align: right;\">\n",
       "      <th></th>\n",
       "      <th>TITLE</th>\n",
       "      <th>ARTIST</th>\n",
       "      <th>COUNTRY</th>\n",
       "      <th>COMPANY</th>\n",
       "      <th>PRICE</th>\n",
       "      <th>YEAR</th>\n",
       "    </tr>\n",
       "  </thead>\n",
       "  <tbody>\n",
       "    <tr>\n",
       "      <th>0</th>\n",
       "      <td>Empire Burlesque</td>\n",
       "      <td>Bob Dylan</td>\n",
       "      <td>USA</td>\n",
       "      <td>Columbia</td>\n",
       "      <td>10.9</td>\n",
       "      <td>1985</td>\n",
       "    </tr>\n",
       "    <tr>\n",
       "      <th>1</th>\n",
       "      <td>Hide your heart</td>\n",
       "      <td>Bonnie Tyler</td>\n",
       "      <td>UK</td>\n",
       "      <td>CBS Records</td>\n",
       "      <td>9.9</td>\n",
       "      <td>1988</td>\n",
       "    </tr>\n",
       "    <tr>\n",
       "      <th>2</th>\n",
       "      <td>Greatest Hits</td>\n",
       "      <td>Dolly Parton</td>\n",
       "      <td>USA</td>\n",
       "      <td>RCA</td>\n",
       "      <td>9.9</td>\n",
       "      <td>1982</td>\n",
       "    </tr>\n",
       "    <tr>\n",
       "      <th>3</th>\n",
       "      <td>Still got the blues</td>\n",
       "      <td>Gary Moore</td>\n",
       "      <td>UK</td>\n",
       "      <td>Virgin records</td>\n",
       "      <td>10.2</td>\n",
       "      <td>1990</td>\n",
       "    </tr>\n",
       "    <tr>\n",
       "      <th>4</th>\n",
       "      <td>Eros</td>\n",
       "      <td>Eros Ramazzotti</td>\n",
       "      <td>EU</td>\n",
       "      <td>BMG</td>\n",
       "      <td>9.9</td>\n",
       "      <td>1997</td>\n",
       "    </tr>\n",
       "    <tr>\n",
       "      <th>5</th>\n",
       "      <td>One night only</td>\n",
       "      <td>Bee Gees</td>\n",
       "      <td>UK</td>\n",
       "      <td>Polydor</td>\n",
       "      <td>10.9</td>\n",
       "      <td>1998</td>\n",
       "    </tr>\n",
       "    <tr>\n",
       "      <th>6</th>\n",
       "      <td>Sylvias Mother</td>\n",
       "      <td>Dr.Hook</td>\n",
       "      <td>UK</td>\n",
       "      <td>CBS</td>\n",
       "      <td>8.1</td>\n",
       "      <td>1973</td>\n",
       "    </tr>\n",
       "    <tr>\n",
       "      <th>7</th>\n",
       "      <td>Maggie May</td>\n",
       "      <td>Rod Stewart</td>\n",
       "      <td>UK</td>\n",
       "      <td>Pickwick</td>\n",
       "      <td>8.5</td>\n",
       "      <td>1990</td>\n",
       "    </tr>\n",
       "    <tr>\n",
       "      <th>8</th>\n",
       "      <td>Romanza</td>\n",
       "      <td>Andrea Bocelli</td>\n",
       "      <td>EU</td>\n",
       "      <td>Polydor</td>\n",
       "      <td>10.8</td>\n",
       "      <td>1996</td>\n",
       "    </tr>\n",
       "    <tr>\n",
       "      <th>9</th>\n",
       "      <td>When a man loves a woman</td>\n",
       "      <td>Percy Sledge</td>\n",
       "      <td>USA</td>\n",
       "      <td>Atlantic</td>\n",
       "      <td>8.7</td>\n",
       "      <td>1987</td>\n",
       "    </tr>\n",
       "    <tr>\n",
       "      <th>10</th>\n",
       "      <td>Black angel</td>\n",
       "      <td>Savage Rose</td>\n",
       "      <td>EU</td>\n",
       "      <td>Mega</td>\n",
       "      <td>10.9</td>\n",
       "      <td>1995</td>\n",
       "    </tr>\n",
       "    <tr>\n",
       "      <th>11</th>\n",
       "      <td>1999 Grammy Nominees</td>\n",
       "      <td>Many</td>\n",
       "      <td>USA</td>\n",
       "      <td>Grammy</td>\n",
       "      <td>10.2</td>\n",
       "      <td>1999</td>\n",
       "    </tr>\n",
       "    <tr>\n",
       "      <th>12</th>\n",
       "      <td>For the good times</td>\n",
       "      <td>Kenny Rogers</td>\n",
       "      <td>UK</td>\n",
       "      <td>Mucik Master</td>\n",
       "      <td>8.7</td>\n",
       "      <td>1995</td>\n",
       "    </tr>\n",
       "    <tr>\n",
       "      <th>13</th>\n",
       "      <td>Big Willie style</td>\n",
       "      <td>Will Smith</td>\n",
       "      <td>USA</td>\n",
       "      <td>Columbia</td>\n",
       "      <td>9.9</td>\n",
       "      <td>1997</td>\n",
       "    </tr>\n",
       "    <tr>\n",
       "      <th>14</th>\n",
       "      <td>Tupelo Honey</td>\n",
       "      <td>Van Morrison</td>\n",
       "      <td>UK</td>\n",
       "      <td>Polydor</td>\n",
       "      <td>8.2</td>\n",
       "      <td>1971</td>\n",
       "    </tr>\n",
       "    <tr>\n",
       "      <th>15</th>\n",
       "      <td>Soulsville</td>\n",
       "      <td>Jorn Hoel</td>\n",
       "      <td>Norway</td>\n",
       "      <td>WEA</td>\n",
       "      <td>7.9</td>\n",
       "      <td>1996</td>\n",
       "    </tr>\n",
       "    <tr>\n",
       "      <th>16</th>\n",
       "      <td>The very best of</td>\n",
       "      <td>Cat Stevens</td>\n",
       "      <td>UK</td>\n",
       "      <td>Island</td>\n",
       "      <td>8.9</td>\n",
       "      <td>1990</td>\n",
       "    </tr>\n",
       "    <tr>\n",
       "      <th>17</th>\n",
       "      <td>Stop</td>\n",
       "      <td>Sam Brown</td>\n",
       "      <td>UK</td>\n",
       "      <td>A and M</td>\n",
       "      <td>8.9</td>\n",
       "      <td>1988</td>\n",
       "    </tr>\n",
       "    <tr>\n",
       "      <th>18</th>\n",
       "      <td>Bridge of Spies</td>\n",
       "      <td>T'Pau</td>\n",
       "      <td>UK</td>\n",
       "      <td>Siren</td>\n",
       "      <td>7.9</td>\n",
       "      <td>1987</td>\n",
       "    </tr>\n",
       "    <tr>\n",
       "      <th>19</th>\n",
       "      <td>Private Dancer</td>\n",
       "      <td>Tina Turner</td>\n",
       "      <td>UK</td>\n",
       "      <td>Capitol</td>\n",
       "      <td>8.9</td>\n",
       "      <td>1983</td>\n",
       "    </tr>\n",
       "    <tr>\n",
       "      <th>20</th>\n",
       "      <td>Midt om natten</td>\n",
       "      <td>Kim Larsen</td>\n",
       "      <td>EU</td>\n",
       "      <td>Medley</td>\n",
       "      <td>7.8</td>\n",
       "      <td>1983</td>\n",
       "    </tr>\n",
       "    <tr>\n",
       "      <th>21</th>\n",
       "      <td>Pavarotti Gala Concert</td>\n",
       "      <td>Luciano Pavarotti</td>\n",
       "      <td>UK</td>\n",
       "      <td>DECCA</td>\n",
       "      <td>9.9</td>\n",
       "      <td>1991</td>\n",
       "    </tr>\n",
       "    <tr>\n",
       "      <th>22</th>\n",
       "      <td>The dock of the bay</td>\n",
       "      <td>Otis Redding</td>\n",
       "      <td>USA</td>\n",
       "      <td>Stax Records</td>\n",
       "      <td>7.9</td>\n",
       "      <td>1968</td>\n",
       "    </tr>\n",
       "    <tr>\n",
       "      <th>23</th>\n",
       "      <td>Picture book</td>\n",
       "      <td>Simply Red</td>\n",
       "      <td>EU</td>\n",
       "      <td>Elektra</td>\n",
       "      <td>7.2</td>\n",
       "      <td>1985</td>\n",
       "    </tr>\n",
       "    <tr>\n",
       "      <th>24</th>\n",
       "      <td>Red</td>\n",
       "      <td>The Communards</td>\n",
       "      <td>UK</td>\n",
       "      <td>London</td>\n",
       "      <td>7.8</td>\n",
       "      <td>1987</td>\n",
       "    </tr>\n",
       "    <tr>\n",
       "      <th>25</th>\n",
       "      <td>Unchain my heart</td>\n",
       "      <td>Joe Cocker</td>\n",
       "      <td>USA</td>\n",
       "      <td>EMI</td>\n",
       "      <td>8.2</td>\n",
       "      <td>1987</td>\n",
       "    </tr>\n",
       "  </tbody>\n",
       "</table>\n",
       "</div>"
      ],
      "text/plain": [
       "                       TITLE             ARTIST COUNTRY         COMPANY  \\\n",
       "0           Empire Burlesque          Bob Dylan     USA        Columbia   \n",
       "1            Hide your heart       Bonnie Tyler      UK     CBS Records   \n",
       "2              Greatest Hits       Dolly Parton     USA             RCA   \n",
       "3        Still got the blues         Gary Moore      UK  Virgin records   \n",
       "4                       Eros    Eros Ramazzotti      EU             BMG   \n",
       "5             One night only           Bee Gees      UK         Polydor   \n",
       "6             Sylvias Mother            Dr.Hook      UK             CBS   \n",
       "7                 Maggie May        Rod Stewart      UK        Pickwick   \n",
       "8                    Romanza     Andrea Bocelli      EU         Polydor   \n",
       "9   When a man loves a woman       Percy Sledge     USA        Atlantic   \n",
       "10               Black angel        Savage Rose      EU            Mega   \n",
       "11      1999 Grammy Nominees               Many     USA          Grammy   \n",
       "12        For the good times       Kenny Rogers      UK    Mucik Master   \n",
       "13          Big Willie style         Will Smith     USA        Columbia   \n",
       "14              Tupelo Honey       Van Morrison      UK         Polydor   \n",
       "15                Soulsville          Jorn Hoel  Norway             WEA   \n",
       "16          The very best of        Cat Stevens      UK          Island   \n",
       "17                      Stop          Sam Brown      UK         A and M   \n",
       "18           Bridge of Spies              T'Pau      UK           Siren   \n",
       "19            Private Dancer        Tina Turner      UK         Capitol   \n",
       "20            Midt om natten         Kim Larsen      EU          Medley   \n",
       "21    Pavarotti Gala Concert  Luciano Pavarotti      UK           DECCA   \n",
       "22       The dock of the bay       Otis Redding     USA    Stax Records   \n",
       "23              Picture book         Simply Red      EU         Elektra   \n",
       "24                       Red     The Communards      UK          London   \n",
       "25          Unchain my heart         Joe Cocker     USA             EMI   \n",
       "\n",
       "    PRICE  YEAR  \n",
       "0    10.9  1985  \n",
       "1     9.9  1988  \n",
       "2     9.9  1982  \n",
       "3    10.2  1990  \n",
       "4     9.9  1997  \n",
       "5    10.9  1998  \n",
       "6     8.1  1973  \n",
       "7     8.5  1990  \n",
       "8    10.8  1996  \n",
       "9     8.7  1987  \n",
       "10   10.9  1995  \n",
       "11   10.2  1999  \n",
       "12    8.7  1995  \n",
       "13    9.9  1997  \n",
       "14    8.2  1971  \n",
       "15    7.9  1996  \n",
       "16    8.9  1990  \n",
       "17    8.9  1988  \n",
       "18    7.9  1987  \n",
       "19    8.9  1983  \n",
       "20    7.8  1983  \n",
       "21    9.9  1991  \n",
       "22    7.9  1968  \n",
       "23    7.2  1985  \n",
       "24    7.8  1987  \n",
       "25    8.2  1987  "
      ]
     },
     "execution_count": 30,
     "metadata": {},
     "output_type": "execute_result"
    }
   ],
   "source": [
    "xml_df"
   ]
  },
  {
   "cell_type": "markdown",
   "id": "41169386",
   "metadata": {},
   "source": [
    "### Загрузка JSON"
   ]
  },
  {
   "cell_type": "code",
   "execution_count": 4,
   "id": "1ec9d048",
   "metadata": {},
   "outputs": [],
   "source": [
    "json_df = pd.read_json(r\"C:\\Courses\\Innopolis\\2024\\ПИШ\\Часть 2.1\\Лекция 16\\example_2.json\")"
   ]
  },
  {
   "cell_type": "code",
   "execution_count": 5,
   "id": "c28e2b54",
   "metadata": {},
   "outputs": [
    {
     "data": {
      "text/html": [
       "<div>\n",
       "<style scoped>\n",
       "    .dataframe tbody tr th:only-of-type {\n",
       "        vertical-align: middle;\n",
       "    }\n",
       "\n",
       "    .dataframe tbody tr th {\n",
       "        vertical-align: top;\n",
       "    }\n",
       "\n",
       "    .dataframe thead th {\n",
       "        text-align: right;\n",
       "    }\n",
       "</style>\n",
       "<table border=\"1\" class=\"dataframe\">\n",
       "  <thead>\n",
       "    <tr style=\"text-align: right;\">\n",
       "      <th></th>\n",
       "      <th>quiz</th>\n",
       "    </tr>\n",
       "  </thead>\n",
       "  <tbody>\n",
       "    <tr>\n",
       "      <th>sport</th>\n",
       "      <td>{'q1': {'question': 'Which one is correct team...</td>\n",
       "    </tr>\n",
       "    <tr>\n",
       "      <th>maths</th>\n",
       "      <td>{'q1': {'question': '5 + 7 = ?', 'options': ['...</td>\n",
       "    </tr>\n",
       "  </tbody>\n",
       "</table>\n",
       "</div>"
      ],
      "text/plain": [
       "                                                    quiz\n",
       "sport  {'q1': {'question': 'Which one is correct team...\n",
       "maths  {'q1': {'question': '5 + 7 = ?', 'options': ['..."
      ]
     },
     "execution_count": 5,
     "metadata": {},
     "output_type": "execute_result"
    }
   ],
   "source": [
    "json_df"
   ]
  },
  {
   "cell_type": "code",
   "execution_count": 41,
   "id": "6f2a7a8a",
   "metadata": {},
   "outputs": [
    {
     "data": {
      "text/plain": [
       "'Which one is correct team name in NBA?'"
      ]
     },
     "execution_count": 41,
     "metadata": {},
     "output_type": "execute_result"
    }
   ],
   "source": [
    "json_df.loc['sport', 'quiz']['q1']['question']"
   ]
  },
  {
   "cell_type": "code",
   "execution_count": 43,
   "id": "9078cd40",
   "metadata": {
    "scrolled": true
   },
   "outputs": [
    {
     "data": {
      "text/plain": [
       "['New York Bulls',\n",
       " 'Los Angeles Kings',\n",
       " 'Golden State Warriros',\n",
       " 'Huston Rocket']"
      ]
     },
     "execution_count": 43,
     "metadata": {},
     "output_type": "execute_result"
    }
   ],
   "source": [
    "json_df.loc['sport', 'quiz']['q1']['options']"
   ]
  },
  {
   "cell_type": "markdown",
   "id": "7c4b913b",
   "metadata": {},
   "source": [
    "### Запрос к SQL"
   ]
  },
  {
   "cell_type": "code",
   "execution_count": 6,
   "id": "d1d6109f",
   "metadata": {},
   "outputs": [],
   "source": [
    "import psycopg2\n",
    "engine = psycopg2.connect(\"dbname='dvdrental' user='postgres' host='localhost' port='5432' password='123'\")"
   ]
  },
  {
   "cell_type": "code",
   "execution_count": 7,
   "id": "89679abc",
   "metadata": {},
   "outputs": [
    {
     "name": "stderr",
     "output_type": "stream",
     "text": [
      "C:\\Users\\D\\AppData\\Local\\Temp\\ipykernel_11648\\1667988770.py:1: UserWarning: pandas only supports SQLAlchemy connectable (engine/connection) or database string URI or sqlite3 DBAPI2 connection. Other DBAPI2 objects are not tested. Please consider using SQLAlchemy.\n",
      "  df = pd.read_sql('select * from customer', con=engine)\n"
     ]
    }
   ],
   "source": [
    "df = pd.read_sql('select * from customer', con=engine)"
   ]
  },
  {
   "cell_type": "code",
   "execution_count": 8,
   "id": "147460dd",
   "metadata": {
    "scrolled": false
   },
   "outputs": [
    {
     "data": {
      "text/html": [
       "<div>\n",
       "<style scoped>\n",
       "    .dataframe tbody tr th:only-of-type {\n",
       "        vertical-align: middle;\n",
       "    }\n",
       "\n",
       "    .dataframe tbody tr th {\n",
       "        vertical-align: top;\n",
       "    }\n",
       "\n",
       "    .dataframe thead th {\n",
       "        text-align: right;\n",
       "    }\n",
       "</style>\n",
       "<table border=\"1\" class=\"dataframe\">\n",
       "  <thead>\n",
       "    <tr style=\"text-align: right;\">\n",
       "      <th></th>\n",
       "      <th>customer_id</th>\n",
       "      <th>store_id</th>\n",
       "      <th>first_name</th>\n",
       "      <th>last_name</th>\n",
       "      <th>email</th>\n",
       "      <th>address_id</th>\n",
       "      <th>activebool</th>\n",
       "      <th>create_date</th>\n",
       "      <th>last_update</th>\n",
       "      <th>active</th>\n",
       "    </tr>\n",
       "  </thead>\n",
       "  <tbody>\n",
       "    <tr>\n",
       "      <th>0</th>\n",
       "      <td>524</td>\n",
       "      <td>1</td>\n",
       "      <td>Jared</td>\n",
       "      <td>Ely</td>\n",
       "      <td>jared.ely@sakilacustomer.org</td>\n",
       "      <td>530</td>\n",
       "      <td>True</td>\n",
       "      <td>2006-02-14</td>\n",
       "      <td>2013-05-26 14:49:45.738</td>\n",
       "      <td>1</td>\n",
       "    </tr>\n",
       "    <tr>\n",
       "      <th>1</th>\n",
       "      <td>1</td>\n",
       "      <td>1</td>\n",
       "      <td>Mary</td>\n",
       "      <td>Smith</td>\n",
       "      <td>mary.smith@sakilacustomer.org</td>\n",
       "      <td>5</td>\n",
       "      <td>True</td>\n",
       "      <td>2006-02-14</td>\n",
       "      <td>2013-05-26 14:49:45.738</td>\n",
       "      <td>1</td>\n",
       "    </tr>\n",
       "    <tr>\n",
       "      <th>2</th>\n",
       "      <td>2</td>\n",
       "      <td>1</td>\n",
       "      <td>Patricia</td>\n",
       "      <td>Johnson</td>\n",
       "      <td>patricia.johnson@sakilacustomer.org</td>\n",
       "      <td>6</td>\n",
       "      <td>True</td>\n",
       "      <td>2006-02-14</td>\n",
       "      <td>2013-05-26 14:49:45.738</td>\n",
       "      <td>1</td>\n",
       "    </tr>\n",
       "    <tr>\n",
       "      <th>3</th>\n",
       "      <td>3</td>\n",
       "      <td>1</td>\n",
       "      <td>Linda</td>\n",
       "      <td>Williams</td>\n",
       "      <td>linda.williams@sakilacustomer.org</td>\n",
       "      <td>7</td>\n",
       "      <td>True</td>\n",
       "      <td>2006-02-14</td>\n",
       "      <td>2013-05-26 14:49:45.738</td>\n",
       "      <td>1</td>\n",
       "    </tr>\n",
       "    <tr>\n",
       "      <th>4</th>\n",
       "      <td>4</td>\n",
       "      <td>2</td>\n",
       "      <td>Barbara</td>\n",
       "      <td>Jones</td>\n",
       "      <td>barbara.jones@sakilacustomer.org</td>\n",
       "      <td>8</td>\n",
       "      <td>True</td>\n",
       "      <td>2006-02-14</td>\n",
       "      <td>2013-05-26 14:49:45.738</td>\n",
       "      <td>1</td>\n",
       "    </tr>\n",
       "    <tr>\n",
       "      <th>...</th>\n",
       "      <td>...</td>\n",
       "      <td>...</td>\n",
       "      <td>...</td>\n",
       "      <td>...</td>\n",
       "      <td>...</td>\n",
       "      <td>...</td>\n",
       "      <td>...</td>\n",
       "      <td>...</td>\n",
       "      <td>...</td>\n",
       "      <td>...</td>\n",
       "    </tr>\n",
       "    <tr>\n",
       "      <th>594</th>\n",
       "      <td>595</td>\n",
       "      <td>1</td>\n",
       "      <td>Terrence</td>\n",
       "      <td>Gunderson</td>\n",
       "      <td>terrence.gunderson@sakilacustomer.org</td>\n",
       "      <td>601</td>\n",
       "      <td>True</td>\n",
       "      <td>2006-02-14</td>\n",
       "      <td>2013-05-26 14:49:45.738</td>\n",
       "      <td>1</td>\n",
       "    </tr>\n",
       "    <tr>\n",
       "      <th>595</th>\n",
       "      <td>596</td>\n",
       "      <td>1</td>\n",
       "      <td>Enrique</td>\n",
       "      <td>Forsythe</td>\n",
       "      <td>enrique.forsythe@sakilacustomer.org</td>\n",
       "      <td>602</td>\n",
       "      <td>True</td>\n",
       "      <td>2006-02-14</td>\n",
       "      <td>2013-05-26 14:49:45.738</td>\n",
       "      <td>1</td>\n",
       "    </tr>\n",
       "    <tr>\n",
       "      <th>596</th>\n",
       "      <td>597</td>\n",
       "      <td>1</td>\n",
       "      <td>Freddie</td>\n",
       "      <td>Duggan</td>\n",
       "      <td>freddie.duggan@sakilacustomer.org</td>\n",
       "      <td>603</td>\n",
       "      <td>True</td>\n",
       "      <td>2006-02-14</td>\n",
       "      <td>2013-05-26 14:49:45.738</td>\n",
       "      <td>1</td>\n",
       "    </tr>\n",
       "    <tr>\n",
       "      <th>597</th>\n",
       "      <td>598</td>\n",
       "      <td>1</td>\n",
       "      <td>Wade</td>\n",
       "      <td>Delvalle</td>\n",
       "      <td>wade.delvalle@sakilacustomer.org</td>\n",
       "      <td>604</td>\n",
       "      <td>True</td>\n",
       "      <td>2006-02-14</td>\n",
       "      <td>2013-05-26 14:49:45.738</td>\n",
       "      <td>1</td>\n",
       "    </tr>\n",
       "    <tr>\n",
       "      <th>598</th>\n",
       "      <td>599</td>\n",
       "      <td>2</td>\n",
       "      <td>Austin</td>\n",
       "      <td>Cintron</td>\n",
       "      <td>austin.cintron@sakilacustomer.org</td>\n",
       "      <td>605</td>\n",
       "      <td>True</td>\n",
       "      <td>2006-02-14</td>\n",
       "      <td>2013-05-26 14:49:45.738</td>\n",
       "      <td>1</td>\n",
       "    </tr>\n",
       "  </tbody>\n",
       "</table>\n",
       "<p>599 rows × 10 columns</p>\n",
       "</div>"
      ],
      "text/plain": [
       "     customer_id  store_id first_name  last_name  \\\n",
       "0            524         1      Jared        Ely   \n",
       "1              1         1       Mary      Smith   \n",
       "2              2         1   Patricia    Johnson   \n",
       "3              3         1      Linda   Williams   \n",
       "4              4         2    Barbara      Jones   \n",
       "..           ...       ...        ...        ...   \n",
       "594          595         1   Terrence  Gunderson   \n",
       "595          596         1    Enrique   Forsythe   \n",
       "596          597         1    Freddie     Duggan   \n",
       "597          598         1       Wade   Delvalle   \n",
       "598          599         2     Austin    Cintron   \n",
       "\n",
       "                                     email  address_id  activebool  \\\n",
       "0             jared.ely@sakilacustomer.org         530        True   \n",
       "1            mary.smith@sakilacustomer.org           5        True   \n",
       "2      patricia.johnson@sakilacustomer.org           6        True   \n",
       "3        linda.williams@sakilacustomer.org           7        True   \n",
       "4         barbara.jones@sakilacustomer.org           8        True   \n",
       "..                                     ...         ...         ...   \n",
       "594  terrence.gunderson@sakilacustomer.org         601        True   \n",
       "595    enrique.forsythe@sakilacustomer.org         602        True   \n",
       "596      freddie.duggan@sakilacustomer.org         603        True   \n",
       "597       wade.delvalle@sakilacustomer.org         604        True   \n",
       "598      austin.cintron@sakilacustomer.org         605        True   \n",
       "\n",
       "    create_date             last_update  active  \n",
       "0    2006-02-14 2013-05-26 14:49:45.738       1  \n",
       "1    2006-02-14 2013-05-26 14:49:45.738       1  \n",
       "2    2006-02-14 2013-05-26 14:49:45.738       1  \n",
       "3    2006-02-14 2013-05-26 14:49:45.738       1  \n",
       "4    2006-02-14 2013-05-26 14:49:45.738       1  \n",
       "..          ...                     ...     ...  \n",
       "594  2006-02-14 2013-05-26 14:49:45.738       1  \n",
       "595  2006-02-14 2013-05-26 14:49:45.738       1  \n",
       "596  2006-02-14 2013-05-26 14:49:45.738       1  \n",
       "597  2006-02-14 2013-05-26 14:49:45.738       1  \n",
       "598  2006-02-14 2013-05-26 14:49:45.738       1  \n",
       "\n",
       "[599 rows x 10 columns]"
      ]
     },
     "execution_count": 8,
     "metadata": {},
     "output_type": "execute_result"
    }
   ],
   "source": [
    "df"
   ]
  },
  {
   "cell_type": "code",
   "execution_count": 46,
   "id": "3dd47895",
   "metadata": {},
   "outputs": [],
   "source": [
    "query = \"\"\"\n",
    "SELECT \n",
    " f.title,\n",
    " f.length,\n",
    " CASE \n",
    "  WHEN f.length > 0 AND f.length <=50 THEN 'Short'\n",
    "  WHEN f.length > 50 AND f.length < 120 THEN 'Medium'\n",
    "  WHEN f.length > 120 THEN 'Long'\n",
    " END AS duration\n",
    "FROM \n",
    " film AS f\n",
    "\"\"\""
   ]
  },
  {
   "cell_type": "code",
   "execution_count": 48,
   "id": "9eb40c80",
   "metadata": {},
   "outputs": [
    {
     "name": "stderr",
     "output_type": "stream",
     "text": [
      "C:\\Users\\D\\AppData\\Local\\Temp\\ipykernel_7852\\1727333228.py:1: UserWarning: pandas only supports SQLAlchemy connectable (engine/connection) or database string URI or sqlite3 DBAPI2 connection. Other DBAPI2 objects are not tested. Please consider using SQLAlchemy.\n",
      "  df = pd.read_sql(query, con=engine)\n"
     ]
    }
   ],
   "source": [
    "df = pd.read_sql(query, con=engine)"
   ]
  },
  {
   "cell_type": "code",
   "execution_count": 49,
   "id": "d8213f2a",
   "metadata": {},
   "outputs": [
    {
     "data": {
      "text/html": [
       "<div>\n",
       "<style scoped>\n",
       "    .dataframe tbody tr th:only-of-type {\n",
       "        vertical-align: middle;\n",
       "    }\n",
       "\n",
       "    .dataframe tbody tr th {\n",
       "        vertical-align: top;\n",
       "    }\n",
       "\n",
       "    .dataframe thead th {\n",
       "        text-align: right;\n",
       "    }\n",
       "</style>\n",
       "<table border=\"1\" class=\"dataframe\">\n",
       "  <thead>\n",
       "    <tr style=\"text-align: right;\">\n",
       "      <th></th>\n",
       "      <th>title</th>\n",
       "      <th>length</th>\n",
       "      <th>duration</th>\n",
       "    </tr>\n",
       "  </thead>\n",
       "  <tbody>\n",
       "    <tr>\n",
       "      <th>0</th>\n",
       "      <td>Chamber Italian</td>\n",
       "      <td>117</td>\n",
       "      <td>Medium</td>\n",
       "    </tr>\n",
       "    <tr>\n",
       "      <th>1</th>\n",
       "      <td>Grosse Wonderful</td>\n",
       "      <td>49</td>\n",
       "      <td>Short</td>\n",
       "    </tr>\n",
       "    <tr>\n",
       "      <th>2</th>\n",
       "      <td>Airport Pollock</td>\n",
       "      <td>54</td>\n",
       "      <td>Medium</td>\n",
       "    </tr>\n",
       "    <tr>\n",
       "      <th>3</th>\n",
       "      <td>Bright Encounters</td>\n",
       "      <td>73</td>\n",
       "      <td>Medium</td>\n",
       "    </tr>\n",
       "    <tr>\n",
       "      <th>4</th>\n",
       "      <td>Academy Dinosaur</td>\n",
       "      <td>86</td>\n",
       "      <td>Medium</td>\n",
       "    </tr>\n",
       "    <tr>\n",
       "      <th>...</th>\n",
       "      <td>...</td>\n",
       "      <td>...</td>\n",
       "      <td>...</td>\n",
       "    </tr>\n",
       "    <tr>\n",
       "      <th>995</th>\n",
       "      <td>Young Language</td>\n",
       "      <td>183</td>\n",
       "      <td>Long</td>\n",
       "    </tr>\n",
       "    <tr>\n",
       "      <th>996</th>\n",
       "      <td>Youth Kick</td>\n",
       "      <td>179</td>\n",
       "      <td>Long</td>\n",
       "    </tr>\n",
       "    <tr>\n",
       "      <th>997</th>\n",
       "      <td>Zhivago Core</td>\n",
       "      <td>105</td>\n",
       "      <td>Medium</td>\n",
       "    </tr>\n",
       "    <tr>\n",
       "      <th>998</th>\n",
       "      <td>Zoolander Fiction</td>\n",
       "      <td>101</td>\n",
       "      <td>Medium</td>\n",
       "    </tr>\n",
       "    <tr>\n",
       "      <th>999</th>\n",
       "      <td>Zorro Ark</td>\n",
       "      <td>50</td>\n",
       "      <td>Short</td>\n",
       "    </tr>\n",
       "  </tbody>\n",
       "</table>\n",
       "<p>1000 rows × 3 columns</p>\n",
       "</div>"
      ],
      "text/plain": [
       "                 title  length duration\n",
       "0      Chamber Italian     117   Medium\n",
       "1     Grosse Wonderful      49    Short\n",
       "2      Airport Pollock      54   Medium\n",
       "3    Bright Encounters      73   Medium\n",
       "4     Academy Dinosaur      86   Medium\n",
       "..                 ...     ...      ...\n",
       "995     Young Language     183     Long\n",
       "996         Youth Kick     179     Long\n",
       "997       Zhivago Core     105   Medium\n",
       "998  Zoolander Fiction     101   Medium\n",
       "999          Zorro Ark      50    Short\n",
       "\n",
       "[1000 rows x 3 columns]"
      ]
     },
     "execution_count": 49,
     "metadata": {},
     "output_type": "execute_result"
    }
   ],
   "source": [
    "df"
   ]
  }
 ],
 "metadata": {
  "kernelspec": {
   "display_name": "Python 3 (ipykernel)",
   "language": "python",
   "name": "python3"
  },
  "language_info": {
   "codemirror_mode": {
    "name": "ipython",
    "version": 3
   },
   "file_extension": ".py",
   "mimetype": "text/x-python",
   "name": "python",
   "nbconvert_exporter": "python",
   "pygments_lexer": "ipython3",
   "version": "3.11.5"
  }
 },
 "nbformat": 4,
 "nbformat_minor": 5
}
