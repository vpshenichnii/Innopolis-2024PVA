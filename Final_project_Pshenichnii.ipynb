{
 "cells": [
  {
   "cell_type": "code",
   "execution_count": 37,
   "id": "f422df04-0d35-407a-a4e8-19f957156bf8",
   "metadata": {},
   "outputs": [],
   "source": [
    "from scipy import stats\n",
    "from sklearn.linear_model import LogisticRegression\n",
    "from sklearn.metrics import confusion_matrix\n",
    "from sklearn.metrics import mean_squared_error, mean_absolute_error, mean_absolute_percentage_error\n",
    "from sklearn.metrics import precision_score,recall_score, accuracy_score, f1_score\n",
    "from sklearn.metrics import roc_auc_score\n",
    "from sklearn.metrics import roc_curve, auc\n",
    "from sklearn.model_selection import train_test_split\n",
    "from sklearn.tree import DecisionTreeClassifier\n",
    "from sklearn.tree import DecisionTreeRegressor\n",
    "from sklearn.tree import plot_tree\n",
    "import matplotlib.pyplot as plt\n",
    "import numpy as np\n",
    "import pandas as pd\n",
    "import seaborn as sns\n",
    "import statsmodels.api as sm\n",
    "import warnings"
   ]
  },
  {
   "cell_type": "code",
   "execution_count": 2,
   "id": "f350b061-8146-441d-9bf6-907d112595dd",
   "metadata": {},
   "outputs": [
    {
     "data": {
      "text/html": [
       "<div>\n",
       "<style scoped>\n",
       "    .dataframe tbody tr th:only-of-type {\n",
       "        vertical-align: middle;\n",
       "    }\n",
       "\n",
       "    .dataframe tbody tr th {\n",
       "        vertical-align: top;\n",
       "    }\n",
       "\n",
       "    .dataframe thead th {\n",
       "        text-align: right;\n",
       "    }\n",
       "</style>\n",
       "<table border=\"1\" class=\"dataframe\">\n",
       "  <thead>\n",
       "    <tr style=\"text-align: right;\">\n",
       "      <th></th>\n",
       "      <th>ofp</th>\n",
       "      <th>ofnp</th>\n",
       "      <th>opp</th>\n",
       "      <th>opnp</th>\n",
       "      <th>emr</th>\n",
       "      <th>hosp</th>\n",
       "      <th>numchron</th>\n",
       "      <th>adldiff</th>\n",
       "      <th>age</th>\n",
       "      <th>black</th>\n",
       "      <th>sex</th>\n",
       "      <th>maried</th>\n",
       "      <th>school</th>\n",
       "      <th>faminc</th>\n",
       "      <th>employed</th>\n",
       "      <th>privins</th>\n",
       "      <th>medicaid</th>\n",
       "      <th>region</th>\n",
       "      <th>hlth</th>\n",
       "    </tr>\n",
       "  </thead>\n",
       "  <tbody>\n",
       "    <tr>\n",
       "      <th>0</th>\n",
       "      <td>5</td>\n",
       "      <td>0</td>\n",
       "      <td>0</td>\n",
       "      <td>0</td>\n",
       "      <td>0</td>\n",
       "      <td>1</td>\n",
       "      <td>2</td>\n",
       "      <td>0</td>\n",
       "      <td>6.9</td>\n",
       "      <td>yes</td>\n",
       "      <td>male</td>\n",
       "      <td>yes</td>\n",
       "      <td>6</td>\n",
       "      <td>2.8810</td>\n",
       "      <td>yes</td>\n",
       "      <td>yes</td>\n",
       "      <td>no</td>\n",
       "      <td>other</td>\n",
       "      <td>other</td>\n",
       "    </tr>\n",
       "    <tr>\n",
       "      <th>1</th>\n",
       "      <td>1</td>\n",
       "      <td>0</td>\n",
       "      <td>2</td>\n",
       "      <td>0</td>\n",
       "      <td>2</td>\n",
       "      <td>0</td>\n",
       "      <td>2</td>\n",
       "      <td>0</td>\n",
       "      <td>7.4</td>\n",
       "      <td>no</td>\n",
       "      <td>female</td>\n",
       "      <td>yes</td>\n",
       "      <td>10</td>\n",
       "      <td>2.7478</td>\n",
       "      <td>no</td>\n",
       "      <td>yes</td>\n",
       "      <td>no</td>\n",
       "      <td>other</td>\n",
       "      <td>other</td>\n",
       "    </tr>\n",
       "    <tr>\n",
       "      <th>2</th>\n",
       "      <td>13</td>\n",
       "      <td>0</td>\n",
       "      <td>0</td>\n",
       "      <td>0</td>\n",
       "      <td>3</td>\n",
       "      <td>3</td>\n",
       "      <td>4</td>\n",
       "      <td>1</td>\n",
       "      <td>6.6</td>\n",
       "      <td>yes</td>\n",
       "      <td>female</td>\n",
       "      <td>no</td>\n",
       "      <td>10</td>\n",
       "      <td>0.6532</td>\n",
       "      <td>no</td>\n",
       "      <td>no</td>\n",
       "      <td>yes</td>\n",
       "      <td>other</td>\n",
       "      <td>poor</td>\n",
       "    </tr>\n",
       "    <tr>\n",
       "      <th>3</th>\n",
       "      <td>16</td>\n",
       "      <td>0</td>\n",
       "      <td>5</td>\n",
       "      <td>0</td>\n",
       "      <td>1</td>\n",
       "      <td>1</td>\n",
       "      <td>2</td>\n",
       "      <td>1</td>\n",
       "      <td>7.6</td>\n",
       "      <td>no</td>\n",
       "      <td>male</td>\n",
       "      <td>yes</td>\n",
       "      <td>3</td>\n",
       "      <td>0.6588</td>\n",
       "      <td>no</td>\n",
       "      <td>yes</td>\n",
       "      <td>no</td>\n",
       "      <td>other</td>\n",
       "      <td>poor</td>\n",
       "    </tr>\n",
       "    <tr>\n",
       "      <th>4</th>\n",
       "      <td>3</td>\n",
       "      <td>0</td>\n",
       "      <td>0</td>\n",
       "      <td>0</td>\n",
       "      <td>0</td>\n",
       "      <td>0</td>\n",
       "      <td>2</td>\n",
       "      <td>1</td>\n",
       "      <td>7.9</td>\n",
       "      <td>no</td>\n",
       "      <td>female</td>\n",
       "      <td>yes</td>\n",
       "      <td>6</td>\n",
       "      <td>0.6588</td>\n",
       "      <td>no</td>\n",
       "      <td>yes</td>\n",
       "      <td>no</td>\n",
       "      <td>other</td>\n",
       "      <td>other</td>\n",
       "    </tr>\n",
       "  </tbody>\n",
       "</table>\n",
       "</div>"
      ],
      "text/plain": [
       "   ofp  ofnp  opp  opnp  emr  hosp  numchron  adldiff  age black     sex  \\\n",
       "0    5     0    0     0    0     1         2        0  6.9   yes    male   \n",
       "1    1     0    2     0    2     0         2        0  7.4    no  female   \n",
       "2   13     0    0     0    3     3         4        1  6.6   yes  female   \n",
       "3   16     0    5     0    1     1         2        1  7.6    no    male   \n",
       "4    3     0    0     0    0     0         2        1  7.9    no  female   \n",
       "\n",
       "  maried  school  faminc employed privins medicaid region   hlth  \n",
       "0    yes       6  2.8810      yes     yes       no  other  other  \n",
       "1    yes      10  2.7478       no     yes       no  other  other  \n",
       "2     no      10  0.6532       no      no      yes  other   poor  \n",
       "3    yes       3  0.6588       no     yes       no  other   poor  \n",
       "4    yes       6  0.6588       no     yes       no  other  other  "
      ]
     },
     "execution_count": 2,
     "metadata": {},
     "output_type": "execute_result"
    }
   ],
   "source": [
    "item = 'OFP'\n",
    "package = 'Ecdat'\n",
    "df = sm.datasets.get_rdataset(item, package , cache=True).data\n",
    "df.head()"
   ]
  },
  {
   "cell_type": "code",
   "execution_count": 5,
   "id": "228d6ada-dd6c-4a76-b7a7-392e3f95edb3",
   "metadata": {},
   "outputs": [
    {
     "data": {
      "text/html": [
       "<div>\n",
       "<style scoped>\n",
       "    .dataframe tbody tr th:only-of-type {\n",
       "        vertical-align: middle;\n",
       "    }\n",
       "\n",
       "    .dataframe tbody tr th {\n",
       "        vertical-align: top;\n",
       "    }\n",
       "\n",
       "    .dataframe thead th {\n",
       "        text-align: right;\n",
       "    }\n",
       "</style>\n",
       "<table border=\"1\" class=\"dataframe\">\n",
       "  <thead>\n",
       "    <tr style=\"text-align: right;\">\n",
       "      <th></th>\n",
       "      <th>ofp</th>\n",
       "      <th>ofnp</th>\n",
       "      <th>opp</th>\n",
       "      <th>opnp</th>\n",
       "      <th>emr</th>\n",
       "      <th>hosp</th>\n",
       "      <th>numchron</th>\n",
       "    </tr>\n",
       "  </thead>\n",
       "  <tbody>\n",
       "    <tr>\n",
       "      <th>0</th>\n",
       "      <td>5</td>\n",
       "      <td>0</td>\n",
       "      <td>0</td>\n",
       "      <td>0</td>\n",
       "      <td>0</td>\n",
       "      <td>1</td>\n",
       "      <td>2</td>\n",
       "    </tr>\n",
       "    <tr>\n",
       "      <th>1</th>\n",
       "      <td>1</td>\n",
       "      <td>0</td>\n",
       "      <td>2</td>\n",
       "      <td>0</td>\n",
       "      <td>2</td>\n",
       "      <td>0</td>\n",
       "      <td>2</td>\n",
       "    </tr>\n",
       "    <tr>\n",
       "      <th>2</th>\n",
       "      <td>13</td>\n",
       "      <td>0</td>\n",
       "      <td>0</td>\n",
       "      <td>0</td>\n",
       "      <td>3</td>\n",
       "      <td>3</td>\n",
       "      <td>4</td>\n",
       "    </tr>\n",
       "    <tr>\n",
       "      <th>3</th>\n",
       "      <td>16</td>\n",
       "      <td>0</td>\n",
       "      <td>5</td>\n",
       "      <td>0</td>\n",
       "      <td>1</td>\n",
       "      <td>1</td>\n",
       "      <td>2</td>\n",
       "    </tr>\n",
       "    <tr>\n",
       "      <th>4</th>\n",
       "      <td>3</td>\n",
       "      <td>0</td>\n",
       "      <td>0</td>\n",
       "      <td>0</td>\n",
       "      <td>0</td>\n",
       "      <td>0</td>\n",
       "      <td>2</td>\n",
       "    </tr>\n",
       "  </tbody>\n",
       "</table>\n",
       "</div>"
      ],
      "text/plain": [
       "   ofp  ofnp  opp  opnp  emr  hosp  numchron\n",
       "0    5     0    0     0    0     1         2\n",
       "1    1     0    2     0    2     0         2\n",
       "2   13     0    0     0    3     3         4\n",
       "3   16     0    5     0    1     1         2\n",
       "4    3     0    0     0    0     0         2"
      ]
     },
     "execution_count": 5,
     "metadata": {},
     "output_type": "execute_result"
    }
   ],
   "source": [
    "data = df[['ofp', 'ofnp', 'opp', 'opnp', 'emr', 'hosp', 'numchron']]\n",
    "data.head()"
   ]
  },
  {
   "cell_type": "code",
   "execution_count": 7,
   "id": "21e2ceae-416a-4223-aa30-597a5611ac02",
   "metadata": {},
   "outputs": [
    {
     "data": {
      "text/plain": [
       "(4406, 7)"
      ]
     },
     "execution_count": 7,
     "metadata": {},
     "output_type": "execute_result"
    }
   ],
   "source": [
    "data.shape"
   ]
  },
  {
   "cell_type": "code",
   "execution_count": 9,
   "id": "ddc0ffdc-5321-4af9-b89f-847c82f4686a",
   "metadata": {},
   "outputs": [
    {
     "name": "stdout",
     "output_type": "stream",
     "text": [
      "Средняя:  5.774398547435315\n",
      "Медиана:  4.0\n",
      "Скошенность:  3.3381744056944953\n",
      "Эксцесс:  20.2064540726094\n"
     ]
    }
   ],
   "source": [
    "print('Средняя: ', df['ofp'].mean())\n",
    "print('Медиана: ', df['ofp'].median())\n",
    "print('Скошенность: ', stats.skew(df['ofp']))\n",
    "print('Эксцесс: ', stats.kurtosis(df['ofp']))"
   ]
  },
  {
   "cell_type": "code",
   "execution_count": 11,
   "id": "29b25ba3-514c-4f3d-b217-1e48ce22dc72",
   "metadata": {},
   "outputs": [
    {
     "name": "stdout",
     "output_type": "stream",
     "text": [
      "Средняя:  0.2959600544711757\n",
      "Медиана:  0.0\n",
      "Скошенность:  3.9644273951861133\n",
      "Эксцесс:  22.802473854151557\n"
     ]
    }
   ],
   "source": [
    "print('Средняя: ', df['hosp'].mean())\n",
    "print('Медиана: ', df['hosp'].median())\n",
    "print('Скошенность: ', stats.skew(df['hosp']))\n",
    "print('Эксцесс: ', stats.kurtosis(df['hosp']))"
   ]
  },
  {
   "cell_type": "code",
   "execution_count": 105,
   "id": "be9555aa-be38-40d6-a721-91b748d05a83",
   "metadata": {},
   "outputs": [
    {
     "data": {
      "image/png": "[encoded data removed]",
      "text/plain": [
       "<Figure size 2000x500 with 2 Axes>"
      ]
     },
     "metadata": {},
     "output_type": "display_data"
    }
   ],
   "source": [
    "fig, ax  = plt.subplots(1,2, figsize = (20,5))\n",
    "plt.suptitle('Распределение посещений терапевта и хронических заболеваний')\n",
    "sns.histplot(df['ofp'], kde = True, ax = ax[0])\n",
    "sns.histplot(df['numchron'], kde = False, ax = ax[1])\n",
    "plt.show()"
   ]
  },
  {
   "cell_type": "code",
   "execution_count": null,
   "id": "098eaf39-2c2b-4498-be27-454b89f7b33c",
   "metadata": {},
   "outputs": [],
   "source": [
    "# учитывая что исследуем такие явления как визиты к врачу и число хрон. заболеваний - правостороннее смещение вполне объяснимо"
   ]
  },
  {
   "cell_type": "code",
   "execution_count": 13,
   "id": "58a9605c-593b-40b4-af68-acf334a61721",
   "metadata": {},
   "outputs": [
    {
     "data": {
      "text/plain": [
       "(4406, 7)"
      ]
     },
     "execution_count": 13,
     "metadata": {},
     "output_type": "execute_result"
    }
   ],
   "source": [
    "data.shape"
   ]
  },
  {
   "cell_type": "code",
   "execution_count": 19,
   "id": "98d2e696-2acf-4464-b69d-9236ca948586",
   "metadata": {},
   "outputs": [],
   "source": [
    "data80 = data.head(3525)\n",
    "data20 = data.tail(881)"
   ]
  },
  {
   "cell_type": "code",
   "execution_count": 221,
   "id": "282b61a2-f99b-4f7e-baf0-ba294d925a31",
   "metadata": {},
   "outputs": [
    {
     "name": "stdout",
     "output_type": "stream",
     "text": [
      "(3525, 7)\n",
      "(881, 7)\n"
     ]
    }
   ],
   "source": [
    "print(data80.shape)\n",
    "print(data20.shape)"
   ]
  },
  {
   "cell_type": "code",
   "execution_count": 15,
   "id": "21a33e8e-ec1d-4302-a193-c39d79c631b0",
   "metadata": {},
   "outputs": [],
   "source": [
    "# отсек последние 20% сразу чтобы не показывать их моделе ни в каком виде"
   ]
  },
  {
   "cell_type": "code",
   "execution_count": 21,
   "id": "3fe8fe65-1a02-43de-8952-1a1101fdd8eb",
   "metadata": {},
   "outputs": [],
   "source": [
    "target = data80['numchron']"
   ]
  },
  {
   "cell_type": "code",
   "execution_count": 163,
   "id": "1261c1dc-96ca-4910-9a5f-e96fef949268",
   "metadata": {},
   "outputs": [],
   "source": [
    "# За таргет принимаю количество хронических заболеваний \"numchron\". \n",
    "# Полезность: группировать пациентов по количеству хронических заболеваний.\n",
    "# Для страховой компании, можно можно сформировать группы финансового риска - меньше хронических заболеваний - дешевле страховое покрытие."
   ]
  },
  {
   "cell_type": "code",
   "execution_count": 165,
   "id": "dd50c9b4-57ae-471a-a71e-eecbf4df1f1c",
   "metadata": {},
   "outputs": [],
   "source": [
    "# проверяю значимость кол-ва посещений для кол-ва хронических заболеваний через тест ANOVA"
   ]
  },
  {
   "cell_type": "code",
   "execution_count": 23,
   "id": "1df549b0-2620-4997-9d40-2a9f55c5792c",
   "metadata": {},
   "outputs": [
    {
     "data": {
      "text/plain": [
       "F_onewayResult(statistic=131.54055718149667, pvalue=9.814106305035188e-138)"
      ]
     },
     "execution_count": 23,
     "metadata": {},
     "output_type": "execute_result"
    }
   ],
   "source": [
    "stats.f_oneway(target, data80['ofnp'], data80['opp'], data80['opnp'], data80['emr'], data80['hosp'])"
   ]
  },
  {
   "cell_type": "code",
   "execution_count": 169,
   "id": "d6276127-f1cb-4144-b53e-423bb86abdb0",
   "metadata": {},
   "outputs": [],
   "source": [
    "#pvalue сильно меньше 5% - значит количество хрон. заболеваний зависит от кол-ва посещений врача"
   ]
  },
  {
   "cell_type": "code",
   "execution_count": 25,
   "id": "a5afae0c-fc7f-44f9-91a9-3d8cd9e05caf",
   "metadata": {},
   "outputs": [],
   "source": [
    "# по сути считаю что кол-во хронических заболеваний - это качественная характеристика, несмотря на выражение в цифрах\n",
    "# получается в прогнозе надо решить задачу классификации - распределить пациенктов по группам (кол-во хрон. заболеваний) в зависимости от \n",
    "# посещений врача, госпитализаций и т.д. (вот от этих метрик: ofp, ofnp, opp, opnp, emr,hosp)"
   ]
  },
  {
   "cell_type": "code",
   "execution_count": 27,
   "id": "35e2c138-79c7-41de-89e7-aba717f1d214",
   "metadata": {},
   "outputs": [],
   "source": [
    "X_train, X_test , y_train , y_test = train_test_split (data80, target, test_size = 0.2, random_state = 77)"
   ]
  },
  {
   "cell_type": "code",
   "execution_count": 29,
   "id": "03141126-bb50-4240-935a-91c220d5da7f",
   "metadata": {},
   "outputs": [],
   "source": [
    "clf = DecisionTreeClassifier()\n",
    "clf.fit(X_train, y_train)\n",
    "y_pred = clf.predict(X_test)"
   ]
  },
  {
   "cell_type": "code",
   "execution_count": 31,
   "id": "c88c27d7-b7c7-482a-8290-47e965f59c09",
   "metadata": {},
   "outputs": [
    {
     "data": {
      "text/plain": [
       "array([4, 2, 2, 5, 2, 2, 4, 3, 1, 1, 1, 1, 1, 3, 2, 0, 1, 1, 0, 3, 1, 2,\n",
       "       1, 5, 0, 1, 0, 4, 4, 0, 0, 1, 2, 4, 0, 1, 2, 0, 2, 1, 3, 4, 0, 1,\n",
       "       2, 1, 2, 0, 2, 1, 1, 1, 2, 1, 2, 2, 1, 0, 0, 1, 1, 0, 4, 2, 2, 1,\n",
       "       0, 2, 0, 2, 3, 0, 1, 4, 0, 2, 0, 4, 1, 1, 2, 3, 4, 1, 0, 1, 0, 2,\n",
       "       1, 0, 2, 1, 1, 1, 0, 1, 0, 2, 2, 1, 1, 1, 4, 2, 1, 5, 1, 1, 2, 2,\n",
       "       2, 0, 1, 0, 1, 0, 1, 1, 4, 0, 2, 1, 2, 1, 1, 1, 2, 1, 2, 0, 4, 3,\n",
       "       1, 0, 1, 0, 0, 1, 3, 0, 0, 1, 2, 2, 3, 1, 2, 3, 2, 0, 1, 0, 2, 1,\n",
       "       4, 2, 1, 1, 0, 1, 1, 1, 2, 0, 2, 0, 1, 2, 4, 2, 2, 5, 0, 1, 3, 1,\n",
       "       0, 0, 4, 2, 3, 0, 5, 2, 1, 1, 0, 1, 4, 5, 1, 3, 1, 1, 4, 3, 1, 4,\n",
       "       1, 3, 0, 3, 1, 0, 1, 0, 0, 1, 3, 1, 1, 1, 2, 1, 1, 3, 2, 0, 0, 1,\n",
       "       3, 1, 0, 2, 2, 3, 6, 1, 0, 1, 0, 1, 3, 5, 2, 2, 3, 3, 2, 1, 1, 3,\n",
       "       1, 0, 1, 1, 0, 5, 2, 1, 2, 1, 1, 4, 1, 2, 1, 0, 2, 0, 2, 1, 0, 0,\n",
       "       2, 1, 1, 0, 1, 1, 1, 1, 1, 1, 1, 0, 0, 1, 2, 3, 5, 4, 1, 1, 0, 1,\n",
       "       0, 3, 3, 1, 2, 3, 2, 1, 0, 0, 0, 0, 2, 6, 1, 2, 4, 2, 2, 0, 3, 2,\n",
       "       2, 1, 1, 3, 0, 1, 2, 0, 1, 2, 0, 3, 1, 2, 1, 3, 0, 0, 2, 0, 0, 2,\n",
       "       1, 1, 1, 0, 3, 3, 0, 2, 0, 0, 1, 1, 1, 1, 1, 1, 2, 2, 1, 1, 1, 2,\n",
       "       0, 0, 1, 4, 1, 2, 2, 2, 0, 0, 0, 4, 2, 2, 2, 7, 0, 2, 2, 1, 0, 0,\n",
       "       3, 5, 3, 1, 1, 1, 0, 1, 3, 0, 1, 5, 0, 3, 2, 3, 0, 5, 0, 1, 1, 2,\n",
       "       3, 1, 1, 2, 2, 1, 2, 0, 2, 3, 2, 3, 2, 1, 1, 3, 1, 1, 0, 1, 2, 0,\n",
       "       0, 1, 1, 2, 1, 2, 1, 5, 0, 0, 2, 0, 1, 1, 0, 0, 1, 2, 0, 2, 4, 1,\n",
       "       7, 0, 4, 5, 3, 2, 2, 0, 3, 5, 0, 1, 3, 1, 1, 1, 0, 0, 3, 3, 3, 0,\n",
       "       1, 0, 3, 1, 1, 0, 1, 2, 2, 5, 3, 1, 2, 0, 3, 3, 0, 0, 1, 2, 2, 1,\n",
       "       2, 3, 1, 0, 1, 0, 2, 1, 2, 1, 2, 2, 1, 0, 3, 2, 2, 1, 2, 4, 1, 3,\n",
       "       1, 1, 1, 1, 4, 1, 4, 1, 1, 1, 1, 2, 0, 0, 0, 1, 0, 1, 0, 1, 3, 2,\n",
       "       2, 1, 1, 2, 0, 1, 2, 2, 3, 3, 0, 1, 1, 0, 1, 1, 1, 1, 1, 1, 0, 1,\n",
       "       1, 0, 1, 2, 1, 3, 3, 0, 2, 2, 1, 1, 3, 1, 2, 3, 0, 2, 1, 3, 3, 3,\n",
       "       4, 1, 0, 3, 1, 0, 5, 2, 1, 2, 1, 0, 0, 0, 3, 2, 1, 1, 3, 0, 1, 1,\n",
       "       2, 0, 0, 1, 1, 1, 0, 2, 0, 0, 1, 1, 0, 4, 1, 2, 1, 1, 1, 1, 0, 3,\n",
       "       1, 0, 2, 2, 0, 0, 1, 2, 1, 1, 1, 4, 0, 1, 5, 1, 1, 2, 1, 1, 1, 2,\n",
       "       1, 2, 5, 0, 0, 5, 1, 2, 0, 6, 3, 1, 3, 2, 2, 1, 0, 0, 0, 3, 3, 1,\n",
       "       0, 3, 1, 1, 1, 1, 1, 0, 1, 4, 0, 0, 1, 1, 2, 1, 2, 3, 1, 1, 1, 2,\n",
       "       1, 2, 1, 1, 1, 1, 1, 1, 1, 3, 0, 2, 2, 2, 2, 5, 1, 2, 1, 5, 4, 0,\n",
       "       3], dtype=int64)"
      ]
     },
     "execution_count": 31,
     "metadata": {},
     "output_type": "execute_result"
    }
   ],
   "source": [
    "y_pred"
   ]
  },
  {
   "cell_type": "code",
   "execution_count": 33,
   "id": "589d1e78-9b2f-4a70-b922-a4da1232f32c",
   "metadata": {},
   "outputs": [
    {
     "data": {
      "text/plain": [
       "array([4, 2, 2, 5, 2, 2, 4, 3, 1, 1, 1, 1, 1, 3, 2, 0, 1, 1, 0, 3, 1, 2,\n",
       "       1, 5, 0, 1, 0, 4, 4, 0, 0, 1, 2, 4, 0, 1, 2, 0, 2, 1, 3, 4, 0, 1,\n",
       "       2, 1, 2, 0, 2, 1, 1, 1, 2, 1, 2, 2, 1, 0, 0, 1, 1, 0, 4, 2, 2, 1,\n",
       "       0, 2, 0, 2, 3, 0, 1, 4, 0, 2, 0, 4, 1, 1, 2, 3, 4, 1, 0, 1, 0, 2,\n",
       "       1, 0, 2, 1, 1, 1, 0, 1, 0, 2, 2, 1, 1, 1, 4, 2, 1, 5, 1, 1, 2, 2,\n",
       "       2, 0, 1, 0, 1, 0, 1, 1, 4, 0, 2, 1, 2, 1, 1, 1, 2, 1, 2, 0, 4, 3,\n",
       "       1, 0, 1, 0, 0, 1, 3, 0, 0, 1, 2, 2, 3, 1, 2, 3, 2, 0, 1, 0, 2, 1,\n",
       "       4, 2, 1, 1, 0, 1, 1, 1, 2, 0, 2, 0, 1, 2, 4, 2, 2, 5, 0, 1, 3, 1,\n",
       "       0, 0, 4, 2, 3, 0, 5, 2, 1, 1, 0, 1, 4, 5, 1, 3, 1, 1, 4, 3, 1, 4,\n",
       "       1, 3, 0, 3, 1, 0, 1, 0, 0, 1, 3, 1, 1, 1, 2, 1, 1, 3, 2, 0, 0, 1,\n",
       "       3, 1, 0, 2, 2, 3, 6, 1, 0, 1, 0, 1, 3, 5, 2, 2, 3, 3, 2, 1, 1, 3,\n",
       "       1, 0, 1, 1, 0, 5, 2, 1, 2, 1, 1, 4, 1, 2, 1, 0, 2, 0, 2, 1, 0, 0,\n",
       "       2, 1, 1, 0, 1, 1, 1, 1, 1, 1, 1, 0, 0, 1, 2, 3, 5, 4, 1, 1, 0, 1,\n",
       "       0, 3, 3, 1, 2, 3, 2, 1, 0, 0, 0, 0, 2, 6, 1, 2, 4, 2, 2, 0, 3, 2,\n",
       "       2, 1, 1, 3, 0, 1, 2, 0, 1, 2, 0, 3, 1, 2, 1, 3, 0, 0, 2, 0, 0, 2,\n",
       "       1, 1, 1, 0, 3, 3, 0, 2, 0, 0, 1, 1, 1, 1, 1, 1, 2, 2, 1, 1, 1, 2,\n",
       "       0, 0, 1, 4, 1, 2, 2, 2, 0, 0, 0, 4, 2, 2, 2, 7, 0, 2, 2, 1, 0, 0,\n",
       "       3, 5, 3, 1, 1, 1, 0, 1, 3, 0, 1, 5, 0, 3, 2, 3, 0, 5, 0, 1, 1, 2,\n",
       "       3, 1, 1, 2, 2, 1, 2, 0, 2, 3, 2, 3, 2, 1, 1, 3, 1, 1, 0, 1, 2, 0,\n",
       "       0, 1, 1, 2, 1, 2, 1, 5, 0, 0, 2, 0, 1, 1, 0, 0, 1, 2, 0, 2, 4, 1,\n",
       "       7, 0, 4, 5, 3, 2, 2, 0, 3, 5, 0, 1, 3, 1, 1, 1, 0, 0, 3, 3, 3, 0,\n",
       "       1, 0, 3, 1, 1, 0, 1, 2, 2, 5, 3, 1, 2, 0, 3, 3, 0, 0, 1, 2, 2, 1,\n",
       "       2, 3, 1, 0, 1, 0, 2, 1, 2, 1, 2, 2, 1, 0, 3, 2, 2, 1, 2, 4, 1, 3,\n",
       "       1, 1, 1, 1, 4, 1, 4, 1, 1, 1, 1, 2, 0, 0, 0, 1, 0, 1, 0, 1, 3, 2,\n",
       "       2, 1, 1, 2, 0, 1, 2, 2, 3, 3, 0, 1, 1, 0, 1, 1, 1, 1, 1, 1, 0, 1,\n",
       "       1, 0, 1, 2, 1, 3, 3, 0, 2, 2, 1, 1, 3, 1, 2, 3, 0, 2, 1, 3, 3, 3,\n",
       "       4, 1, 0, 3, 1, 0, 5, 2, 1, 2, 1, 0, 0, 0, 3, 2, 1, 1, 3, 0, 1, 1,\n",
       "       2, 0, 0, 1, 1, 1, 0, 2, 0, 0, 1, 1, 0, 4, 1, 2, 1, 1, 1, 1, 0, 3,\n",
       "       1, 0, 2, 2, 0, 0, 1, 2, 1, 1, 1, 4, 0, 1, 5, 1, 1, 2, 1, 1, 1, 2,\n",
       "       1, 2, 5, 0, 0, 5, 1, 2, 0, 6, 3, 1, 3, 2, 2, 1, 0, 0, 0, 3, 3, 1,\n",
       "       0, 3, 1, 1, 1, 1, 1, 0, 1, 4, 0, 0, 1, 1, 2, 1, 2, 3, 1, 1, 1, 2,\n",
       "       1, 2, 1, 1, 1, 1, 1, 1, 1, 3, 0, 2, 2, 2, 2, 5, 1, 2, 1, 5, 4, 0,\n",
       "       3], dtype=int64)"
      ]
     },
     "execution_count": 33,
     "metadata": {},
     "output_type": "execute_result"
    }
   ],
   "source": [
    "y_test.values"
   ]
  },
  {
   "cell_type": "code",
   "execution_count": 35,
   "id": "756f042b-ef2d-47c3-a6a5-81f6d3c5c053",
   "metadata": {},
   "outputs": [
    {
     "data": {
      "text/plain": [
       "array([[157,   0,   0,   0,   0,   0,   0,   0],\n",
       "       [  0, 260,   0,   0,   0,   0,   0,   0],\n",
       "       [  0,   0, 149,   0,   0,   0,   0,   0],\n",
       "       [  0,   0,   0,  78,   0,   0,   0,   0],\n",
       "       [  0,   0,   0,   0,  34,   0,   0,   0],\n",
       "       [  0,   0,   0,   0,   0,  22,   0,   0],\n",
       "       [  0,   0,   0,   0,   0,   0,   3,   0],\n",
       "       [  0,   0,   0,   0,   0,   0,   0,   2]], dtype=int64)"
      ]
     },
     "execution_count": 35,
     "metadata": {},
     "output_type": "execute_result"
    }
   ],
   "source": [
    "confusion_matrix(y_pred, y_test.values)"
   ]
  },
  {
   "cell_type": "code",
   "execution_count": 245,
   "id": "a408e3b7-a9ed-4cf5-a4fd-be67ed69fc0a",
   "metadata": {},
   "outputs": [],
   "source": [
    "# идельно предсказала все группы"
   ]
  },
  {
   "cell_type": "code",
   "execution_count": 249,
   "id": "15fb0942-4bf9-4efc-a80b-30cd2327a2a3",
   "metadata": {},
   "outputs": [],
   "source": [
    "cm = confusion_matrix(y_pred, y_test.values)"
   ]
  },
  {
   "cell_type": "code",
   "execution_count": 257,
   "id": "988f57c0-21de-4dab-bd8f-6d0f053b7959",
   "metadata": {},
   "outputs": [
    {
     "name": "stdout",
     "output_type": "stream",
     "text": [
      "Accuracy 1.0\n",
      "Precision 1.0\n"
     ]
    }
   ],
   "source": [
    "print('Accuracy', accuracy_score(y_test.values, y_pred))\n",
    "print('Precision', cm[1,1] / (cm[1,1] + cm[0,1]))"
   ]
  },
  {
   "cell_type": "code",
   "execution_count": 57,
   "id": "28be3166-4a39-444d-a26f-4515518fbad5",
   "metadata": {},
   "outputs": [
    {
     "data": {
      "image/png": "[encoded data removed]",
      "text/plain": [
       "<Figure size 640x480 with 2 Axes>"
      ]
     },
     "metadata": {},
     "output_type": "display_data"
    }
   ],
   "source": [
    "sns.heatmap(confusion_matrix(y_pred, y_test.values), annot = True)\n",
    "plt.show()"
   ]
  },
  {
   "cell_type": "code",
   "execution_count": 247,
   "id": "c49eb1b6-20f9-49bf-85e0-82fae17fdc3b",
   "metadata": {},
   "outputs": [],
   "source": [
    "#заберу на слайд"
   ]
  },
  {
   "cell_type": "code",
   "execution_count": 261,
   "id": "a74e9628-7759-4457-a06b-2836779748f9",
   "metadata": {},
   "outputs": [],
   "source": [
    "# теперь предскажем бинарную величину adldiff"
   ]
  },
  {
   "cell_type": "code",
   "execution_count": 59,
   "id": "e3792e41-9996-4fa7-b0bf-67c5c1e94e4e",
   "metadata": {},
   "outputs": [
    {
     "data": {
      "text/html": [
       "<div>\n",
       "<style scoped>\n",
       "    .dataframe tbody tr th:only-of-type {\n",
       "        vertical-align: middle;\n",
       "    }\n",
       "\n",
       "    .dataframe tbody tr th {\n",
       "        vertical-align: top;\n",
       "    }\n",
       "\n",
       "    .dataframe thead th {\n",
       "        text-align: right;\n",
       "    }\n",
       "</style>\n",
       "<table border=\"1\" class=\"dataframe\">\n",
       "  <thead>\n",
       "    <tr style=\"text-align: right;\">\n",
       "      <th></th>\n",
       "      <th>ofp</th>\n",
       "      <th>ofnp</th>\n",
       "      <th>opp</th>\n",
       "      <th>opnp</th>\n",
       "      <th>emr</th>\n",
       "      <th>hosp</th>\n",
       "      <th>numchron</th>\n",
       "      <th>adldiff</th>\n",
       "    </tr>\n",
       "  </thead>\n",
       "  <tbody>\n",
       "    <tr>\n",
       "      <th>0</th>\n",
       "      <td>5</td>\n",
       "      <td>0</td>\n",
       "      <td>0</td>\n",
       "      <td>0</td>\n",
       "      <td>0</td>\n",
       "      <td>1</td>\n",
       "      <td>2</td>\n",
       "      <td>0</td>\n",
       "    </tr>\n",
       "    <tr>\n",
       "      <th>1</th>\n",
       "      <td>1</td>\n",
       "      <td>0</td>\n",
       "      <td>2</td>\n",
       "      <td>0</td>\n",
       "      <td>2</td>\n",
       "      <td>0</td>\n",
       "      <td>2</td>\n",
       "      <td>0</td>\n",
       "    </tr>\n",
       "    <tr>\n",
       "      <th>2</th>\n",
       "      <td>13</td>\n",
       "      <td>0</td>\n",
       "      <td>0</td>\n",
       "      <td>0</td>\n",
       "      <td>3</td>\n",
       "      <td>3</td>\n",
       "      <td>4</td>\n",
       "      <td>1</td>\n",
       "    </tr>\n",
       "    <tr>\n",
       "      <th>3</th>\n",
       "      <td>16</td>\n",
       "      <td>0</td>\n",
       "      <td>5</td>\n",
       "      <td>0</td>\n",
       "      <td>1</td>\n",
       "      <td>1</td>\n",
       "      <td>2</td>\n",
       "      <td>1</td>\n",
       "    </tr>\n",
       "    <tr>\n",
       "      <th>4</th>\n",
       "      <td>3</td>\n",
       "      <td>0</td>\n",
       "      <td>0</td>\n",
       "      <td>0</td>\n",
       "      <td>0</td>\n",
       "      <td>0</td>\n",
       "      <td>2</td>\n",
       "      <td>1</td>\n",
       "    </tr>\n",
       "  </tbody>\n",
       "</table>\n",
       "</div>"
      ],
      "text/plain": [
       "   ofp  ofnp  opp  opnp  emr  hosp  numchron  adldiff\n",
       "0    5     0    0     0    0     1         2        0\n",
       "1    1     0    2     0    2     0         2        0\n",
       "2   13     0    0     0    3     3         4        1\n",
       "3   16     0    5     0    1     1         2        1\n",
       "4    3     0    0     0    0     0         2        1"
      ]
     },
     "execution_count": 59,
     "metadata": {},
     "output_type": "execute_result"
    }
   ],
   "source": [
    "data = df[['ofp', 'ofnp', 'opp', 'opnp', 'emr', 'hosp', 'numchron', 'adldiff']]\n",
    "data.head()"
   ]
  },
  {
   "cell_type": "code",
   "execution_count": 61,
   "id": "98f7e19b-dab8-4eb4-8470-81f6dab73f1a",
   "metadata": {},
   "outputs": [],
   "source": [
    "data80 = data.head(3525)\n",
    "data20 = data.tail(881)"
   ]
  },
  {
   "cell_type": "code",
   "execution_count": 63,
   "id": "93a6307e-7e16-4f2b-957f-cc5cff01ca57",
   "metadata": {},
   "outputs": [],
   "source": [
    "X = data80[['ofp', 'ofnp', 'opp', 'opnp', 'emr', 'hosp', 'numchron']].values\n",
    "y = data80['adldiff'].values\n",
    "X_train, X_test, y_train, y_test = train_test_split (X, y, test_size = 0.2, random_state = 77)"
   ]
  },
  {
   "cell_type": "code",
   "execution_count": 65,
   "id": "1e67019a-4ba2-458c-a532-b5b3025d30a9",
   "metadata": {},
   "outputs": [
    {
     "name": "stdout",
     "output_type": "stream",
     "text": [
      "(3525, 8)\n",
      "(881, 8)\n"
     ]
    }
   ],
   "source": [
    "print(data80.shape)\n",
    "print(data20.shape)"
   ]
  },
  {
   "cell_type": "code",
   "execution_count": 67,
   "id": "536d4366-6f7c-4f35-abb6-8e5cabac87b6",
   "metadata": {},
   "outputs": [],
   "source": [
    "target = data80['adldiff']"
   ]
  },
  {
   "cell_type": "code",
   "execution_count": null,
   "id": "0b3b839c-3329-4000-b1d4-c20366bf17d5",
   "metadata": {},
   "outputs": [],
   "source": [
    "# За таргет принимаю наличие условий, которые ограничивают повседневную активность \"adldiff\". \n",
    "# Полезность: выявлять людей, которым нужно скорретировать повседневную активность чтобы снижать количество визитов к врачам.\n",
    "# Цель имеет очевидную социальную значимость. \n",
    "# Но, например для страховой компании, можно сформулировать и бизнес-цель - можно оплачивать людям активности (спорт) и меньше\n",
    "# тратить на оплату страховых походов к врачу."
   ]
  },
  {
   "cell_type": "code",
   "execution_count": 161,
   "id": "c46c4659-7f0d-4d28-bfaa-ca03be1f0da5",
   "metadata": {},
   "outputs": [],
   "source": [
    "# проверяю значимость отличий количеств посещений врача в зависимости от условий, ограничивающих повседневную активность через тест ANOVA"
   ]
  },
  {
   "cell_type": "code",
   "execution_count": 69,
   "id": "5f5b56e5-658c-48b3-a071-39eddd8f832e",
   "metadata": {},
   "outputs": [
    {
     "data": {
      "text/plain": [
       "F_onewayResult(statistic=151.19939025445686, pvalue=3.3397948628709437e-189)"
      ]
     },
     "execution_count": 69,
     "metadata": {},
     "output_type": "execute_result"
    }
   ],
   "source": [
    "stats.f_oneway(target, data80['ofnp'], data80['opp'], data80['opnp'], data80['emr'], data80['hosp'], data80['numchron'])"
   ]
  },
  {
   "cell_type": "code",
   "execution_count": 159,
   "id": "77bcffec-91d2-4da0-bfa7-f0203942ce65",
   "metadata": {},
   "outputs": [],
   "source": [
    "#pvalue сильно меньше 5% - значит количество посещений врача отличается в зависимости от условий, которые ограничивают повседневную активность."
   ]
  },
  {
   "cell_type": "code",
   "execution_count": 71,
   "id": "26474c26-9b13-49a8-ac5e-edeb7d46d5f0",
   "metadata": {},
   "outputs": [],
   "source": [
    "X = data80[['ofp', 'ofnp', 'opp', 'opnp', 'emr', 'hosp', 'numchron']].values\n",
    "y = data80['adldiff'].values\n",
    "X_train, X_test, y_train, y_test = train_test_split (X, y, test_size = 0.2, random_state = 77)"
   ]
  },
  {
   "cell_type": "code",
   "execution_count": 157,
   "id": "1471ceef-7b4d-48e4-8d10-cd9fc0393c20",
   "metadata": {},
   "outputs": [],
   "source": [
    "# поделил 80/20 (из самого дата сета убрал первые 20% еще раньше). Использую ROC-AUC т.к. предсказываю бинарное значение."
   ]
  },
  {
   "cell_type": "code",
   "execution_count": 87,
   "id": "877f6dfe-d322-4d50-a254-c431635f6652",
   "metadata": {},
   "outputs": [
    {
     "name": "stdout",
     "output_type": "stream",
     "text": [
      "(705, 7)\n",
      "(705,)\n"
     ]
    }
   ],
   "source": [
    "print(X_test.shape)\n",
    "print (y_test.shape)"
   ]
  },
  {
   "cell_type": "code",
   "execution_count": 89,
   "id": "d45d0479-3031-4540-9005-0e0ef6133431",
   "metadata": {},
   "outputs": [],
   "source": [
    "model = LogisticRegression()\n",
    "model.fit(X_train, y_train)\n",
    "pred = model.predict(X_test)\n",
    "probs= model.predict_proba(X_test)\n",
    "probs = probs [:, 1]"
   ]
  },
  {
   "cell_type": "code",
   "execution_count": 91,
   "id": "4e62715a-0597-44e6-b0b8-cfb19a4767d2",
   "metadata": {},
   "outputs": [
    {
     "data": {
      "text/plain": [
       "0.6889916133688376"
      ]
     },
     "execution_count": 91,
     "metadata": {},
     "output_type": "execute_result"
    }
   ],
   "source": [
    "auc_score = roc_auc_score(y_test, probs)\n",
    "fpr, tpr, threshold = roc_curve(y_test, probs)\n",
    "roc_auc = auc(fpr, tpr)\n",
    "auc_score"
   ]
  },
  {
   "cell_type": "code",
   "execution_count": 93,
   "id": "36793371-cbf0-4de1-a4ad-0cc3ea5aff5a",
   "metadata": {},
   "outputs": [
    {
     "name": "stdout",
     "output_type": "stream",
     "text": [
      "Accuracy  0.8014184397163121\n",
      "Precision 0.56\n",
      "Recall    0.0979020979020979\n",
      "F1        0.16666666666666666\n"
     ]
    }
   ],
   "source": [
    "print('Accuracy ', accuracy_score(y_test, pred))\n",
    "print('Precision', precision_score(y_test, pred))\n",
    "print('Recall   ', recall_score(y_test, pred))\n",
    "print('F1       ', f1_score(y_test, pred))"
   ]
  },
  {
   "cell_type": "code",
   "execution_count": null,
   "id": "d22d40af-59f7-4b0b-b7ad-1db7fd3f666e",
   "metadata": {},
   "outputs": [],
   "source": [
    "# как интересно при Accuracy 80% получить такой низкий Recall((((("
   ]
  },
  {
   "cell_type": "code",
   "execution_count": 103,
   "id": "7c6b50c3-c920-4f71-8a6f-865f8db6de2a",
   "metadata": {},
   "outputs": [],
   "source": [
    "# ну не очень recall, он же тянет вниз f1. качество второй модели явно ниже первой. хотя учитывая ее цели - рекомендации\n",
    "# пациентам - вполне приемлемо."
   ]
  },
  {
   "cell_type": "code",
   "execution_count": 95,
   "id": "82d2d5b6-bf0d-4f76-9fcd-ced6e001acc1",
   "metadata": {},
   "outputs": [
    {
     "data": {
      "image/png": "[encoded data removed]",
      "text/plain": [
       "<Figure size 640x480 with 1 Axes>"
      ]
     },
     "metadata": {},
     "output_type": "display_data"
    }
   ],
   "source": [
    "plt.plot(fpr, tpr, color = 'darkorange', label ='ROC кривая area = %0.2f)' % roc_auc)\n",
    "plt.plot([0, 1], [0, 1], color = 'navy', linestyle = '--')\n",
    "plt.xlim([0.0, 1.0])\n",
    "plt.ylim([0.0, 1.0])\n",
    "plt.xlabel('False Positive Rate')\n",
    "plt.ylabel('True Positive Rate')\n",
    "plt.title('ROC кривая')\n",
    "plt.legend()\n",
    "plt.show()"
   ]
  },
  {
   "cell_type": "code",
   "execution_count": 99,
   "id": "288aff56-23ee-4ca5-870d-7fe95b83e46a",
   "metadata": {},
   "outputs": [
    {
     "data": {
      "text/plain": [
       "array([       inf, 0.8216548 , 0.81827228, 0.77335295, 0.65014403,\n",
       "       0.6224424 , 0.60738318, 0.5866072 , 0.57822316, 0.54959432,\n",
       "       0.54043587, 0.53727682, 0.53585756, 0.53017903, 0.52239755,\n",
       "       0.51621611, 0.50166703, 0.49316594, 0.47260459, 0.45469147,\n",
       "       0.45166794, 0.44463043, 0.42861892, 0.41289585, 0.41047333,\n",
       "       0.40733853, 0.4056414 , 0.39294972, 0.38178628, 0.37369266,\n",
       "       0.36315212, 0.35828277, 0.35652915, 0.35396494, 0.34420856,\n",
       "       0.3398701 , 0.33850511, 0.32529207, 0.32524208, 0.32435557,\n",
       "       0.32306436, 0.32305086, 0.32203531, 0.32086737, 0.32022105,\n",
       "       0.31222547, 0.31189187, 0.31182446, 0.30970914, 0.30321593,\n",
       "       0.30191478, 0.29078729, 0.28703495, 0.2855118 , 0.28333145,\n",
       "       0.27556848, 0.27537285, 0.27526685, 0.27299198, 0.26985885,\n",
       "       0.26973099, 0.2667133 , 0.26550645, 0.26519387, 0.26356048,\n",
       "       0.26047878, 0.25969611, 0.25807444, 0.25586873, 0.2545246 ,\n",
       "       0.2529728 , 0.25096121, 0.25019746, 0.24908569, 0.24832576,\n",
       "       0.24751963, 0.24647493, 0.24646346, 0.24632074, 0.24461058,\n",
       "       0.24324387, 0.24292339, 0.24276714, 0.24216363, 0.23969045,\n",
       "       0.2380816 , 0.23783564, 0.23734463, 0.23368525, 0.22992773,\n",
       "       0.22891924, 0.2259915 , 0.22593471, 0.22327489, 0.22317678,\n",
       "       0.22316607, 0.2216978 , 0.21903904, 0.21536474, 0.21294544,\n",
       "       0.21127389, 0.20173156, 0.20015637, 0.19941897, 0.19855989,\n",
       "       0.19656931, 0.19621446, 0.19541651, 0.19539571, 0.19510218,\n",
       "       0.19492958, 0.19336471, 0.19296663, 0.19272537, 0.19262808,\n",
       "       0.19204979, 0.19163328, 0.19096061, 0.19072127, 0.19043311,\n",
       "       0.18958898, 0.18942011, 0.18918224, 0.18615284, 0.1861328 ,\n",
       "       0.18568367, 0.1854051 , 0.18463165, 0.18462235, 0.18417604,\n",
       "       0.18313064, 0.1831214 , 0.18284212, 0.18213057, 0.18163912,\n",
       "       0.18138035, 0.18083571, 0.18060623, 0.18016748, 0.18015706,\n",
       "       0.17995271, 0.17971917, 0.17824937, 0.17722129, 0.17190343,\n",
       "       0.17154967, 0.16950754, 0.16802129, 0.16748834, 0.16725329,\n",
       "       0.15784174, 0.15537939, 0.15406321, 0.15380772, 0.15210552,\n",
       "       0.14981462, 0.14785274, 0.14765756, 0.14728447, 0.14714179,\n",
       "       0.14538037, 0.14535006, 0.14515762, 0.14411195, 0.14392089,\n",
       "       0.14280575, 0.14269293, 0.14268385, 0.14233028, 0.1421916 ,\n",
       "       0.14197593, 0.14196841, 0.14147371, 0.14124697, 0.14111366,\n",
       "       0.14027066, 0.14026321, 0.13995225, 0.13976903, 0.13924706,\n",
       "       0.13906139, 0.13889175, 0.13875587, 0.13870648, 0.13835234,\n",
       "       0.13786821, 0.13751587, 0.13704985, 0.13686665, 0.13681344,\n",
       "       0.13668365, 0.13633385, 0.13589453, 0.13568934, 0.13563651,\n",
       "       0.13552317, 0.13550766, 0.1354704 , 0.1351604 , 0.13446814,\n",
       "       0.13417545, 0.13353956, 0.13325143, 0.12271572, 0.12208217,\n",
       "       0.12176447, 0.12016807, 0.10613243, 0.10574371, 0.10523865,\n",
       "       0.10518728, 0.10359103, 0.10331923, 0.10304462, 0.10239625,\n",
       "       0.10184864, 0.10148059, 0.10121032, 0.10097072, 0.10094069,\n",
       "       0.1005722 , 0.1001081 , 0.09996856, 0.09996741, 0.09981021,\n",
       "       0.09976974, 0.09967103, 0.09944206, 0.09940505, 0.09887498,\n",
       "       0.09877706, 0.0985132 , 0.09214568])"
      ]
     },
     "execution_count": 99,
     "metadata": {},
     "output_type": "execute_result"
    }
   ],
   "source": [
    "threshold"
   ]
  },
  {
   "cell_type": "code",
   "execution_count": 97,
   "id": "f268a32c-7e1a-4884-86ea-44cad00488cc",
   "metadata": {},
   "outputs": [
    {
     "data": {
      "text/plain": [
       "array([0.        , 0.00699301, 0.01398601, 0.01398601, 0.03496503,\n",
       "       0.03496503, 0.04195804, 0.04195804, 0.05594406, 0.05594406,\n",
       "       0.06293706, 0.06293706, 0.06993007, 0.06993007, 0.07692308,\n",
       "       0.07692308, 0.0979021 , 0.0979021 , 0.1048951 , 0.1048951 ,\n",
       "       0.11188811, 0.11188811, 0.13986014, 0.13986014, 0.16083916,\n",
       "       0.16083916, 0.16083916, 0.16083916, 0.18181818, 0.18181818,\n",
       "       0.2027972 , 0.2027972 , 0.20979021, 0.20979021, 0.23076923,\n",
       "       0.23076923, 0.23776224, 0.23776224, 0.25174825, 0.25174825,\n",
       "       0.25874126, 0.27272727, 0.27972028, 0.27972028, 0.28671329,\n",
       "       0.28671329, 0.29370629, 0.29370629, 0.3006993 , 0.3006993 ,\n",
       "       0.30769231, 0.30769231, 0.31468531, 0.31468531, 0.33566434,\n",
       "       0.33566434, 0.34265734, 0.34265734, 0.34965035, 0.34965035,\n",
       "       0.35664336, 0.35664336, 0.36363636, 0.36363636, 0.37062937,\n",
       "       0.37062937, 0.37062937, 0.37062937, 0.37062937, 0.37062937,\n",
       "       0.37762238, 0.37762238, 0.39160839, 0.39160839, 0.3986014 ,\n",
       "       0.3986014 , 0.40559441, 0.40559441, 0.40559441, 0.40559441,\n",
       "       0.41958042, 0.41958042, 0.41958042, 0.41958042, 0.43356643,\n",
       "       0.43356643, 0.44055944, 0.44055944, 0.45454545, 0.45454545,\n",
       "       0.46153846, 0.46153846, 0.46853147, 0.46853147, 0.47552448,\n",
       "       0.47552448, 0.48951049, 0.48951049, 0.51048951, 0.51048951,\n",
       "       0.51048951, 0.51048951, 0.52447552, 0.52447552, 0.52447552,\n",
       "       0.52447552, 0.53146853, 0.53146853, 0.53846154, 0.53846154,\n",
       "       0.54545455, 0.54545455, 0.55244755, 0.55244755, 0.55944056,\n",
       "       0.55944056, 0.56643357, 0.56643357, 0.57342657, 0.58041958,\n",
       "       0.58041958, 0.58741259, 0.60839161, 0.60839161, 0.61538462,\n",
       "       0.61538462, 0.62237762, 0.62237762, 0.62237762, 0.62937063,\n",
       "       0.62937063, 0.65034965, 0.65034965, 0.66433566, 0.66433566,\n",
       "       0.67132867, 0.67132867, 0.67832168, 0.67832168, 0.68531469,\n",
       "       0.69230769, 0.69230769, 0.70629371, 0.70629371, 0.70629371,\n",
       "       0.71328671, 0.71328671, 0.72027972, 0.72027972, 0.72727273,\n",
       "       0.72727273, 0.73426573, 0.73426573, 0.74125874, 0.74125874,\n",
       "       0.76223776, 0.76223776, 0.76223776, 0.76223776, 0.76923077,\n",
       "       0.76923077, 0.77622378, 0.78321678, 0.78321678, 0.78321678,\n",
       "       0.78321678, 0.78321678, 0.78321678, 0.79020979, 0.79020979,\n",
       "       0.7972028 , 0.7972028 , 0.7972028 , 0.8041958 , 0.8041958 ,\n",
       "       0.8041958 , 0.8041958 , 0.8041958 , 0.8041958 , 0.8041958 ,\n",
       "       0.8041958 , 0.8041958 , 0.81118881, 0.81118881, 0.82517483,\n",
       "       0.83916084, 0.84615385, 0.84615385, 0.84615385, 0.84615385,\n",
       "       0.86013986, 0.86013986, 0.86013986, 0.86713287, 0.86713287,\n",
       "       0.86713287, 0.90909091, 0.90909091, 0.90909091, 0.90909091,\n",
       "       0.91608392, 0.91608392, 0.92307692, 0.92307692, 0.92307692,\n",
       "       0.92307692, 0.93006993, 0.93006993, 0.93706294, 0.93706294,\n",
       "       0.93706294, 0.93706294, 0.94405594, 0.94405594, 0.94405594,\n",
       "       0.94405594, 0.94405594, 0.94405594, 0.95104895, 0.95104895,\n",
       "       0.95804196, 0.95804196, 0.96503497, 0.96503497, 0.96503497,\n",
       "       0.96503497, 0.98601399, 0.98601399, 0.98601399, 0.98601399,\n",
       "       1.        , 1.        , 1.        ])"
      ]
     },
     "execution_count": 97,
     "metadata": {},
     "output_type": "execute_result"
    }
   ],
   "source": [
    "tpr"
   ]
  },
  {
   "cell_type": "code",
   "execution_count": 101,
   "id": "0d6063a6-5b24-42ec-b0d1-4368c410120a",
   "metadata": {},
   "outputs": [
    {
     "data": {
      "text/plain": [
       "array([0.        , 0.        , 0.        , 0.00177936, 0.00177936,\n",
       "       0.00711744, 0.00711744, 0.01067616, 0.01067616, 0.01423488,\n",
       "       0.01423488, 0.01601423, 0.01601423, 0.01779359, 0.01779359,\n",
       "       0.01957295, 0.01957295, 0.02669039, 0.02669039, 0.03024911,\n",
       "       0.03024911, 0.03736655, 0.03736655, 0.04448399, 0.04448399,\n",
       "       0.04626335, 0.04982206, 0.05516014, 0.05516014, 0.06049822,\n",
       "       0.06049822, 0.06405694, 0.06405694, 0.06761566, 0.06761566,\n",
       "       0.07295374, 0.07295374, 0.08718861, 0.08718861, 0.09074733,\n",
       "       0.09252669, 0.09252669, 0.09252669, 0.09430605, 0.09430605,\n",
       "       0.10498221, 0.10498221, 0.10676157, 0.10676157, 0.10854093,\n",
       "       0.10854093, 0.11565836, 0.11565836, 0.11743772, 0.11743772,\n",
       "       0.12455516, 0.12455516, 0.12633452, 0.12633452, 0.12989324,\n",
       "       0.12989324, 0.13701068, 0.13701068, 0.13879004, 0.13879004,\n",
       "       0.14412811, 0.14768683, 0.15124555, 0.15658363, 0.16014235,\n",
       "       0.16014235, 0.16370107, 0.16725979, 0.17259786, 0.17437722,\n",
       "       0.17615658, 0.17615658, 0.18505338, 0.18683274, 0.19039146,\n",
       "       0.19039146, 0.19217082, 0.19572954, 0.19928826, 0.19928826,\n",
       "       0.20284698, 0.20284698, 0.20818505, 0.20818505, 0.21708185,\n",
       "       0.21708185, 0.22241993, 0.22241993, 0.22775801, 0.22775801,\n",
       "       0.23309609, 0.23309609, 0.23843416, 0.23843416, 0.24021352,\n",
       "       0.24377224, 0.2633452 , 0.2633452 , 0.27046263, 0.27402135,\n",
       "       0.27758007, 0.27758007, 0.28113879, 0.28113879, 0.28291815,\n",
       "       0.28291815, 0.29003559, 0.29003559, 0.29359431, 0.29359431,\n",
       "       0.29715302, 0.29715302, 0.29893238, 0.30427046, 0.30427046,\n",
       "       0.30604982, 0.30782918, 0.3202847 , 0.33807829, 0.34697509,\n",
       "       0.35053381, 0.35053381, 0.35587189, 0.36654804, 0.36654804,\n",
       "       0.37366548, 0.38078292, 0.38434164, 0.38434164, 0.386121  ,\n",
       "       0.386121  , 0.38790036, 0.38967972, 0.39145907, 0.39323843,\n",
       "       0.39323843, 0.39501779, 0.39501779, 0.39857651, 0.40747331,\n",
       "       0.40747331, 0.41103203, 0.41103203, 0.41281139, 0.41281139,\n",
       "       0.43772242, 0.43772242, 0.44128114, 0.44128114, 0.45373665,\n",
       "       0.45373665, 0.46263345, 0.46619217, 0.46797153, 0.46975089,\n",
       "       0.47330961, 0.47330961, 0.48576512, 0.48754448, 0.49466192,\n",
       "       0.50533808, 0.51067616, 0.51245552, 0.51423488, 0.51779359,\n",
       "       0.51779359, 0.51957295, 0.54092527, 0.54092527, 0.54448399,\n",
       "       0.55338078, 0.56227758, 0.5658363 , 0.57651246, 0.58007117,\n",
       "       0.59786477, 0.60142349, 0.60142349, 0.60676157, 0.60676157,\n",
       "       0.62989324, 0.63345196, 0.6405694 , 0.64590747, 0.64768683,\n",
       "       0.67793594, 0.68505338, 0.69039146, 0.69217082, 0.69572954,\n",
       "       0.6975089 , 0.74733096, 0.74911032, 0.75266904, 0.75622776,\n",
       "       0.75622776, 0.76156584, 0.76156584, 0.78291815, 0.78647687,\n",
       "       0.79003559, 0.79003559, 0.8113879 , 0.8113879 , 0.81494662,\n",
       "       0.81850534, 0.82384342, 0.82740214, 0.82918149, 0.83451957,\n",
       "       0.84519573, 0.8594306 , 0.86120996, 0.86120996, 0.86298932,\n",
       "       0.88790036, 0.89145907, 0.89145907, 0.89323843, 0.89679715,\n",
       "       0.89857651, 0.9252669 , 0.92704626, 0.93060498, 0.93238434,\n",
       "       0.98042705, 0.98576512, 1.        ])"
      ]
     },
     "execution_count": 101,
     "metadata": {},
     "output_type": "execute_result"
    }
   ],
   "source": [
    "fpr"
   ]
  },
  {
   "cell_type": "code",
   "execution_count": 153,
   "id": "3a6824a5-0ab3-4070-82d6-393c97f25918",
   "metadata": {},
   "outputs": [],
   "source": [
    "forecast = data20['adldiff'].values"
   ]
  },
  {
   "cell_type": "code",
   "execution_count": 155,
   "id": "3bae52f4-c1a0-4759-89b5-f661dc450a1f",
   "metadata": {},
   "outputs": [
    {
     "data": {
      "text/plain": [
       "(881,)"
      ]
     },
     "execution_count": 155,
     "metadata": {},
     "output_type": "execute_result"
    }
   ],
   "source": [
    "forecast.shape"
   ]
  },
  {
   "cell_type": "code",
   "execution_count": 199,
   "id": "185e9156-b3b7-4cc5-b883-d90b5666a501",
   "metadata": {},
   "outputs": [],
   "source": [
    "# а это y-ки из оставшейся части выборки. к ним как раз и надо применять рекомендации о снитии ограничений на ежедневные активности"
   ]
  }
 ],
 "metadata": {
  "kernelspec": {
   "display_name": "Python 3 (ipykernel)",
   "language": "python",
   "name": "python3"
  },
  "language_info": {
   "codemirror_mode": {
    "name": "ipython",
    "version": 3
   },
   "file_extension": ".py",
   "mimetype": "text/x-python",
   "name": "python",
   "nbconvert_exporter": "python",
   "pygments_lexer": "ipython3",
   "version": "3.12.4"
  }
 },
 "nbformat": 4,
 "nbformat_minor": 5
}
